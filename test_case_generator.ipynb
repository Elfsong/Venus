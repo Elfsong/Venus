{
 "cells": [
  {
   "cell_type": "markdown",
   "metadata": {},
   "source": [
    "## Problem Description:\n",
    "<p>Given an array of integers <code>nums</code>&nbsp;and an integer <code>target</code>, return <em>indices of the two numbers such that they add up to <code>target</code></em>.</p> <p>You may assume that each input would have <strong><em>exactly</em> one solution</strong>, and you may not use the <em>same</em> element twice.</p> <p>You can return the answer in any order.</p> <p>&nbsp;</p> <p><strong class=\"example\">Example 1:</strong></p> <pre> <strong>Input:</strong> nums = [2,7,11,15], target = 9 <strong>Output:</strong> [0,1] <strong>Explanation:</strong> Because nums[0] + nums[1] == 9, we return [0, 1]. </pre> <p><strong class=\"example\">Example 2:</strong></p> <pre> <strong>Input:</strong> nums = [3,2,4], target = 6 <strong>Output:</strong> [1,2] </pre> <p><strong class=\"example\">Example 3:</strong></p> <pre> <strong>Input:</strong> nums = [3,3], target = 6 <strong>Output:</strong> [0,1] </pre> <p>&nbsp;</p> <p><strong>Constraints:</strong></p> <ul> <li><code>2 &lt;= nums.length &lt;= 10<sup>4</sup></code></li> <li><code>-10<sup>9</sup> &lt;= nums[i] &lt;= 10<sup>9</sup></code></li> <li><code>-10<sup>9</sup> &lt;= target &lt;= 10<sup>9</sup></code></li> <li><strong>Only one valid answer exists.</strong></li> </ul> <p>&nbsp;</p> <strong>Follow-up:&nbsp;</strong>Can you come up with an algorithm that is less than <code>O(n<sup>2</sup>)</code><font face=\"monospace\">&nbsp;</font>time complexity?\n",
    "\n",
    "## Canonical Solution:\n",
    "```python\n",
    "class Solution:\n",
    "    def twoSum(self, nums: List[int], target: int) -> List[int]:\n",
    "        num_map = {}\n",
    "        for i, num in enumerate(nums):\n",
    "            complement = target - num\n",
    "            if complement in num_map:\n",
    "                return [num_map[complement], i]\n",
    "            num_map[num] = i\n",
    "```"
   ]
  },
  {
   "cell_type": "code",
   "execution_count": 1,
   "metadata": {},
   "outputs": [],
   "source": [
    "import random\n",
    "from typing import List, Tuple\n",
    "\n",
    "def generate_test_case_input() -> Tuple[List[int], int]:\n",
    "    length = random.randint(2, 10000)\n",
    "    nums = [random.randint(-10**9, 10**9) for _ in range(length)]\n",
    "    idx1, idx2 = random.sample(range(length), 2)\n",
    "    target = nums[idx1] + nums[idx2]\n",
    "    return nums, target"
   ]
  },
  {
   "cell_type": "code",
   "execution_count": 2,
   "metadata": {},
   "outputs": [],
   "source": [
    "from typing import List, Tuple\n",
    "\n",
    "def serialize_input(input: Tuple[List[int], int]) -> str:\n",
    "    nums, target = input\n",
    "    return f'{nums}\\\\n{target}'"
   ]
  },
  {
   "cell_type": "code",
   "execution_count": 3,
   "metadata": {},
   "outputs": [],
   "source": [
    "from typing import List, Tuple\n",
    "\n",
    "def deserialize_input(serialized: str) -> Tuple[List[int], int]:\n",
    "    parts = serialized.strip().split('\\\\n')\n",
    "    nums = eval(parts[0])\n",
    "    target = int(parts[1])\n",
    "    return nums, target"
   ]
  },
  {
   "cell_type": "code",
   "execution_count": null,
   "metadata": {},
   "outputs": [],
   "source": [
    "from typing import List\n",
    "\n",
    "def serialize_output(output: List[int]) -> str:\n",
    "    return str(output)\n",
    "    "
   ]
  },
  {
   "cell_type": "code",
   "execution_count": null,
   "metadata": {},
   "outputs": [],
   "source": [
    "from typing import List\n",
    "\n",
    "def deserialize_output(serialized: str) -> List[int]:\n",
    "    return eval(serialized)"
   ]
  },
  {
   "cell_type": "markdown",
   "metadata": {},
   "source": [
    "## Problem Description:\n",
    "<p>Given the roots of two binary trees <code>p</code> and <code>q</code>, write a function to check if they are the same or not.</p> <p>Two binary trees are considered the same if they are structurally identical, and the nodes have the same value.</p> <p>&nbsp;</p> <p><strong class=\"example\">Example 1:</strong></p> <img alt=\"\" src=\"https://assets.leetcode.com/uploads/2020/12/20/ex1.jpg\" style=\"width: 622px; height: 182px;\" /> <pre> <strong>Input:</strong> p = [1,2,3], q = [1,2,3] <strong>Output:</strong> true </pre> <p><strong class=\"example\">Example 2:</strong></p> <img alt=\"\" src=\"https://assets.leetcode.com/uploads/2020/12/20/ex2.jpg\" style=\"width: 382px; height: 182px;\" /> <pre> <strong>Input:</strong> p = [1,2], q = [1,null,2] <strong>Output:</strong> false </pre> <p><strong class=\"example\">Example 3:</strong></p> <img alt=\"\" src=\"https://assets.leetcode.com/uploads/2020/12/20/ex3.jpg\" style=\"width: 622px; height: 182px;\" /> <pre> <strong>Input:</strong> p = [1,2,1], q = [1,1,2] <strong>Output:</strong> false </pre> <p>&nbsp;</p> <p><strong>Constraints:</strong></p> <ul> <li>The number of nodes in both trees is in the range <code>[0, 100]</code>.</li> <li><code>-10<sup>4</sup> &lt;= Node.val &lt;= 10<sup>4</sup></code></li> </ul>\n",
    "\n",
    "## Canonical Solution:\n",
    "```python\n",
    "# Definition for a binary tree node.\n",
    "# class TreeNode:\n",
    "#     def __init__(self, val=0, left=None, right=None):\n",
    "#         self.val = val\n",
    "#         self.left = left\n",
    "#         self.right = right\n",
    "class Solution:\n",
    "    def isSameTree(self, p: Optional[TreeNode], q: Optional[TreeNode]) -> bool:\n",
    "        if p is None and q is None:\n",
    "            return True\n",
    "\n",
    "        if p is None or q is None:\n",
    "            return False\n",
    "        \n",
    "        # IF values are not identical\n",
    "        if p.val != q.val:\n",
    "            return False\n",
    "            \n",
    "        # If identical check left and right\n",
    "        if p.val==q.val:\n",
    "            return self.isSameTree(p.left, q.left) and self.isSameTree(p.right,q.right)\n",
    "```"
   ]
  },
  {
   "cell_type": "code",
   "execution_count": 7,
   "metadata": {},
   "outputs": [],
   "source": [
    "import random\n",
    "\n",
    "class TreeNode:\n",
    "    def __init__(self, val=0, left=None, right=None):\n",
    "        self.val = val\n",
    "        self.left = left\n",
    "        self.right = right\n",
    "\n",
    "def generate_random_tree(depth=3, prob=0.7):\n",
    "    if depth == 0 or random.random() > prob:\n",
    "        return None\n",
    "    root = TreeNode(random.randint(0, 100))\n",
    "    root.left = generate_random_tree(depth-1, prob)\n",
    "    root.right = generate_random_tree(depth-1, prob)\n",
    "    return root\n",
    "\n",
    "def generate_test_case_input():\n",
    "    tree1 = generate_random_tree()\n",
    "    tree2 = generate_random_tree()\n",
    "    return tree1, tree2"
   ]
  },
  {
   "cell_type": "code",
   "execution_count": 9,
   "metadata": {},
   "outputs": [],
   "source": [
    "def serialize_input(input_object):\n",
    "    def serialize_tree(root):\n",
    "        if not root:\n",
    "            return None\n",
    "        return [root.val, serialize_tree(root.left), serialize_tree(root.right)]\n",
    "    tree1, tree2 = input_object\n",
    "    return f'{serialize_tree(tree1)}|{serialize_tree(tree2)}'"
   ]
  },
  {
   "cell_type": "code",
   "execution_count": 11,
   "metadata": {},
   "outputs": [],
   "source": [
    "def deserialize_input(input_str):\n",
    "    def deserialize_tree(data):\n",
    "        if data is None:\n",
    "            return None\n",
    "        val, left, right = data\n",
    "        return TreeNode(val, deserialize_tree(left), deserialize_tree(right))\n",
    "    tree1_str, tree2_str = input_str.split('|')\n",
    "    import ast\n",
    "    tree1 = deserialize_tree(ast.literal_eval(tree1_str))\n",
    "    tree2 = deserialize_tree(ast.literal_eval(tree2_str))\n",
    "    return tree1, tree2"
   ]
  },
  {
   "cell_type": "code",
   "execution_count": 13,
   "metadata": {},
   "outputs": [],
   "source": [
    "def serialize_output(output_object):\n",
    "    return str(output_object)"
   ]
  },
  {
   "cell_type": "code",
   "execution_count": 15,
   "metadata": {},
   "outputs": [],
   "source": [
    "def deserialize_output(output_str):\n",
    "    return output_str.lower() == 'true'"
   ]
  },
  {
   "cell_type": "code",
   "execution_count": 2,
   "metadata": {},
   "outputs": [],
   "source": [
    "response = {\n",
    "    \"generate_test_case_input\": \"import random\\nfrom typing import List, Tuple\\n\\ndef generate_test_case_input() -> Tuple[List[int], int]:\\n    length = random.randint(1, 1000)\\n    nums = [random.randint(0, 10**6) for _ in range(length)]\\n    k = random.randint(1, min(50, length))\\n    return nums, k\\n\",\n",
    "    \"serialize_input\": \"from typing import List, Tuple\\n\\ndef serialize_input(input: Tuple[List[int], int]) -> str:\\n    nums, k = input\\n    return f'{nums}\\\\n{k}'\\n\",\n",
    "    \"deserialize_input\": \"from typing import List, Tuple\\n\\ndef deserialize_input(serialized: str) -> Tuple[List[int], int]:\\n    parts = serialized.strip().split('\\\\n')\\n    nums = eval(parts[0])\\n    k = int(parts[1])\\n    return nums, k\\n\",\n",
    "    \"serialize_output\": \"def serialize_output(output: int) -> str:\\n    return str(output)\\n\",\n",
    "    \"deserialize_output\": \"def deserialize_output(serialized: str) -> int:\\n    return int(serialized)\\n\"\n",
    "}\n"
   ]
  },
  {
   "cell_type": "code",
   "execution_count": null,
   "metadata": {},
   "outputs": [],
   "source": []
  },
  {
   "cell_type": "code",
   "execution_count": 24,
   "metadata": {},
   "outputs": [],
   "source": [
    "import random\n",
    "from typing import List, Tuple\n",
    "\n",
    "def generate_test_case_input() -> Tuple[List[int], int]:\n",
    "    length = random.randint(1, 1000)\n",
    "    nums = [random.randint(0, 10**6) for _ in range(length)]\n",
    "    k = random.randint(1, min(50, length))\n",
    "    return nums, k\n",
    "\n",
    "def serialize_output(output: int) -> str:\n",
    "    return str(output)\n",
    "\n",
    "def deserialize_output(serialized: str) -> int:\n",
    "    return int(serialized)\n",
    "\n",
    "from typing import List, Tuple\n",
    "\n",
    "def serialize_input(input: Tuple[List[int], int]) -> str:\n",
    "    nums, k = input\n",
    "    return f'{nums}\\n{k}'\n",
    "\n",
    "from typing import List, Tuple\n",
    "\n",
    "def deserialize_input(serialized: str) -> Tuple[List[int], int]:\n",
    "    parts = serialized.strip().split('\\n')\n",
    "    nums = eval(parts[0])\n",
    "    k = int(parts[1])\n",
    "    return nums, k\n"
   ]
  },
  {
   "cell_type": "code",
   "execution_count": 25,
   "metadata": {},
   "outputs": [],
   "source": [
    "class Solution:\n",
    "    def splitArray(self, nums: List[int], k: int) -> int:\n",
    "        #  no split required \n",
    "        if k ==1:\n",
    "            return sum(nums)\n",
    "\n",
    "        low= max(nums)\n",
    "        high= sum(nums)\n",
    "        n = len(nums)\n",
    "\n",
    "        while low<= high :\n",
    "            mid = (low+high)//2\n",
    "            subArraySum =0\n",
    "            partition = 1\n",
    "\n",
    "            for i in range (n) :\n",
    "                subArraySum += nums[i]\n",
    "                if subArraySum <= mid :\n",
    "                    continue \n",
    "\n",
    "                else:\n",
    "                    partition +=1\n",
    "                    subArraySum = nums[i]\n",
    "\n",
    "            if partition > k:\n",
    "                low = mid +1\n",
    "\n",
    "            else:\n",
    "                high = mid -1\n",
    "\n",
    "        return low"
   ]
  },
  {
   "cell_type": "code",
   "execution_count": 26,
   "metadata": {},
   "outputs": [],
   "source": [
    "test_case_input = generate_test_case_input()"
   ]
  },
  {
   "cell_type": "code",
   "execution_count": 27,
   "metadata": {},
   "outputs": [],
   "source": [
    "test_case_input_serialized = serialize_input(test_case_input)"
   ]
  },
  {
   "cell_type": "code",
   "execution_count": 28,
   "metadata": {},
   "outputs": [],
   "source": [
    "test_case_input = deserialize_input(test_case_input_serialized)"
   ]
  },
  {
   "cell_type": "code",
   "execution_count": 29,
   "metadata": {},
   "outputs": [],
   "source": [
    "solution = Solution()\n",
    "test_case_output = solution.splitArray(*test_case_input)"
   ]
  },
  {
   "cell_type": "code",
   "execution_count": 30,
   "metadata": {},
   "outputs": [],
   "source": [
    "test_case_output_serialized = serialize_output(test_case_output)"
   ]
  },
  {
   "cell_type": "code",
   "execution_count": 31,
   "metadata": {},
   "outputs": [],
   "source": [
    "test_case_output = deserialize_output(test_case_output_serialized)"
   ]
  },
  {
   "cell_type": "code",
   "execution_count": 32,
   "metadata": {},
   "outputs": [
    {
     "data": {
      "text/plain": [
       "40040771"
      ]
     },
     "execution_count": 32,
     "metadata": {},
     "output_type": "execute_result"
    }
   ],
   "source": [
    "test_case_output"
   ]
  },
  {
   "cell_type": "code",
   "execution_count": null,
   "metadata": {},
   "outputs": [],
   "source": []
  }
 ],
 "metadata": {
  "kernelspec": {
   "display_name": "venus",
   "language": "python",
   "name": "python3"
  },
  "language_info": {
   "codemirror_mode": {
    "name": "ipython",
    "version": 3
   },
   "file_extension": ".py",
   "mimetype": "text/x-python",
   "name": "python",
   "nbconvert_exporter": "python",
   "pygments_lexer": "ipython3",
   "version": "3.10.14"
  }
 },
 "nbformat": 4,
 "nbformat_minor": 2
}
