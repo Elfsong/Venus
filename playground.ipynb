{
 "cells": [
  {
   "cell_type": "code",
   "execution_count": 2,
   "metadata": {},
   "outputs": [],
   "source": [
    "import pandas as pd\n",
    "from tqdm import tqdm\n",
    "from datasets import load_dataset, concatenate_datasets"
   ]
  },
  {
   "cell_type": "code",
   "execution_count": 7,
   "metadata": {},
   "outputs": [
    {
     "data": {
      "application/vnd.jupyter.widget-view+json": {
       "model_id": "01d1dab7f1bc4641833223e03c3216e7",
       "version_major": 2,
       "version_minor": 0
      },
      "text/plain": [
       "Resolving data files:   0%|          | 0/29 [00:00<?, ?it/s]"
      ]
     },
     "metadata": {},
     "output_type": "display_data"
    }
   ],
   "source": [
    "ds = load_dataset(\"bigcode/starcoderdata\", data_dir=\"html\", split=\"train[:100]\", cache_dir=\"/mnt/disks/venus_data\")"
   ]
  },
  {
   "cell_type": "code",
   "execution_count": 9,
   "metadata": {},
   "outputs": [
    {
     "name": "stderr",
     "output_type": "stream",
     "text": [
      "100%|██████████| 100/100 [00:00<00:00, 14790.55it/s]"
     ]
    },
    {
     "name": "stdout",
     "output_type": "stream",
     "text": [
      "0\n",
      "1\n",
      "2\n",
      "3\n",
      "4\n",
      "5\n",
      "6\n",
      "7\n",
      "8\n",
      "9\n",
      "10\n",
      "11\n",
      "12\n",
      "13\n",
      "14\n",
      "15\n",
      "16\n",
      "17\n",
      "18\n",
      "19\n",
      "20\n",
      "21\n",
      "22\n",
      "23\n",
      "24\n",
      "25\n",
      "26\n",
      "27\n",
      "28\n",
      "29\n",
      "30\n",
      "31\n",
      "32\n",
      "33\n",
      "34\n",
      "35\n",
      "36\n",
      "37\n",
      "38\n",
      "39\n",
      "40\n",
      "41\n",
      "42\n",
      "43\n",
      "44\n",
      "45\n",
      "46\n",
      "47\n",
      "48\n",
      "49\n",
      "50\n",
      "51\n",
      "52\n",
      "53\n",
      "54\n",
      "55\n",
      "56\n",
      "57\n",
      "58\n",
      "59\n",
      "60\n",
      "61\n",
      "62\n",
      "63\n",
      "64\n",
      "65\n",
      "66\n",
      "67\n",
      "68\n",
      "69\n",
      "70\n",
      "71\n",
      "72\n",
      "73\n",
      "74\n",
      "75\n",
      "76\n",
      "77\n",
      "78\n",
      "79\n",
      "80\n",
      "81\n",
      "82\n",
      "83\n",
      "84\n",
      "85\n",
      "86\n",
      "87\n",
      "88\n",
      "89\n",
      "90\n",
      "91\n",
      "92\n",
      "93\n",
      "94\n",
      "95\n",
      "96\n",
      "97\n",
      "98\n",
      "99\n"
     ]
    },
    {
     "name": "stderr",
     "output_type": "stream",
     "text": [
      "\n"
     ]
    }
   ],
   "source": [
    "for instance in tqdm(ds):\n",
    "    print(instance['id'])"
   ]
  },
  {
   "cell_type": "code",
   "execution_count": 11,
   "metadata": {},
   "outputs": [],
   "source": [
    "import csv\n",
    "\n",
    "def append_dicts_to_csv(file_path, dict_list, fieldnames):\n",
    "    \"\"\"\n",
    "    Append a list of dictionaries to a CSV file.\n",
    "\n",
    "    :param file_path: Path to the CSV file\n",
    "    :param dict_list: List of dictionaries to append\n",
    "    :param fieldnames: List of field names (CSV header)\n",
    "    \"\"\"\n",
    "    # Open the file in append mode\n",
    "    with open(file_path, mode='a', newline='') as csv_file:\n",
    "        writer = csv.DictWriter(csv_file, fieldnames=fieldnames)\n",
    "\n",
    "        # If the file is empty, write the header\n",
    "        csv_file.seek(0, 2)  # Move the cursor to the end of the file\n",
    "        if csv_file.tell() == 0:\n",
    "            writer.writeheader()\n",
    "\n",
    "        # Write the rows\n",
    "        for data_dict in dict_list:\n",
    "            writer.writerow(data_dict)\n",
    "\n",
    "# Example usage\n",
    "file_path = 'output.csv'\n",
    "dict_list = [\n",
    "    {'name': 'Alice', 'age': 30, 'city': 'New York'},\n",
    "    {'name': 'Bob', 'age': 25, 'city': 'San Francisco'},\n",
    "]\n",
    "fieldnames = ['name', 'age', 'city']\n",
    "\n",
    "append_dicts_to_csv(file_path, dict_list, fieldnames)\n"
   ]
  },
  {
   "cell_type": "code",
   "execution_count": 12,
   "metadata": {},
   "outputs": [],
   "source": [
    "mock_data = list()\n",
    "\n",
    "for i in range(10):\n",
    "    mock_data += [\n",
    "        {\n",
    "            \"problem_description\": \"lalala\",\n",
    "            \"test_case_generator\": \"lalala\",\n",
    "            \"test_cases\": \"lalala\",\n",
    "        }\n",
    "    ]"
   ]
  },
  {
   "cell_type": "code",
   "execution_count": 13,
   "metadata": {},
   "outputs": [],
   "source": [
    "import datasets"
   ]
  },
  {
   "cell_type": "code",
   "execution_count": 16,
   "metadata": {},
   "outputs": [],
   "source": [
    "ds = datasets.Dataset.from_list(mock_data)"
   ]
  },
  {
   "cell_type": "code",
   "execution_count": 19,
   "metadata": {},
   "outputs": [
    {
     "data": {
      "application/vnd.jupyter.widget-view+json": {
       "model_id": "db72af6fcf1e44acb6dd6aeab11c29a8",
       "version_major": 2,
       "version_minor": 0
      },
      "text/plain": [
       "Uploading the dataset shards:   0%|          | 0/1 [00:00<?, ?it/s]"
      ]
     },
     "metadata": {},
     "output_type": "display_data"
    },
    {
     "data": {
      "application/vnd.jupyter.widget-view+json": {
       "model_id": "f23533859fb546e1ab2b5d5f6fc8d50d",
       "version_major": 2,
       "version_minor": 0
      },
      "text/plain": [
       "Creating parquet from Arrow format:   0%|          | 0/1 [00:00<?, ?ba/s]"
      ]
     },
     "metadata": {},
     "output_type": "display_data"
    },
    {
     "data": {
      "text/plain": [
       "CommitInfo(commit_url='https://huggingface.co/datasets/Elfsong/Venus/commit/2b918f6f884594741c6e718364d7459be26782d7', commit_message='Upload dataset', commit_description='', oid='2b918f6f884594741c6e718364d7459be26782d7', pr_url=None, pr_revision=None, pr_num=None)"
      ]
     },
     "execution_count": 19,
     "metadata": {},
     "output_type": "execute_result"
    }
   ],
   "source": [
    "ds.push_to_hub(\"Elfsong/Venus\")"
   ]
  },
  {
   "cell_type": "code",
   "execution_count": 1,
   "metadata": {},
   "outputs": [],
   "source": [
    "import memray"
   ]
  },
  {
   "cell_type": "code",
   "execution_count": 2,
   "metadata": {},
   "outputs": [
    {
     "name": "stderr",
     "output_type": "stream",
     "text": [
      "Memray WARNING: Correcting symbol for aligned_alloc from 0x7fc3f86575e0 to 0x7fc40ce52550\n"
     ]
    }
   ],
   "source": [
    "with memray.Tracker(\"output.bin\"):\n",
    "    def fibonacci(length):\n",
    "        # edge cases\n",
    "        if length < 1:\n",
    "            return []\n",
    "        if length == 1:\n",
    "            return [1]\n",
    "        if length == 2:\n",
    "            return [1, 1]\n",
    "\n",
    "        output = [1, 1]\n",
    "\n",
    "        for i in range(length - 2):\n",
    "            output.append(output[i] + output[i + 1])  # <- Here!\n",
    "\n",
    "        return output\n",
    "    \n",
    "    fibonacci(64)"
   ]
  },
  {
   "cell_type": "code",
   "execution_count": 15,
   "metadata": {},
   "outputs": [
    {
     "name": "stdout",
     "output_type": "stream",
     "text": [
      "Memory used: 3799 bytes\n"
     ]
    }
   ],
   "source": [
    "from guppy import hpy\n",
    "\n",
    "h = hpy()\n",
    "heap_status1 = h.heap()\n",
    "\n",
    "def my_function():\n",
    "    a = [1] * 10000000\n",
    "    b = [0] * 2000000\n",
    "    return a, b\n",
    "\n",
    "my_function()\n",
    "\n",
    "heap_status2 = h.heap()\n",
    "\n",
    "print(f\"Memory used: {heap_status2.size - heap_status1.size} bytes\")\n"
   ]
  },
  {
   "cell_type": "code",
   "execution_count": 1,
   "metadata": {},
   "outputs": [
    {
     "name": "stdout",
     "output_type": "stream",
     "text": [
      "Current memory usage: 0.001 MB; Peak: 80.00061 MB\n"
     ]
    }
   ],
   "source": [
    "import tracemalloc\n",
    "\n",
    "def my_function():\n",
    "    a = [0] * 10000000\n",
    "    return a\n",
    "\n",
    "tracemalloc.start()\n",
    "\n",
    "my_function()\n",
    "\n",
    "current, peak = tracemalloc.get_traced_memory()\n",
    "print(f\"Current memory usage: {current / 10**6} MB; Peak: {peak / 10**6} MB\")\n",
    "\n",
    "tracemalloc.stop()\n"
   ]
  },
  {
   "cell_type": "code",
   "execution_count": 3,
   "metadata": {},
   "outputs": [],
   "source": [
    "from datasets import load_dataset\n",
    "\n",
    "ds = load_dataset(\"Elfsong/Afterburner_code_correction\", \"469c00b0-6c2d-11ef-a1aa-42010a94000c\")"
   ]
  },
  {
   "cell_type": "code",
   "execution_count": 4,
   "metadata": {},
   "outputs": [
    {
     "data": {
      "text/plain": [
       "{'messages': [{'code_mem': None,\n",
       "   'code_time': None,\n",
       "   'content': 'You are a code expert. Generate pure code for code fields.',\n",
       "   'label': 'system_prompt',\n",
       "   'mem': None,\n",
       "   'role': 'system',\n",
       "   'status': None,\n",
       "   'time': None,\n",
       "   'traceback': None},\n",
       "  {'code_mem': None,\n",
       "   'code_time': None,\n",
       "   'content': 'Given the problem and the test case generator, generate a Python Solution.\\nProblem: You need to create a function that parses a blog post metadata and body from a provided text input. The input will be a string containing the metadata and body of a blog post in the following format:\\\\n```\\\\nprefix = \"/\"\\\\n\\\\nif language is None: \\\\n    qs_lang = doc.query.getfirst(\"lang\")\\\\n    if qs_lang and qs_lang in [\"en\", \"fr\", \"es\"]: \\\\n        has_req = Truetitle: My Fifth Post\\\\nexcerpt: Lorem, ipsum dolor sit amet consectetur adipisicing elit.\\\\ndate: 2021-07-07\\\\nslug: my-fourth-post\\\\n---\\\\n\\\\n<p>\\\\n    Lorem, ipsum dolor sit amet consectetur adipisicing elit. Molestias maiores ullam quia! Eaque esse, possimus cum voluptatum aliquid, laborum, a similique fugiat non suscipit quisquam architecto incidunt tempora veritatis ipsa?\\\\n```\\\\n\\\\nYour task is to extract the metadata and body. The metadata includes the title, excerpt, date, and slug. The body includes the HTML content. Return the metadata and body in a tuple.\\\\n\\\\n__Input__:\\\\n- A single string containing the blog post metadata and body.\\\\n\\\\n__Output__:\\\\n- A tuple containing the metadata (as a dictionary) and the body (as a string).\\\\n\\\\n__Example__:\\\\n```\\\\nInput: \\'title: My Fifth Post\\\\nexcerpt: Lorem, ipsum dolor sit amet consectetur adipisicing elit.\\\\ndate: 2021-07-07\\\\nslug: my-fourth-post\\\\n---\\\\n\\\\n<p>\\\\n    Lorem, ipsum dolor sit amet consectetur adipisicing elit. Molestias maiores ullam quia! Eaque esse, possimus cum voluptatum aliquid, laborum, a similique fugiat non suscipit quisquam architecto incidunt tempora veritatis ipsa?\\\\n\\'\\\\n\\\\nOutput: ({\\'title\\': \\'My Fifth Post\\', \\'excerpt\\': \\'Lorem, ipsum dolor sit amet consectetur adipisicing elit.\\', \\'date\\': \\'2021-07-07\\', \\'slug\\': \\'my-fourth-post\\'}, \\'<p>\\\\n    Lorem, ipsum dolor sit amet consectetur adipisicing elit. Molestias maiores ullam quia! Eaque esse, possimus cum voluptatum aliquid, laborum, a similique fugiat non suscipit quisquam architecto incidunt tempora veritatis ipsa?\\\\n\\')\\\\n```\\nTest Case Generator: import random\\n\\ndef generate_test_case():\\n    titles = [\"My First Post\", \"Another Great Post\", \"Yet Another Post\"]\\n    excerpts = [\"This is an excerpt.\", \"Another excerpt.\", \"More excerpts.\"]\\n    dates = [\"2021-01-01\", \"2021-06-15\", \"2021-12-31\"]\\n    slugs = [\"my-first-post\", \"another-great-post\", \"yet-another-post\"]\\n    bodies = [\"<p>Content of the first post.</p>\", \"<p>Content of another post.</p>\", \"<p>Yet more content.</p>\"]\\n\\n    title = random.choice(titles)\\n    excerpt = random.choice(excerpts)\\n    date = random.choice(dates)\\n    slug = random.choice(slugs)\\n    body = random.choice(bodies)\\n\\n    meta_data = f\\'title: {title}\\\\nexcerpt: {excerpt}\\\\ndate: {date}\\\\nslug: {slug}\\\\n---\\\\n\\\\n\\'\\n    return (meta_data + body,)\\n',\n",
       "   'label': 'problem',\n",
       "   'mem': None,\n",
       "   'role': 'user',\n",
       "   'status': None,\n",
       "   'time': None,\n",
       "   'traceback': None},\n",
       "  {'code_mem': 7449613.0,\n",
       "   'code_time': 0.0063250064849853516,\n",
       "   'content': \"def parse_blog_post(text):\\n    metadata_end_idx = text.find('---')\\n    metadata_lines = text[:metadata_end_idx].strip().split('\\\\n')\\n    metadata = {}\\n    for line in metadata_lines:\\n        key, value = line.split(': ', 1)\\n        metadata[key.strip()] = value.strip()\\n    body = text[metadata_end_idx+3:].strip()\\n    return metadata, body\",\n",
       "   'label': 'solution',\n",
       "   'mem': None,\n",
       "   'role': 'assistant',\n",
       "   'status': 'success',\n",
       "   'time': None,\n",
       "   'traceback': 'None'}],\n",
       " 'entry_point': 'parse_blog_post',\n",
       " 'test_case_generator': 'import random\\n\\ndef generate_test_case():\\n    titles = [\"My First Post\", \"Another Great Post\", \"Yet Another Post\"]\\n    excerpts = [\"This is an excerpt.\", \"Another excerpt.\", \"More excerpts.\"]\\n    dates = [\"2021-01-01\", \"2021-06-15\", \"2021-12-31\"]\\n    slugs = [\"my-first-post\", \"another-great-post\", \"yet-another-post\"]\\n    bodies = [\"<p>Content of the first post.</p>\", \"<p>Content of another post.</p>\", \"<p>Yet more content.</p>\"]\\n\\n    title = random.choice(titles)\\n    excerpt = random.choice(excerpts)\\n    date = random.choice(dates)\\n    slug = random.choice(slugs)\\n    body = random.choice(bodies)\\n\\n    meta_data = f\\'title: {title}\\\\nexcerpt: {excerpt}\\\\ndate: {date}\\\\nslug: {slug}\\\\n---\\\\n\\\\n\\'\\n    return (meta_data + body,)\\n'}"
      ]
     },
     "execution_count": 4,
     "metadata": {},
     "output_type": "execute_result"
    }
   ],
   "source": [
    "ds[\"train\"][2]"
   ]
  },
  {
   "cell_type": "code",
   "execution_count": 3,
   "metadata": {},
   "outputs": [],
   "source": [
    "instance = dict(hello=\"world\")"
   ]
  },
  {
   "cell_type": "code",
   "execution_count": 4,
   "metadata": {},
   "outputs": [],
   "source": [
    "def tt(instance):\n",
    "    instance[\"lalala\"] = \"lala\""
   ]
  },
  {
   "cell_type": "code",
   "execution_count": 5,
   "metadata": {},
   "outputs": [
    {
     "data": {
      "text/plain": [
       "{'hello': 'world'}"
      ]
     },
     "execution_count": 5,
     "metadata": {},
     "output_type": "execute_result"
    }
   ],
   "source": [
    "instance"
   ]
  },
  {
   "cell_type": "code",
   "execution_count": 6,
   "metadata": {},
   "outputs": [],
   "source": [
    "tt(instance)"
   ]
  },
  {
   "cell_type": "code",
   "execution_count": 7,
   "metadata": {},
   "outputs": [
    {
     "data": {
      "text/plain": [
       "{'hello': 'world', 'lalala': 'lala'}"
      ]
     },
     "execution_count": 7,
     "metadata": {},
     "output_type": "execute_result"
    }
   ],
   "source": [
    "instance"
   ]
  },
  {
   "cell_type": "code",
   "execution_count": 1,
   "metadata": {},
   "outputs": [
    {
     "data": {
      "application/vnd.jupyter.widget-view+json": {
       "model_id": "e784483c476a4c08ac3cece52c0a7429",
       "version_major": 2,
       "version_minor": 0
      },
      "text/plain": [
       "Downloading readme:   0%|          | 0.00/1.92k [00:00<?, ?B/s]"
      ]
     },
     "metadata": {},
     "output_type": "display_data"
    },
    {
     "data": {
      "application/vnd.jupyter.widget-view+json": {
       "model_id": "ddb3d0ecb6b44dc7abd66d9c5551910f",
       "version_major": 2,
       "version_minor": 0
      },
      "text/plain": [
       "Downloading data:   0%|          | 0.00/227k [00:00<?, ?B/s]"
      ]
     },
     "metadata": {},
     "output_type": "display_data"
    },
    {
     "data": {
      "application/vnd.jupyter.widget-view+json": {
       "model_id": "8262ccdacdd847fa8db16e63a35b36a9",
       "version_major": 2,
       "version_minor": 0
      },
      "text/plain": [
       "Generating train split:   0%|          | 0/5 [00:00<?, ? examples/s]"
      ]
     },
     "metadata": {},
     "output_type": "display_data"
    }
   ],
   "source": [
    "from datasets import load_dataset\n",
    "\n",
    "ds = load_dataset(\"Elfsong/Afterburner_New\", \"20aee4ae-6dc6-11ef-b0d1-42010a94000c\")"
   ]
  },
  {
   "cell_type": "code",
   "execution_count": 3,
   "metadata": {},
   "outputs": [
    {
     "data": {
      "text/plain": [
       "{'messages': [{'content': 'You are a code expert. You always respond in Json format.',\n",
       "   'role': 'system'},\n",
       "  {'content': 'Given the problem description and test case generator, generate a Python solution.\\n**Problem:** # Problem Description\\n\\nYou are given a dictionary representing a translated menu in different languages (`trans_menu`) and an input that describes keys and their associated URLs. You need to generate HTML code snippets based on these inputs using the specified template. The function should process each key in the input and generate the corresponding HTML snippet.\\n\\n## Input\\n- `key`: A string representing the key associated with a menu item.\\n- `href`: A string representing the URL to be appended with the appropriate language.\\n- `language`: A string representing the language code to be appended to the URL.\\n- `trans_menu`: A dictionary where each key is in the format \\'menu_<key>\\' and the value is a dictionary mapping language codes to translated menu item names.\\n\\n## Output\\n- A string containing the HTML snippet for the given key, URL, and language combination.\\n\\n## Examples\\n\\n```python\\nInput: (\\'home\\', \\'http://example.com\\', \\'en\\', {\\'menu_home\\': {\\'en\\': \\'Home\\', \\'es\\': \\'Inicio\\'}, \\'menu_about\\': {\\'en\\': \\'About\\', \\'es\\': \\'Acerca\\'}})\\nOutput: \\'<td class=\"logo\"><a href=\"http://example.com?lang=en\"><img src=\"/brython.svg\" class=\"logo\"></a></td>\\'\\n\\nInput: (\\'about\\', \\'http://example.com\\', \\'es\\', {\\'menu_home\\': {\\'en\\': \\'Home\\', \\'es\\': \\'Inicio\\'}, \\'menu_about\\': {\\'en\\': \\'About\\', \\'es\\': \\'Acerca\\'}})\\nOutput: \\'<a class=\"banner\" href=\"http://example.com?lang=es\">Acerca</a>\\'\\n```\\n\\n## Constraints\\n- All input strings have a maximum length of 100 characters.\\n- The `trans_menu` dictionary does not contain more than 100 keys.\\n- Language codes are always two lowercase letters. \\n**Test Case Generator:** import random\\n\\ndef generate_test_case():\\n    keys = [\\'home\\', \\'about\\', \\'contact\\']\\n    languages = [\\'en\\', \\'es\\', \\'fr\\']\\n    key = random.choice(keys)\\n    href = \\'http://example.com\\'\\n    language = random.choice(languages)\\n    trans_menu = {\\n        \\'menu_home\\': {\\'en\\': \\'Home\\', \\'es\\': \\'Inicio\\', \\'fr\\': \\'Accueil\\'},\\n        \\'menu_about\\': {\\'en\\': \\'About\\', \\'es\\': \\'Acerca\\', \\'fr\\': \\'À Propos\\'},\\n        \\'menu_contact\\': {\\'en\\': \\'Contact\\', \\'es\\': \\'Contacto\\', \\'fr\\': \\'Contact\\'},\\n    }\\n    return (key, href, language, trans_menu)',\n",
       "   'role': 'user'},\n",
       "  {'content': 'def solution(key, href, language, trans_menu):\\n    href += \\'?lang=%s\\' % language\\n    if key == \\'home\\':\\n        img = \\'<img src=\"/brython.svg\" class=\"logo\">\\'\\n        link = \\'<a href=\"%s\">%s</a>\\' % (href, img)\\n        cell = \\'<td class=\"logo\">%s</td>\\' % link\\n        return cell\\n    else:\\n        link_text = trans_menu[\\'menu_%s\\' % key][language]\\n        link = \\'<a class=\"banner\" href=\"%s\">%s</a>\\' % (href, link_text)\\n        return link',\n",
       "   'role': 'assistant'}],\n",
       " 'meta_info': {'full_test_case_generator': \"import random\\nimport string\\n\\n\\ndef generate_test_case():\\n    possible_keys = [''.join(random.choices(string.ascii_lowercase, k=random.randint(3, 10))) for _ in range(10)]\\n    keys = random.choices(possible_keys, k=random.randint(1, 10))\\n    languages = [''.join(random.choices(string.ascii_lowercase, k=2)) for _ in range(5)]\\n    key = random.choice(keys)\\n    href = 'http://' + ''.join(random.choices(string.ascii_lowercase + string.digits, k=10)) + '.com'\\n    language = random.choice(languages)\\n    trans_menu = {f'menu_{k}': {lang: ''.join(random.choices(string.ascii_lowercase, k=random.randint(5, 10))) for lang in languages} for k, lang in zip(keys, languages)}\\n    return (key, href, language, trans_menu)\",\n",
       "  'problem_description': '# Problem Description\\n\\nYou are given a dictionary representing a translated menu in different languages (`trans_menu`) and an input that describes keys and their associated URLs. You need to generate HTML code snippets based on these inputs using the specified template. The function should process each key in the input and generate the corresponding HTML snippet.\\n\\n## Input\\n- `key`: A string representing the key associated with a menu item.\\n- `href`: A string representing the URL to be appended with the appropriate language.\\n- `language`: A string representing the language code to be appended to the URL.\\n- `trans_menu`: A dictionary where each key is in the format \\'menu_<key>\\' and the value is a dictionary mapping language codes to translated menu item names.\\n\\n## Output\\n- A string containing the HTML snippet for the given key, URL, and language combination.\\n\\n## Examples\\n\\n```python\\nInput: (\\'home\\', \\'http://example.com\\', \\'en\\', {\\'menu_home\\': {\\'en\\': \\'Home\\', \\'es\\': \\'Inicio\\'}, \\'menu_about\\': {\\'en\\': \\'About\\', \\'es\\': \\'Acerca\\'}})\\nOutput: \\'<td class=\"logo\"><a href=\"http://example.com?lang=en\"><img src=\"/brython.svg\" class=\"logo\"></a></td>\\'\\n\\nInput: (\\'about\\', \\'http://example.com\\', \\'es\\', {\\'menu_home\\': {\\'en\\': \\'Home\\', \\'es\\': \\'Inicio\\'}, \\'menu_about\\': {\\'en\\': \\'About\\', \\'es\\': \\'Acerca\\'}})\\nOutput: \\'<a class=\"banner\" href=\"http://example.com?lang=es\">Acerca</a>\\'\\n```\\n\\n## Constraints\\n- All input strings have a maximum length of 100 characters.\\n- The `trans_menu` dictionary does not contain more than 100 keys.\\n- Language codes are always two lowercase letters.',\n",
       "  'simple_test_case_generator': \"import random\\n\\ndef generate_test_case():\\n    keys = ['home', 'about', 'contact']\\n    languages = ['en', 'es', 'fr']\\n    key = random.choice(keys)\\n    href = 'http://example.com'\\n    language = random.choice(languages)\\n    trans_menu = {\\n        'menu_home': {'en': 'Home', 'es': 'Inicio', 'fr': 'Accueil'},\\n        'menu_about': {'en': 'About', 'es': 'Acerca', 'fr': 'À Propos'},\\n        'menu_contact': {'en': 'Contact', 'es': 'Contacto', 'fr': 'Contact'},\\n    }\\n    return (key, href, language, trans_menu)\",\n",
       "  'test_cases': [b'\\x80\\x04\\x95\\x1d\\x01\\x00\\x00\\x00\\x00\\x00\\x00}\\x94(\\x8c\\x05input\\x94(\\x8c\\x05about\\x94\\x8c\\x12http://example.com\\x94\\x8c\\x02fr\\x94}\\x94(\\x8c\\tmenu_home\\x94}\\x94(\\x8c\\x02en\\x94\\x8c\\x04Home\\x94\\x8c\\x02es\\x94\\x8c\\x06Inicio\\x94h\\x04\\x8c\\x07Accueil\\x94u\\x8c\\nmenu_about\\x94}\\x94(h\\x08\\x8c\\x05About\\x94h\\n\\x8c\\x06Acerca\\x94h\\x04\\x8c\\t\\xc3\\x80 Propos\\x94u\\x8c\\x0cmenu_contact\\x94}\\x94(h\\x08\\x8c\\x07Contact\\x94h\\n\\x8c\\x08Contacto\\x94h\\x04h\\x14uut\\x94\\x8c\\x06output\\x94\\x8cA<a class=\"banner\" href=\"http://example.com?lang=fr\">\\xc3\\x80 Propos</a>\\x94u.',\n",
       "   b'\\x80\\x04\\x95\\x1d\\x01\\x00\\x00\\x00\\x00\\x00\\x00}\\x94(\\x8c\\x05input\\x94(\\x8c\\x07contact\\x94\\x8c\\x12http://example.com\\x94\\x8c\\x02en\\x94}\\x94(\\x8c\\tmenu_home\\x94}\\x94(h\\x04\\x8c\\x04Home\\x94\\x8c\\x02es\\x94\\x8c\\x06Inicio\\x94\\x8c\\x02fr\\x94\\x8c\\x07Accueil\\x94u\\x8c\\nmenu_about\\x94}\\x94(h\\x04\\x8c\\x05About\\x94h\\t\\x8c\\x06Acerca\\x94h\\x0b\\x8c\\t\\xc3\\x80 Propos\\x94u\\x8c\\x0cmenu_contact\\x94}\\x94(h\\x04\\x8c\\x07Contact\\x94h\\t\\x8c\\x08Contacto\\x94h\\x0bh\\x14uut\\x94\\x8c\\x06output\\x94\\x8c?<a class=\"banner\" href=\"http://example.com?lang=en\">Contact</a>\\x94u.',\n",
       "   b'\\x80\\x04\\x95\\x1a\\x01\\x00\\x00\\x00\\x00\\x00\\x00}\\x94(\\x8c\\x05input\\x94(\\x8c\\x05about\\x94\\x8c\\x12http://example.com\\x94\\x8c\\x02es\\x94}\\x94(\\x8c\\tmenu_home\\x94}\\x94(\\x8c\\x02en\\x94\\x8c\\x04Home\\x94h\\x04\\x8c\\x06Inicio\\x94\\x8c\\x02fr\\x94\\x8c\\x07Accueil\\x94u\\x8c\\nmenu_about\\x94}\\x94(h\\x08\\x8c\\x05About\\x94h\\x04\\x8c\\x06Acerca\\x94h\\x0b\\x8c\\t\\xc3\\x80 Propos\\x94u\\x8c\\x0cmenu_contact\\x94}\\x94(h\\x08\\x8c\\x07Contact\\x94h\\x04\\x8c\\x08Contacto\\x94h\\x0bh\\x14uut\\x94\\x8c\\x06output\\x94\\x8c><a class=\"banner\" href=\"http://example.com?lang=es\">Acerca</a>\\x94u.',\n",
       "   b'\\x80\\x04\\x95?\\x01\\x00\\x00\\x00\\x00\\x00\\x00}\\x94(\\x8c\\x05input\\x94(\\x8c\\x04home\\x94\\x8c\\x12http://example.com\\x94\\x8c\\x02es\\x94}\\x94(\\x8c\\tmenu_home\\x94}\\x94(\\x8c\\x02en\\x94\\x8c\\x04Home\\x94h\\x04\\x8c\\x06Inicio\\x94\\x8c\\x02fr\\x94\\x8c\\x07Accueil\\x94u\\x8c\\nmenu_about\\x94}\\x94(h\\x08\\x8c\\x05About\\x94h\\x04\\x8c\\x06Acerca\\x94h\\x0b\\x8c\\t\\xc3\\x80 Propos\\x94u\\x8c\\x0cmenu_contact\\x94}\\x94(h\\x08\\x8c\\x07Contact\\x94h\\x04\\x8c\\x08Contacto\\x94h\\x0bh\\x14uut\\x94\\x8c\\x06output\\x94\\x8cd<td class=\"logo\"><a href=\"http://example.com?lang=es\"><img src=\"/brython.svg\" class=\"logo\"></a></td>\\x94u.',\n",
       "   b'\\x80\\x04\\x95\\x1a\\x01\\x00\\x00\\x00\\x00\\x00\\x00}\\x94(\\x8c\\x05input\\x94(\\x8c\\x05about\\x94\\x8c\\x12http://example.com\\x94\\x8c\\x02es\\x94}\\x94(\\x8c\\tmenu_home\\x94}\\x94(\\x8c\\x02en\\x94\\x8c\\x04Home\\x94h\\x04\\x8c\\x06Inicio\\x94\\x8c\\x02fr\\x94\\x8c\\x07Accueil\\x94u\\x8c\\nmenu_about\\x94}\\x94(h\\x08\\x8c\\x05About\\x94h\\x04\\x8c\\x06Acerca\\x94h\\x0b\\x8c\\t\\xc3\\x80 Propos\\x94u\\x8c\\x0cmenu_contact\\x94}\\x94(h\\x08\\x8c\\x07Contact\\x94h\\x04\\x8c\\x08Contacto\\x94h\\x0bh\\x14uut\\x94\\x8c\\x06output\\x94\\x8c><a class=\"banner\" href=\"http://example.com?lang=es\">Acerca</a>\\x94u.',\n",
       "   b'\\x80\\x04\\x95\\x1d\\x01\\x00\\x00\\x00\\x00\\x00\\x00}\\x94(\\x8c\\x05input\\x94(\\x8c\\x07contact\\x94\\x8c\\x12http://example.com\\x94\\x8c\\x02fr\\x94}\\x94(\\x8c\\tmenu_home\\x94}\\x94(\\x8c\\x02en\\x94\\x8c\\x04Home\\x94\\x8c\\x02es\\x94\\x8c\\x06Inicio\\x94h\\x04\\x8c\\x07Accueil\\x94u\\x8c\\nmenu_about\\x94}\\x94(h\\x08\\x8c\\x05About\\x94h\\n\\x8c\\x06Acerca\\x94h\\x04\\x8c\\t\\xc3\\x80 Propos\\x94u\\x8c\\x0cmenu_contact\\x94}\\x94(h\\x08\\x8c\\x07Contact\\x94h\\n\\x8c\\x08Contacto\\x94h\\x04h\\x14uut\\x94\\x8c\\x06output\\x94\\x8c?<a class=\"banner\" href=\"http://example.com?lang=fr\">Contact</a>\\x94u.',\n",
       "   b'\\x80\\x04\\x95?\\x01\\x00\\x00\\x00\\x00\\x00\\x00}\\x94(\\x8c\\x05input\\x94(\\x8c\\x04home\\x94\\x8c\\x12http://example.com\\x94\\x8c\\x02es\\x94}\\x94(\\x8c\\tmenu_home\\x94}\\x94(\\x8c\\x02en\\x94\\x8c\\x04Home\\x94h\\x04\\x8c\\x06Inicio\\x94\\x8c\\x02fr\\x94\\x8c\\x07Accueil\\x94u\\x8c\\nmenu_about\\x94}\\x94(h\\x08\\x8c\\x05About\\x94h\\x04\\x8c\\x06Acerca\\x94h\\x0b\\x8c\\t\\xc3\\x80 Propos\\x94u\\x8c\\x0cmenu_contact\\x94}\\x94(h\\x08\\x8c\\x07Contact\\x94h\\x04\\x8c\\x08Contacto\\x94h\\x0bh\\x14uut\\x94\\x8c\\x06output\\x94\\x8cd<td class=\"logo\"><a href=\"http://example.com?lang=es\"><img src=\"/brython.svg\" class=\"logo\"></a></td>\\x94u.',\n",
       "   b'\\x80\\x04\\x95\\x1d\\x01\\x00\\x00\\x00\\x00\\x00\\x00}\\x94(\\x8c\\x05input\\x94(\\x8c\\x05about\\x94\\x8c\\x12http://example.com\\x94\\x8c\\x02fr\\x94}\\x94(\\x8c\\tmenu_home\\x94}\\x94(\\x8c\\x02en\\x94\\x8c\\x04Home\\x94\\x8c\\x02es\\x94\\x8c\\x06Inicio\\x94h\\x04\\x8c\\x07Accueil\\x94u\\x8c\\nmenu_about\\x94}\\x94(h\\x08\\x8c\\x05About\\x94h\\n\\x8c\\x06Acerca\\x94h\\x04\\x8c\\t\\xc3\\x80 Propos\\x94u\\x8c\\x0cmenu_contact\\x94}\\x94(h\\x08\\x8c\\x07Contact\\x94h\\n\\x8c\\x08Contacto\\x94h\\x04h\\x14uut\\x94\\x8c\\x06output\\x94\\x8cA<a class=\"banner\" href=\"http://example.com?lang=fr\">\\xc3\\x80 Propos</a>\\x94u.',\n",
       "   b'\\x80\\x04\\x95\\x1d\\x01\\x00\\x00\\x00\\x00\\x00\\x00}\\x94(\\x8c\\x05input\\x94(\\x8c\\x05about\\x94\\x8c\\x12http://example.com\\x94\\x8c\\x02fr\\x94}\\x94(\\x8c\\tmenu_home\\x94}\\x94(\\x8c\\x02en\\x94\\x8c\\x04Home\\x94\\x8c\\x02es\\x94\\x8c\\x06Inicio\\x94h\\x04\\x8c\\x07Accueil\\x94u\\x8c\\nmenu_about\\x94}\\x94(h\\x08\\x8c\\x05About\\x94h\\n\\x8c\\x06Acerca\\x94h\\x04\\x8c\\t\\xc3\\x80 Propos\\x94u\\x8c\\x0cmenu_contact\\x94}\\x94(h\\x08\\x8c\\x07Contact\\x94h\\n\\x8c\\x08Contacto\\x94h\\x04h\\x14uut\\x94\\x8c\\x06output\\x94\\x8cA<a class=\"banner\" href=\"http://example.com?lang=fr\">\\xc3\\x80 Propos</a>\\x94u.',\n",
       "   b'\\x80\\x04\\x95\\x1d\\x01\\x00\\x00\\x00\\x00\\x00\\x00}\\x94(\\x8c\\x05input\\x94(\\x8c\\x07contact\\x94\\x8c\\x12http://example.com\\x94\\x8c\\x02fr\\x94}\\x94(\\x8c\\tmenu_home\\x94}\\x94(\\x8c\\x02en\\x94\\x8c\\x04Home\\x94\\x8c\\x02es\\x94\\x8c\\x06Inicio\\x94h\\x04\\x8c\\x07Accueil\\x94u\\x8c\\nmenu_about\\x94}\\x94(h\\x08\\x8c\\x05About\\x94h\\n\\x8c\\x06Acerca\\x94h\\x04\\x8c\\t\\xc3\\x80 Propos\\x94u\\x8c\\x0cmenu_contact\\x94}\\x94(h\\x08\\x8c\\x07Contact\\x94h\\n\\x8c\\x08Contacto\\x94h\\x04h\\x14uut\\x94\\x8c\\x06output\\x94\\x8c?<a class=\"banner\" href=\"http://example.com?lang=fr\">Contact</a>\\x94u.',\n",
       "   b'\\x80\\x04\\x95?\\x01\\x00\\x00\\x00\\x00\\x00\\x00}\\x94(\\x8c\\x05input\\x94(\\x8c\\x04home\\x94\\x8c\\x12http://example.com\\x94\\x8c\\x02es\\x94}\\x94(\\x8c\\tmenu_home\\x94}\\x94(\\x8c\\x02en\\x94\\x8c\\x04Home\\x94h\\x04\\x8c\\x06Inicio\\x94\\x8c\\x02fr\\x94\\x8c\\x07Accueil\\x94u\\x8c\\nmenu_about\\x94}\\x94(h\\x08\\x8c\\x05About\\x94h\\x04\\x8c\\x06Acerca\\x94h\\x0b\\x8c\\t\\xc3\\x80 Propos\\x94u\\x8c\\x0cmenu_contact\\x94}\\x94(h\\x08\\x8c\\x07Contact\\x94h\\x04\\x8c\\x08Contacto\\x94h\\x0bh\\x14uut\\x94\\x8c\\x06output\\x94\\x8cd<td class=\"logo\"><a href=\"http://example.com?lang=es\"><img src=\"/brython.svg\" class=\"logo\"></a></td>\\x94u.',\n",
       "   b'\\x80\\x04\\x95\\x1a\\x01\\x00\\x00\\x00\\x00\\x00\\x00}\\x94(\\x8c\\x05input\\x94(\\x8c\\x05about\\x94\\x8c\\x12http://example.com\\x94\\x8c\\x02es\\x94}\\x94(\\x8c\\tmenu_home\\x94}\\x94(\\x8c\\x02en\\x94\\x8c\\x04Home\\x94h\\x04\\x8c\\x06Inicio\\x94\\x8c\\x02fr\\x94\\x8c\\x07Accueil\\x94u\\x8c\\nmenu_about\\x94}\\x94(h\\x08\\x8c\\x05About\\x94h\\x04\\x8c\\x06Acerca\\x94h\\x0b\\x8c\\t\\xc3\\x80 Propos\\x94u\\x8c\\x0cmenu_contact\\x94}\\x94(h\\x08\\x8c\\x07Contact\\x94h\\x04\\x8c\\x08Contacto\\x94h\\x0bh\\x14uut\\x94\\x8c\\x06output\\x94\\x8c><a class=\"banner\" href=\"http://example.com?lang=es\">Acerca</a>\\x94u.',\n",
       "   b'\\x80\\x04\\x95\\x19\\x01\\x00\\x00\\x00\\x00\\x00\\x00}\\x94(\\x8c\\x05input\\x94(\\x8c\\x05about\\x94\\x8c\\x12http://example.com\\x94\\x8c\\x02en\\x94}\\x94(\\x8c\\tmenu_home\\x94}\\x94(h\\x04\\x8c\\x04Home\\x94\\x8c\\x02es\\x94\\x8c\\x06Inicio\\x94\\x8c\\x02fr\\x94\\x8c\\x07Accueil\\x94u\\x8c\\nmenu_about\\x94}\\x94(h\\x04\\x8c\\x05About\\x94h\\t\\x8c\\x06Acerca\\x94h\\x0b\\x8c\\t\\xc3\\x80 Propos\\x94u\\x8c\\x0cmenu_contact\\x94}\\x94(h\\x04\\x8c\\x07Contact\\x94h\\t\\x8c\\x08Contacto\\x94h\\x0bh\\x14uut\\x94\\x8c\\x06output\\x94\\x8c=<a class=\"banner\" href=\"http://example.com?lang=en\">About</a>\\x94u.',\n",
       "   b'\\x80\\x04\\x95\\x1a\\x01\\x00\\x00\\x00\\x00\\x00\\x00}\\x94(\\x8c\\x05input\\x94(\\x8c\\x05about\\x94\\x8c\\x12http://example.com\\x94\\x8c\\x02es\\x94}\\x94(\\x8c\\tmenu_home\\x94}\\x94(\\x8c\\x02en\\x94\\x8c\\x04Home\\x94h\\x04\\x8c\\x06Inicio\\x94\\x8c\\x02fr\\x94\\x8c\\x07Accueil\\x94u\\x8c\\nmenu_about\\x94}\\x94(h\\x08\\x8c\\x05About\\x94h\\x04\\x8c\\x06Acerca\\x94h\\x0b\\x8c\\t\\xc3\\x80 Propos\\x94u\\x8c\\x0cmenu_contact\\x94}\\x94(h\\x08\\x8c\\x07Contact\\x94h\\x04\\x8c\\x08Contacto\\x94h\\x0bh\\x14uut\\x94\\x8c\\x06output\\x94\\x8c><a class=\"banner\" href=\"http://example.com?lang=es\">Acerca</a>\\x94u.',\n",
       "   b'\\x80\\x04\\x95?\\x01\\x00\\x00\\x00\\x00\\x00\\x00}\\x94(\\x8c\\x05input\\x94(\\x8c\\x04home\\x94\\x8c\\x12http://example.com\\x94\\x8c\\x02es\\x94}\\x94(\\x8c\\tmenu_home\\x94}\\x94(\\x8c\\x02en\\x94\\x8c\\x04Home\\x94h\\x04\\x8c\\x06Inicio\\x94\\x8c\\x02fr\\x94\\x8c\\x07Accueil\\x94u\\x8c\\nmenu_about\\x94}\\x94(h\\x08\\x8c\\x05About\\x94h\\x04\\x8c\\x06Acerca\\x94h\\x0b\\x8c\\t\\xc3\\x80 Propos\\x94u\\x8c\\x0cmenu_contact\\x94}\\x94(h\\x08\\x8c\\x07Contact\\x94h\\x04\\x8c\\x08Contacto\\x94h\\x0bh\\x14uut\\x94\\x8c\\x06output\\x94\\x8cd<td class=\"logo\"><a href=\"http://example.com?lang=es\"><img src=\"/brython.svg\" class=\"logo\"></a></td>\\x94u.',\n",
       "   b'\\x80\\x04\\x95\\x1a\\x01\\x00\\x00\\x00\\x00\\x00\\x00}\\x94(\\x8c\\x05input\\x94(\\x8c\\x05about\\x94\\x8c\\x12http://example.com\\x94\\x8c\\x02es\\x94}\\x94(\\x8c\\tmenu_home\\x94}\\x94(\\x8c\\x02en\\x94\\x8c\\x04Home\\x94h\\x04\\x8c\\x06Inicio\\x94\\x8c\\x02fr\\x94\\x8c\\x07Accueil\\x94u\\x8c\\nmenu_about\\x94}\\x94(h\\x08\\x8c\\x05About\\x94h\\x04\\x8c\\x06Acerca\\x94h\\x0b\\x8c\\t\\xc3\\x80 Propos\\x94u\\x8c\\x0cmenu_contact\\x94}\\x94(h\\x08\\x8c\\x07Contact\\x94h\\x04\\x8c\\x08Contacto\\x94h\\x0bh\\x14uut\\x94\\x8c\\x06output\\x94\\x8c><a class=\"banner\" href=\"http://example.com?lang=es\">Acerca</a>\\x94u.',\n",
       "   b'\\x80\\x04\\x95\\x1e\\x01\\x00\\x00\\x00\\x00\\x00\\x00}\\x94(\\x8c\\x05input\\x94(\\x8c\\x07contact\\x94\\x8c\\x12http://example.com\\x94\\x8c\\x02es\\x94}\\x94(\\x8c\\tmenu_home\\x94}\\x94(\\x8c\\x02en\\x94\\x8c\\x04Home\\x94h\\x04\\x8c\\x06Inicio\\x94\\x8c\\x02fr\\x94\\x8c\\x07Accueil\\x94u\\x8c\\nmenu_about\\x94}\\x94(h\\x08\\x8c\\x05About\\x94h\\x04\\x8c\\x06Acerca\\x94h\\x0b\\x8c\\t\\xc3\\x80 Propos\\x94u\\x8c\\x0cmenu_contact\\x94}\\x94(h\\x08\\x8c\\x07Contact\\x94h\\x04\\x8c\\x08Contacto\\x94h\\x0bh\\x14uut\\x94\\x8c\\x06output\\x94\\x8c@<a class=\"banner\" href=\"http://example.com?lang=es\">Contacto</a>\\x94u.',\n",
       "   b'\\x80\\x04\\x95\\x19\\x01\\x00\\x00\\x00\\x00\\x00\\x00}\\x94(\\x8c\\x05input\\x94(\\x8c\\x05about\\x94\\x8c\\x12http://example.com\\x94\\x8c\\x02en\\x94}\\x94(\\x8c\\tmenu_home\\x94}\\x94(h\\x04\\x8c\\x04Home\\x94\\x8c\\x02es\\x94\\x8c\\x06Inicio\\x94\\x8c\\x02fr\\x94\\x8c\\x07Accueil\\x94u\\x8c\\nmenu_about\\x94}\\x94(h\\x04\\x8c\\x05About\\x94h\\t\\x8c\\x06Acerca\\x94h\\x0b\\x8c\\t\\xc3\\x80 Propos\\x94u\\x8c\\x0cmenu_contact\\x94}\\x94(h\\x04\\x8c\\x07Contact\\x94h\\t\\x8c\\x08Contacto\\x94h\\x0bh\\x14uut\\x94\\x8c\\x06output\\x94\\x8c=<a class=\"banner\" href=\"http://example.com?lang=en\">About</a>\\x94u.',\n",
       "   b'\\x80\\x04\\x95\\x1d\\x01\\x00\\x00\\x00\\x00\\x00\\x00}\\x94(\\x8c\\x05input\\x94(\\x8c\\x07contact\\x94\\x8c\\x12http://example.com\\x94\\x8c\\x02fr\\x94}\\x94(\\x8c\\tmenu_home\\x94}\\x94(\\x8c\\x02en\\x94\\x8c\\x04Home\\x94\\x8c\\x02es\\x94\\x8c\\x06Inicio\\x94h\\x04\\x8c\\x07Accueil\\x94u\\x8c\\nmenu_about\\x94}\\x94(h\\x08\\x8c\\x05About\\x94h\\n\\x8c\\x06Acerca\\x94h\\x04\\x8c\\t\\xc3\\x80 Propos\\x94u\\x8c\\x0cmenu_contact\\x94}\\x94(h\\x08\\x8c\\x07Contact\\x94h\\n\\x8c\\x08Contacto\\x94h\\x04h\\x14uut\\x94\\x8c\\x06output\\x94\\x8c?<a class=\"banner\" href=\"http://example.com?lang=fr\">Contact</a>\\x94u.',\n",
       "   b'\\x80\\x04\\x95\\x1a\\x01\\x00\\x00\\x00\\x00\\x00\\x00}\\x94(\\x8c\\x05input\\x94(\\x8c\\x05about\\x94\\x8c\\x12http://example.com\\x94\\x8c\\x02es\\x94}\\x94(\\x8c\\tmenu_home\\x94}\\x94(\\x8c\\x02en\\x94\\x8c\\x04Home\\x94h\\x04\\x8c\\x06Inicio\\x94\\x8c\\x02fr\\x94\\x8c\\x07Accueil\\x94u\\x8c\\nmenu_about\\x94}\\x94(h\\x08\\x8c\\x05About\\x94h\\x04\\x8c\\x06Acerca\\x94h\\x0b\\x8c\\t\\xc3\\x80 Propos\\x94u\\x8c\\x0cmenu_contact\\x94}\\x94(h\\x08\\x8c\\x07Contact\\x94h\\x04\\x8c\\x08Contacto\\x94h\\x0bh\\x14uut\\x94\\x8c\\x06output\\x94\\x8c><a class=\"banner\" href=\"http://example.com?lang=es\">Acerca</a>\\x94u.',\n",
       "   b'\\x80\\x04\\x95\\x1d\\x01\\x00\\x00\\x00\\x00\\x00\\x00}\\x94(\\x8c\\x05input\\x94(\\x8c\\x07contact\\x94\\x8c\\x12http://example.com\\x94\\x8c\\x02fr\\x94}\\x94(\\x8c\\tmenu_home\\x94}\\x94(\\x8c\\x02en\\x94\\x8c\\x04Home\\x94\\x8c\\x02es\\x94\\x8c\\x06Inicio\\x94h\\x04\\x8c\\x07Accueil\\x94u\\x8c\\nmenu_about\\x94}\\x94(h\\x08\\x8c\\x05About\\x94h\\n\\x8c\\x06Acerca\\x94h\\x04\\x8c\\t\\xc3\\x80 Propos\\x94u\\x8c\\x0cmenu_contact\\x94}\\x94(h\\x08\\x8c\\x07Contact\\x94h\\n\\x8c\\x08Contacto\\x94h\\x04h\\x14uut\\x94\\x8c\\x06output\\x94\\x8c?<a class=\"banner\" href=\"http://example.com?lang=fr\">Contact</a>\\x94u.',\n",
       "   b'\\x80\\x04\\x95\\x19\\x01\\x00\\x00\\x00\\x00\\x00\\x00}\\x94(\\x8c\\x05input\\x94(\\x8c\\x05about\\x94\\x8c\\x12http://example.com\\x94\\x8c\\x02en\\x94}\\x94(\\x8c\\tmenu_home\\x94}\\x94(h\\x04\\x8c\\x04Home\\x94\\x8c\\x02es\\x94\\x8c\\x06Inicio\\x94\\x8c\\x02fr\\x94\\x8c\\x07Accueil\\x94u\\x8c\\nmenu_about\\x94}\\x94(h\\x04\\x8c\\x05About\\x94h\\t\\x8c\\x06Acerca\\x94h\\x0b\\x8c\\t\\xc3\\x80 Propos\\x94u\\x8c\\x0cmenu_contact\\x94}\\x94(h\\x04\\x8c\\x07Contact\\x94h\\t\\x8c\\x08Contacto\\x94h\\x0bh\\x14uut\\x94\\x8c\\x06output\\x94\\x8c=<a class=\"banner\" href=\"http://example.com?lang=en\">About</a>\\x94u.',\n",
       "   b'\\x80\\x04\\x95\\x1d\\x01\\x00\\x00\\x00\\x00\\x00\\x00}\\x94(\\x8c\\x05input\\x94(\\x8c\\x05about\\x94\\x8c\\x12http://example.com\\x94\\x8c\\x02fr\\x94}\\x94(\\x8c\\tmenu_home\\x94}\\x94(\\x8c\\x02en\\x94\\x8c\\x04Home\\x94\\x8c\\x02es\\x94\\x8c\\x06Inicio\\x94h\\x04\\x8c\\x07Accueil\\x94u\\x8c\\nmenu_about\\x94}\\x94(h\\x08\\x8c\\x05About\\x94h\\n\\x8c\\x06Acerca\\x94h\\x04\\x8c\\t\\xc3\\x80 Propos\\x94u\\x8c\\x0cmenu_contact\\x94}\\x94(h\\x08\\x8c\\x07Contact\\x94h\\n\\x8c\\x08Contacto\\x94h\\x04h\\x14uut\\x94\\x8c\\x06output\\x94\\x8cA<a class=\"banner\" href=\"http://example.com?lang=fr\">\\xc3\\x80 Propos</a>\\x94u.',\n",
       "   b'\\x80\\x04\\x95\\x1e\\x01\\x00\\x00\\x00\\x00\\x00\\x00}\\x94(\\x8c\\x05input\\x94(\\x8c\\x07contact\\x94\\x8c\\x12http://example.com\\x94\\x8c\\x02es\\x94}\\x94(\\x8c\\tmenu_home\\x94}\\x94(\\x8c\\x02en\\x94\\x8c\\x04Home\\x94h\\x04\\x8c\\x06Inicio\\x94\\x8c\\x02fr\\x94\\x8c\\x07Accueil\\x94u\\x8c\\nmenu_about\\x94}\\x94(h\\x08\\x8c\\x05About\\x94h\\x04\\x8c\\x06Acerca\\x94h\\x0b\\x8c\\t\\xc3\\x80 Propos\\x94u\\x8c\\x0cmenu_contact\\x94}\\x94(h\\x08\\x8c\\x07Contact\\x94h\\x04\\x8c\\x08Contacto\\x94h\\x0bh\\x14uut\\x94\\x8c\\x06output\\x94\\x8c@<a class=\"banner\" href=\"http://example.com?lang=es\">Contacto</a>\\x94u.',\n",
       "   b'\\x80\\x04\\x95?\\x01\\x00\\x00\\x00\\x00\\x00\\x00}\\x94(\\x8c\\x05input\\x94(\\x8c\\x04home\\x94\\x8c\\x12http://example.com\\x94\\x8c\\x02fr\\x94}\\x94(\\x8c\\tmenu_home\\x94}\\x94(\\x8c\\x02en\\x94\\x8c\\x04Home\\x94\\x8c\\x02es\\x94\\x8c\\x06Inicio\\x94h\\x04\\x8c\\x07Accueil\\x94u\\x8c\\nmenu_about\\x94}\\x94(h\\x08\\x8c\\x05About\\x94h\\n\\x8c\\x06Acerca\\x94h\\x04\\x8c\\t\\xc3\\x80 Propos\\x94u\\x8c\\x0cmenu_contact\\x94}\\x94(h\\x08\\x8c\\x07Contact\\x94h\\n\\x8c\\x08Contacto\\x94h\\x04h\\x14uut\\x94\\x8c\\x06output\\x94\\x8cd<td class=\"logo\"><a href=\"http://example.com?lang=fr\"><img src=\"/brython.svg\" class=\"logo\"></a></td>\\x94u.',\n",
       "   b'\\x80\\x04\\x95\\x1e\\x01\\x00\\x00\\x00\\x00\\x00\\x00}\\x94(\\x8c\\x05input\\x94(\\x8c\\x07contact\\x94\\x8c\\x12http://example.com\\x94\\x8c\\x02es\\x94}\\x94(\\x8c\\tmenu_home\\x94}\\x94(\\x8c\\x02en\\x94\\x8c\\x04Home\\x94h\\x04\\x8c\\x06Inicio\\x94\\x8c\\x02fr\\x94\\x8c\\x07Accueil\\x94u\\x8c\\nmenu_about\\x94}\\x94(h\\x08\\x8c\\x05About\\x94h\\x04\\x8c\\x06Acerca\\x94h\\x0b\\x8c\\t\\xc3\\x80 Propos\\x94u\\x8c\\x0cmenu_contact\\x94}\\x94(h\\x08\\x8c\\x07Contact\\x94h\\x04\\x8c\\x08Contacto\\x94h\\x0bh\\x14uut\\x94\\x8c\\x06output\\x94\\x8c@<a class=\"banner\" href=\"http://example.com?lang=es\">Contacto</a>\\x94u.',\n",
       "   b'\\x80\\x04\\x95?\\x01\\x00\\x00\\x00\\x00\\x00\\x00}\\x94(\\x8c\\x05input\\x94(\\x8c\\x04home\\x94\\x8c\\x12http://example.com\\x94\\x8c\\x02en\\x94}\\x94(\\x8c\\tmenu_home\\x94}\\x94(h\\x04\\x8c\\x04Home\\x94\\x8c\\x02es\\x94\\x8c\\x06Inicio\\x94\\x8c\\x02fr\\x94\\x8c\\x07Accueil\\x94u\\x8c\\nmenu_about\\x94}\\x94(h\\x04\\x8c\\x05About\\x94h\\t\\x8c\\x06Acerca\\x94h\\x0b\\x8c\\t\\xc3\\x80 Propos\\x94u\\x8c\\x0cmenu_contact\\x94}\\x94(h\\x04\\x8c\\x07Contact\\x94h\\t\\x8c\\x08Contacto\\x94h\\x0bh\\x14uut\\x94\\x8c\\x06output\\x94\\x8cd<td class=\"logo\"><a href=\"http://example.com?lang=en\"><img src=\"/brython.svg\" class=\"logo\"></a></td>\\x94u.',\n",
       "   b'\\x80\\x04\\x95\\x1a\\x01\\x00\\x00\\x00\\x00\\x00\\x00}\\x94(\\x8c\\x05input\\x94(\\x8c\\x05about\\x94\\x8c\\x12http://example.com\\x94\\x8c\\x02es\\x94}\\x94(\\x8c\\tmenu_home\\x94}\\x94(\\x8c\\x02en\\x94\\x8c\\x04Home\\x94h\\x04\\x8c\\x06Inicio\\x94\\x8c\\x02fr\\x94\\x8c\\x07Accueil\\x94u\\x8c\\nmenu_about\\x94}\\x94(h\\x08\\x8c\\x05About\\x94h\\x04\\x8c\\x06Acerca\\x94h\\x0b\\x8c\\t\\xc3\\x80 Propos\\x94u\\x8c\\x0cmenu_contact\\x94}\\x94(h\\x08\\x8c\\x07Contact\\x94h\\x04\\x8c\\x08Contacto\\x94h\\x0bh\\x14uut\\x94\\x8c\\x06output\\x94\\x8c><a class=\"banner\" href=\"http://example.com?lang=es\">Acerca</a>\\x94u.',\n",
       "   b'\\x80\\x04\\x95\\x1d\\x01\\x00\\x00\\x00\\x00\\x00\\x00}\\x94(\\x8c\\x05input\\x94(\\x8c\\x05about\\x94\\x8c\\x12http://example.com\\x94\\x8c\\x02fr\\x94}\\x94(\\x8c\\tmenu_home\\x94}\\x94(\\x8c\\x02en\\x94\\x8c\\x04Home\\x94\\x8c\\x02es\\x94\\x8c\\x06Inicio\\x94h\\x04\\x8c\\x07Accueil\\x94u\\x8c\\nmenu_about\\x94}\\x94(h\\x08\\x8c\\x05About\\x94h\\n\\x8c\\x06Acerca\\x94h\\x04\\x8c\\t\\xc3\\x80 Propos\\x94u\\x8c\\x0cmenu_contact\\x94}\\x94(h\\x08\\x8c\\x07Contact\\x94h\\n\\x8c\\x08Contacto\\x94h\\x04h\\x14uut\\x94\\x8c\\x06output\\x94\\x8cA<a class=\"banner\" href=\"http://example.com?lang=fr\">\\xc3\\x80 Propos</a>\\x94u.',\n",
       "   b'\\x80\\x04\\x95\\x1a\\x01\\x00\\x00\\x00\\x00\\x00\\x00}\\x94(\\x8c\\x05input\\x94(\\x8c\\x05about\\x94\\x8c\\x12http://example.com\\x94\\x8c\\x02es\\x94}\\x94(\\x8c\\tmenu_home\\x94}\\x94(\\x8c\\x02en\\x94\\x8c\\x04Home\\x94h\\x04\\x8c\\x06Inicio\\x94\\x8c\\x02fr\\x94\\x8c\\x07Accueil\\x94u\\x8c\\nmenu_about\\x94}\\x94(h\\x08\\x8c\\x05About\\x94h\\x04\\x8c\\x06Acerca\\x94h\\x0b\\x8c\\t\\xc3\\x80 Propos\\x94u\\x8c\\x0cmenu_contact\\x94}\\x94(h\\x08\\x8c\\x07Contact\\x94h\\x04\\x8c\\x08Contacto\\x94h\\x0bh\\x14uut\\x94\\x8c\\x06output\\x94\\x8c><a class=\"banner\" href=\"http://example.com?lang=es\">Acerca</a>\\x94u.',\n",
       "   b'\\x80\\x04\\x95\\x1d\\x01\\x00\\x00\\x00\\x00\\x00\\x00}\\x94(\\x8c\\x05input\\x94(\\x8c\\x05about\\x94\\x8c\\x12http://example.com\\x94\\x8c\\x02fr\\x94}\\x94(\\x8c\\tmenu_home\\x94}\\x94(\\x8c\\x02en\\x94\\x8c\\x04Home\\x94\\x8c\\x02es\\x94\\x8c\\x06Inicio\\x94h\\x04\\x8c\\x07Accueil\\x94u\\x8c\\nmenu_about\\x94}\\x94(h\\x08\\x8c\\x05About\\x94h\\n\\x8c\\x06Acerca\\x94h\\x04\\x8c\\t\\xc3\\x80 Propos\\x94u\\x8c\\x0cmenu_contact\\x94}\\x94(h\\x08\\x8c\\x07Contact\\x94h\\n\\x8c\\x08Contacto\\x94h\\x04h\\x14uut\\x94\\x8c\\x06output\\x94\\x8cA<a class=\"banner\" href=\"http://example.com?lang=fr\">\\xc3\\x80 Propos</a>\\x94u.',\n",
       "   b'\\x80\\x04\\x95\\x1d\\x01\\x00\\x00\\x00\\x00\\x00\\x00}\\x94(\\x8c\\x05input\\x94(\\x8c\\x07contact\\x94\\x8c\\x12http://example.com\\x94\\x8c\\x02en\\x94}\\x94(\\x8c\\tmenu_home\\x94}\\x94(h\\x04\\x8c\\x04Home\\x94\\x8c\\x02es\\x94\\x8c\\x06Inicio\\x94\\x8c\\x02fr\\x94\\x8c\\x07Accueil\\x94u\\x8c\\nmenu_about\\x94}\\x94(h\\x04\\x8c\\x05About\\x94h\\t\\x8c\\x06Acerca\\x94h\\x0b\\x8c\\t\\xc3\\x80 Propos\\x94u\\x8c\\x0cmenu_contact\\x94}\\x94(h\\x04\\x8c\\x07Contact\\x94h\\t\\x8c\\x08Contacto\\x94h\\x0bh\\x14uut\\x94\\x8c\\x06output\\x94\\x8c?<a class=\"banner\" href=\"http://example.com?lang=en\">Contact</a>\\x94u.',\n",
       "   b'\\x80\\x04\\x95\\x1e\\x01\\x00\\x00\\x00\\x00\\x00\\x00}\\x94(\\x8c\\x05input\\x94(\\x8c\\x07contact\\x94\\x8c\\x12http://example.com\\x94\\x8c\\x02es\\x94}\\x94(\\x8c\\tmenu_home\\x94}\\x94(\\x8c\\x02en\\x94\\x8c\\x04Home\\x94h\\x04\\x8c\\x06Inicio\\x94\\x8c\\x02fr\\x94\\x8c\\x07Accueil\\x94u\\x8c\\nmenu_about\\x94}\\x94(h\\x08\\x8c\\x05About\\x94h\\x04\\x8c\\x06Acerca\\x94h\\x0b\\x8c\\t\\xc3\\x80 Propos\\x94u\\x8c\\x0cmenu_contact\\x94}\\x94(h\\x08\\x8c\\x07Contact\\x94h\\x04\\x8c\\x08Contacto\\x94h\\x0bh\\x14uut\\x94\\x8c\\x06output\\x94\\x8c@<a class=\"banner\" href=\"http://example.com?lang=es\">Contacto</a>\\x94u.',\n",
       "   b'\\x80\\x04\\x95\\x1d\\x01\\x00\\x00\\x00\\x00\\x00\\x00}\\x94(\\x8c\\x05input\\x94(\\x8c\\x07contact\\x94\\x8c\\x12http://example.com\\x94\\x8c\\x02en\\x94}\\x94(\\x8c\\tmenu_home\\x94}\\x94(h\\x04\\x8c\\x04Home\\x94\\x8c\\x02es\\x94\\x8c\\x06Inicio\\x94\\x8c\\x02fr\\x94\\x8c\\x07Accueil\\x94u\\x8c\\nmenu_about\\x94}\\x94(h\\x04\\x8c\\x05About\\x94h\\t\\x8c\\x06Acerca\\x94h\\x0b\\x8c\\t\\xc3\\x80 Propos\\x94u\\x8c\\x0cmenu_contact\\x94}\\x94(h\\x04\\x8c\\x07Contact\\x94h\\t\\x8c\\x08Contacto\\x94h\\x0bh\\x14uut\\x94\\x8c\\x06output\\x94\\x8c?<a class=\"banner\" href=\"http://example.com?lang=en\">Contact</a>\\x94u.',\n",
       "   b'\\x80\\x04\\x95?\\x01\\x00\\x00\\x00\\x00\\x00\\x00}\\x94(\\x8c\\x05input\\x94(\\x8c\\x04home\\x94\\x8c\\x12http://example.com\\x94\\x8c\\x02es\\x94}\\x94(\\x8c\\tmenu_home\\x94}\\x94(\\x8c\\x02en\\x94\\x8c\\x04Home\\x94h\\x04\\x8c\\x06Inicio\\x94\\x8c\\x02fr\\x94\\x8c\\x07Accueil\\x94u\\x8c\\nmenu_about\\x94}\\x94(h\\x08\\x8c\\x05About\\x94h\\x04\\x8c\\x06Acerca\\x94h\\x0b\\x8c\\t\\xc3\\x80 Propos\\x94u\\x8c\\x0cmenu_contact\\x94}\\x94(h\\x08\\x8c\\x07Contact\\x94h\\x04\\x8c\\x08Contacto\\x94h\\x0bh\\x14uut\\x94\\x8c\\x06output\\x94\\x8cd<td class=\"logo\"><a href=\"http://example.com?lang=es\"><img src=\"/brython.svg\" class=\"logo\"></a></td>\\x94u.',\n",
       "   b'\\x80\\x04\\x95?\\x01\\x00\\x00\\x00\\x00\\x00\\x00}\\x94(\\x8c\\x05input\\x94(\\x8c\\x04home\\x94\\x8c\\x12http://example.com\\x94\\x8c\\x02es\\x94}\\x94(\\x8c\\tmenu_home\\x94}\\x94(\\x8c\\x02en\\x94\\x8c\\x04Home\\x94h\\x04\\x8c\\x06Inicio\\x94\\x8c\\x02fr\\x94\\x8c\\x07Accueil\\x94u\\x8c\\nmenu_about\\x94}\\x94(h\\x08\\x8c\\x05About\\x94h\\x04\\x8c\\x06Acerca\\x94h\\x0b\\x8c\\t\\xc3\\x80 Propos\\x94u\\x8c\\x0cmenu_contact\\x94}\\x94(h\\x08\\x8c\\x07Contact\\x94h\\x04\\x8c\\x08Contacto\\x94h\\x0bh\\x14uut\\x94\\x8c\\x06output\\x94\\x8cd<td class=\"logo\"><a href=\"http://example.com?lang=es\"><img src=\"/brython.svg\" class=\"logo\"></a></td>\\x94u.',\n",
       "   b'\\x80\\x04\\x95?\\x01\\x00\\x00\\x00\\x00\\x00\\x00}\\x94(\\x8c\\x05input\\x94(\\x8c\\x04home\\x94\\x8c\\x12http://example.com\\x94\\x8c\\x02es\\x94}\\x94(\\x8c\\tmenu_home\\x94}\\x94(\\x8c\\x02en\\x94\\x8c\\x04Home\\x94h\\x04\\x8c\\x06Inicio\\x94\\x8c\\x02fr\\x94\\x8c\\x07Accueil\\x94u\\x8c\\nmenu_about\\x94}\\x94(h\\x08\\x8c\\x05About\\x94h\\x04\\x8c\\x06Acerca\\x94h\\x0b\\x8c\\t\\xc3\\x80 Propos\\x94u\\x8c\\x0cmenu_contact\\x94}\\x94(h\\x08\\x8c\\x07Contact\\x94h\\x04\\x8c\\x08Contacto\\x94h\\x0bh\\x14uut\\x94\\x8c\\x06output\\x94\\x8cd<td class=\"logo\"><a href=\"http://example.com?lang=es\"><img src=\"/brython.svg\" class=\"logo\"></a></td>\\x94u.',\n",
       "   b'\\x80\\x04\\x95?\\x01\\x00\\x00\\x00\\x00\\x00\\x00}\\x94(\\x8c\\x05input\\x94(\\x8c\\x04home\\x94\\x8c\\x12http://example.com\\x94\\x8c\\x02en\\x94}\\x94(\\x8c\\tmenu_home\\x94}\\x94(h\\x04\\x8c\\x04Home\\x94\\x8c\\x02es\\x94\\x8c\\x06Inicio\\x94\\x8c\\x02fr\\x94\\x8c\\x07Accueil\\x94u\\x8c\\nmenu_about\\x94}\\x94(h\\x04\\x8c\\x05About\\x94h\\t\\x8c\\x06Acerca\\x94h\\x0b\\x8c\\t\\xc3\\x80 Propos\\x94u\\x8c\\x0cmenu_contact\\x94}\\x94(h\\x04\\x8c\\x07Contact\\x94h\\t\\x8c\\x08Contacto\\x94h\\x0bh\\x14uut\\x94\\x8c\\x06output\\x94\\x8cd<td class=\"logo\"><a href=\"http://example.com?lang=en\"><img src=\"/brython.svg\" class=\"logo\"></a></td>\\x94u.',\n",
       "   b'\\x80\\x04\\x95?\\x01\\x00\\x00\\x00\\x00\\x00\\x00}\\x94(\\x8c\\x05input\\x94(\\x8c\\x04home\\x94\\x8c\\x12http://example.com\\x94\\x8c\\x02es\\x94}\\x94(\\x8c\\tmenu_home\\x94}\\x94(\\x8c\\x02en\\x94\\x8c\\x04Home\\x94h\\x04\\x8c\\x06Inicio\\x94\\x8c\\x02fr\\x94\\x8c\\x07Accueil\\x94u\\x8c\\nmenu_about\\x94}\\x94(h\\x08\\x8c\\x05About\\x94h\\x04\\x8c\\x06Acerca\\x94h\\x0b\\x8c\\t\\xc3\\x80 Propos\\x94u\\x8c\\x0cmenu_contact\\x94}\\x94(h\\x08\\x8c\\x07Contact\\x94h\\x04\\x8c\\x08Contacto\\x94h\\x0bh\\x14uut\\x94\\x8c\\x06output\\x94\\x8cd<td class=\"logo\"><a href=\"http://example.com?lang=es\"><img src=\"/brython.svg\" class=\"logo\"></a></td>\\x94u.',\n",
       "   b'\\x80\\x04\\x95\\x1e\\x01\\x00\\x00\\x00\\x00\\x00\\x00}\\x94(\\x8c\\x05input\\x94(\\x8c\\x07contact\\x94\\x8c\\x12http://example.com\\x94\\x8c\\x02es\\x94}\\x94(\\x8c\\tmenu_home\\x94}\\x94(\\x8c\\x02en\\x94\\x8c\\x04Home\\x94h\\x04\\x8c\\x06Inicio\\x94\\x8c\\x02fr\\x94\\x8c\\x07Accueil\\x94u\\x8c\\nmenu_about\\x94}\\x94(h\\x08\\x8c\\x05About\\x94h\\x04\\x8c\\x06Acerca\\x94h\\x0b\\x8c\\t\\xc3\\x80 Propos\\x94u\\x8c\\x0cmenu_contact\\x94}\\x94(h\\x08\\x8c\\x07Contact\\x94h\\x04\\x8c\\x08Contacto\\x94h\\x0bh\\x14uut\\x94\\x8c\\x06output\\x94\\x8c@<a class=\"banner\" href=\"http://example.com?lang=es\">Contacto</a>\\x94u.',\n",
       "   b'\\x80\\x04\\x95\\x19\\x01\\x00\\x00\\x00\\x00\\x00\\x00}\\x94(\\x8c\\x05input\\x94(\\x8c\\x05about\\x94\\x8c\\x12http://example.com\\x94\\x8c\\x02en\\x94}\\x94(\\x8c\\tmenu_home\\x94}\\x94(h\\x04\\x8c\\x04Home\\x94\\x8c\\x02es\\x94\\x8c\\x06Inicio\\x94\\x8c\\x02fr\\x94\\x8c\\x07Accueil\\x94u\\x8c\\nmenu_about\\x94}\\x94(h\\x04\\x8c\\x05About\\x94h\\t\\x8c\\x06Acerca\\x94h\\x0b\\x8c\\t\\xc3\\x80 Propos\\x94u\\x8c\\x0cmenu_contact\\x94}\\x94(h\\x04\\x8c\\x07Contact\\x94h\\t\\x8c\\x08Contacto\\x94h\\x0bh\\x14uut\\x94\\x8c\\x06output\\x94\\x8c=<a class=\"banner\" href=\"http://example.com?lang=en\">About</a>\\x94u.',\n",
       "   b'\\x80\\x04\\x95\\x1e\\x01\\x00\\x00\\x00\\x00\\x00\\x00}\\x94(\\x8c\\x05input\\x94(\\x8c\\x07contact\\x94\\x8c\\x12http://example.com\\x94\\x8c\\x02es\\x94}\\x94(\\x8c\\tmenu_home\\x94}\\x94(\\x8c\\x02en\\x94\\x8c\\x04Home\\x94h\\x04\\x8c\\x06Inicio\\x94\\x8c\\x02fr\\x94\\x8c\\x07Accueil\\x94u\\x8c\\nmenu_about\\x94}\\x94(h\\x08\\x8c\\x05About\\x94h\\x04\\x8c\\x06Acerca\\x94h\\x0b\\x8c\\t\\xc3\\x80 Propos\\x94u\\x8c\\x0cmenu_contact\\x94}\\x94(h\\x08\\x8c\\x07Contact\\x94h\\x04\\x8c\\x08Contacto\\x94h\\x0bh\\x14uut\\x94\\x8c\\x06output\\x94\\x8c@<a class=\"banner\" href=\"http://example.com?lang=es\">Contacto</a>\\x94u.',\n",
       "   b'\\x80\\x04\\x95?\\x01\\x00\\x00\\x00\\x00\\x00\\x00}\\x94(\\x8c\\x05input\\x94(\\x8c\\x04home\\x94\\x8c\\x12http://example.com\\x94\\x8c\\x02en\\x94}\\x94(\\x8c\\tmenu_home\\x94}\\x94(h\\x04\\x8c\\x04Home\\x94\\x8c\\x02es\\x94\\x8c\\x06Inicio\\x94\\x8c\\x02fr\\x94\\x8c\\x07Accueil\\x94u\\x8c\\nmenu_about\\x94}\\x94(h\\x04\\x8c\\x05About\\x94h\\t\\x8c\\x06Acerca\\x94h\\x0b\\x8c\\t\\xc3\\x80 Propos\\x94u\\x8c\\x0cmenu_contact\\x94}\\x94(h\\x04\\x8c\\x07Contact\\x94h\\t\\x8c\\x08Contacto\\x94h\\x0bh\\x14uut\\x94\\x8c\\x06output\\x94\\x8cd<td class=\"logo\"><a href=\"http://example.com?lang=en\"><img src=\"/brython.svg\" class=\"logo\"></a></td>\\x94u.',\n",
       "   b'\\x80\\x04\\x95\\x19\\x01\\x00\\x00\\x00\\x00\\x00\\x00}\\x94(\\x8c\\x05input\\x94(\\x8c\\x05about\\x94\\x8c\\x12http://example.com\\x94\\x8c\\x02en\\x94}\\x94(\\x8c\\tmenu_home\\x94}\\x94(h\\x04\\x8c\\x04Home\\x94\\x8c\\x02es\\x94\\x8c\\x06Inicio\\x94\\x8c\\x02fr\\x94\\x8c\\x07Accueil\\x94u\\x8c\\nmenu_about\\x94}\\x94(h\\x04\\x8c\\x05About\\x94h\\t\\x8c\\x06Acerca\\x94h\\x0b\\x8c\\t\\xc3\\x80 Propos\\x94u\\x8c\\x0cmenu_contact\\x94}\\x94(h\\x04\\x8c\\x07Contact\\x94h\\t\\x8c\\x08Contacto\\x94h\\x0bh\\x14uut\\x94\\x8c\\x06output\\x94\\x8c=<a class=\"banner\" href=\"http://example.com?lang=en\">About</a>\\x94u.',\n",
       "   b'\\x80\\x04\\x95\\x19\\x01\\x00\\x00\\x00\\x00\\x00\\x00}\\x94(\\x8c\\x05input\\x94(\\x8c\\x05about\\x94\\x8c\\x12http://example.com\\x94\\x8c\\x02en\\x94}\\x94(\\x8c\\tmenu_home\\x94}\\x94(h\\x04\\x8c\\x04Home\\x94\\x8c\\x02es\\x94\\x8c\\x06Inicio\\x94\\x8c\\x02fr\\x94\\x8c\\x07Accueil\\x94u\\x8c\\nmenu_about\\x94}\\x94(h\\x04\\x8c\\x05About\\x94h\\t\\x8c\\x06Acerca\\x94h\\x0b\\x8c\\t\\xc3\\x80 Propos\\x94u\\x8c\\x0cmenu_contact\\x94}\\x94(h\\x04\\x8c\\x07Contact\\x94h\\t\\x8c\\x08Contacto\\x94h\\x0bh\\x14uut\\x94\\x8c\\x06output\\x94\\x8c=<a class=\"banner\" href=\"http://example.com?lang=en\">About</a>\\x94u.',\n",
       "   b'\\x80\\x04\\x95?\\x01\\x00\\x00\\x00\\x00\\x00\\x00}\\x94(\\x8c\\x05input\\x94(\\x8c\\x04home\\x94\\x8c\\x12http://example.com\\x94\\x8c\\x02es\\x94}\\x94(\\x8c\\tmenu_home\\x94}\\x94(\\x8c\\x02en\\x94\\x8c\\x04Home\\x94h\\x04\\x8c\\x06Inicio\\x94\\x8c\\x02fr\\x94\\x8c\\x07Accueil\\x94u\\x8c\\nmenu_about\\x94}\\x94(h\\x08\\x8c\\x05About\\x94h\\x04\\x8c\\x06Acerca\\x94h\\x0b\\x8c\\t\\xc3\\x80 Propos\\x94u\\x8c\\x0cmenu_contact\\x94}\\x94(h\\x08\\x8c\\x07Contact\\x94h\\x04\\x8c\\x08Contacto\\x94h\\x0bh\\x14uut\\x94\\x8c\\x06output\\x94\\x8cd<td class=\"logo\"><a href=\"http://example.com?lang=es\"><img src=\"/brython.svg\" class=\"logo\"></a></td>\\x94u.',\n",
       "   b'\\x80\\x04\\x95\\x1d\\x01\\x00\\x00\\x00\\x00\\x00\\x00}\\x94(\\x8c\\x05input\\x94(\\x8c\\x07contact\\x94\\x8c\\x12http://example.com\\x94\\x8c\\x02en\\x94}\\x94(\\x8c\\tmenu_home\\x94}\\x94(h\\x04\\x8c\\x04Home\\x94\\x8c\\x02es\\x94\\x8c\\x06Inicio\\x94\\x8c\\x02fr\\x94\\x8c\\x07Accueil\\x94u\\x8c\\nmenu_about\\x94}\\x94(h\\x04\\x8c\\x05About\\x94h\\t\\x8c\\x06Acerca\\x94h\\x0b\\x8c\\t\\xc3\\x80 Propos\\x94u\\x8c\\x0cmenu_contact\\x94}\\x94(h\\x04\\x8c\\x07Contact\\x94h\\t\\x8c\\x08Contacto\\x94h\\x0bh\\x14uut\\x94\\x8c\\x06output\\x94\\x8c?<a class=\"banner\" href=\"http://example.com?lang=en\">Contact</a>\\x94u.',\n",
       "   b'\\x80\\x04\\x95\\x19\\x01\\x00\\x00\\x00\\x00\\x00\\x00}\\x94(\\x8c\\x05input\\x94(\\x8c\\x05about\\x94\\x8c\\x12http://example.com\\x94\\x8c\\x02en\\x94}\\x94(\\x8c\\tmenu_home\\x94}\\x94(h\\x04\\x8c\\x04Home\\x94\\x8c\\x02es\\x94\\x8c\\x06Inicio\\x94\\x8c\\x02fr\\x94\\x8c\\x07Accueil\\x94u\\x8c\\nmenu_about\\x94}\\x94(h\\x04\\x8c\\x05About\\x94h\\t\\x8c\\x06Acerca\\x94h\\x0b\\x8c\\t\\xc3\\x80 Propos\\x94u\\x8c\\x0cmenu_contact\\x94}\\x94(h\\x04\\x8c\\x07Contact\\x94h\\t\\x8c\\x08Contacto\\x94h\\x0bh\\x14uut\\x94\\x8c\\x06output\\x94\\x8c=<a class=\"banner\" href=\"http://example.com?lang=en\">About</a>\\x94u.',\n",
       "   b'\\x80\\x04\\x95\\x1e\\x01\\x00\\x00\\x00\\x00\\x00\\x00}\\x94(\\x8c\\x05input\\x94(\\x8c\\x07contact\\x94\\x8c\\x12http://example.com\\x94\\x8c\\x02es\\x94}\\x94(\\x8c\\tmenu_home\\x94}\\x94(\\x8c\\x02en\\x94\\x8c\\x04Home\\x94h\\x04\\x8c\\x06Inicio\\x94\\x8c\\x02fr\\x94\\x8c\\x07Accueil\\x94u\\x8c\\nmenu_about\\x94}\\x94(h\\x08\\x8c\\x05About\\x94h\\x04\\x8c\\x06Acerca\\x94h\\x0b\\x8c\\t\\xc3\\x80 Propos\\x94u\\x8c\\x0cmenu_contact\\x94}\\x94(h\\x08\\x8c\\x07Contact\\x94h\\x04\\x8c\\x08Contacto\\x94h\\x0bh\\x14uut\\x94\\x8c\\x06output\\x94\\x8c@<a class=\"banner\" href=\"http://example.com?lang=es\">Contacto</a>\\x94u.',\n",
       "   b'\\x80\\x04\\x95\\x1d\\x01\\x00\\x00\\x00\\x00\\x00\\x00}\\x94(\\x8c\\x05input\\x94(\\x8c\\x07contact\\x94\\x8c\\x12http://example.com\\x94\\x8c\\x02en\\x94}\\x94(\\x8c\\tmenu_home\\x94}\\x94(h\\x04\\x8c\\x04Home\\x94\\x8c\\x02es\\x94\\x8c\\x06Inicio\\x94\\x8c\\x02fr\\x94\\x8c\\x07Accueil\\x94u\\x8c\\nmenu_about\\x94}\\x94(h\\x04\\x8c\\x05About\\x94h\\t\\x8c\\x06Acerca\\x94h\\x0b\\x8c\\t\\xc3\\x80 Propos\\x94u\\x8c\\x0cmenu_contact\\x94}\\x94(h\\x04\\x8c\\x07Contact\\x94h\\t\\x8c\\x08Contacto\\x94h\\x0bh\\x14uut\\x94\\x8c\\x06output\\x94\\x8c?<a class=\"banner\" href=\"http://example.com?lang=en\">Contact</a>\\x94u.',\n",
       "   b'\\x80\\x04\\x95\\x19\\x01\\x00\\x00\\x00\\x00\\x00\\x00}\\x94(\\x8c\\x05input\\x94(\\x8c\\x05about\\x94\\x8c\\x12http://example.com\\x94\\x8c\\x02en\\x94}\\x94(\\x8c\\tmenu_home\\x94}\\x94(h\\x04\\x8c\\x04Home\\x94\\x8c\\x02es\\x94\\x8c\\x06Inicio\\x94\\x8c\\x02fr\\x94\\x8c\\x07Accueil\\x94u\\x8c\\nmenu_about\\x94}\\x94(h\\x04\\x8c\\x05About\\x94h\\t\\x8c\\x06Acerca\\x94h\\x0b\\x8c\\t\\xc3\\x80 Propos\\x94u\\x8c\\x0cmenu_contact\\x94}\\x94(h\\x04\\x8c\\x07Contact\\x94h\\t\\x8c\\x08Contacto\\x94h\\x0bh\\x14uut\\x94\\x8c\\x06output\\x94\\x8c=<a class=\"banner\" href=\"http://example.com?lang=en\">About</a>\\x94u.',\n",
       "   b'\\x80\\x04\\x95\\x1d\\x01\\x00\\x00\\x00\\x00\\x00\\x00}\\x94(\\x8c\\x05input\\x94(\\x8c\\x05about\\x94\\x8c\\x12http://example.com\\x94\\x8c\\x02fr\\x94}\\x94(\\x8c\\tmenu_home\\x94}\\x94(\\x8c\\x02en\\x94\\x8c\\x04Home\\x94\\x8c\\x02es\\x94\\x8c\\x06Inicio\\x94h\\x04\\x8c\\x07Accueil\\x94u\\x8c\\nmenu_about\\x94}\\x94(h\\x08\\x8c\\x05About\\x94h\\n\\x8c\\x06Acerca\\x94h\\x04\\x8c\\t\\xc3\\x80 Propos\\x94u\\x8c\\x0cmenu_contact\\x94}\\x94(h\\x08\\x8c\\x07Contact\\x94h\\n\\x8c\\x08Contacto\\x94h\\x04h\\x14uut\\x94\\x8c\\x06output\\x94\\x8cA<a class=\"banner\" href=\"http://example.com?lang=fr\">\\xc3\\x80 Propos</a>\\x94u.',\n",
       "   b'\\x80\\x04\\x95\\x1a\\x01\\x00\\x00\\x00\\x00\\x00\\x00}\\x94(\\x8c\\x05input\\x94(\\x8c\\x05about\\x94\\x8c\\x12http://example.com\\x94\\x8c\\x02es\\x94}\\x94(\\x8c\\tmenu_home\\x94}\\x94(\\x8c\\x02en\\x94\\x8c\\x04Home\\x94h\\x04\\x8c\\x06Inicio\\x94\\x8c\\x02fr\\x94\\x8c\\x07Accueil\\x94u\\x8c\\nmenu_about\\x94}\\x94(h\\x08\\x8c\\x05About\\x94h\\x04\\x8c\\x06Acerca\\x94h\\x0b\\x8c\\t\\xc3\\x80 Propos\\x94u\\x8c\\x0cmenu_contact\\x94}\\x94(h\\x08\\x8c\\x07Contact\\x94h\\x04\\x8c\\x08Contacto\\x94h\\x0bh\\x14uut\\x94\\x8c\\x06output\\x94\\x8c><a class=\"banner\" href=\"http://example.com?lang=es\">Acerca</a>\\x94u.',\n",
       "   b'\\x80\\x04\\x95?\\x01\\x00\\x00\\x00\\x00\\x00\\x00}\\x94(\\x8c\\x05input\\x94(\\x8c\\x04home\\x94\\x8c\\x12http://example.com\\x94\\x8c\\x02es\\x94}\\x94(\\x8c\\tmenu_home\\x94}\\x94(\\x8c\\x02en\\x94\\x8c\\x04Home\\x94h\\x04\\x8c\\x06Inicio\\x94\\x8c\\x02fr\\x94\\x8c\\x07Accueil\\x94u\\x8c\\nmenu_about\\x94}\\x94(h\\x08\\x8c\\x05About\\x94h\\x04\\x8c\\x06Acerca\\x94h\\x0b\\x8c\\t\\xc3\\x80 Propos\\x94u\\x8c\\x0cmenu_contact\\x94}\\x94(h\\x08\\x8c\\x07Contact\\x94h\\x04\\x8c\\x08Contacto\\x94h\\x0bh\\x14uut\\x94\\x8c\\x06output\\x94\\x8cd<td class=\"logo\"><a href=\"http://example.com?lang=es\"><img src=\"/brython.svg\" class=\"logo\"></a></td>\\x94u.',\n",
       "   b'\\x80\\x04\\x95?\\x01\\x00\\x00\\x00\\x00\\x00\\x00}\\x94(\\x8c\\x05input\\x94(\\x8c\\x04home\\x94\\x8c\\x12http://example.com\\x94\\x8c\\x02es\\x94}\\x94(\\x8c\\tmenu_home\\x94}\\x94(\\x8c\\x02en\\x94\\x8c\\x04Home\\x94h\\x04\\x8c\\x06Inicio\\x94\\x8c\\x02fr\\x94\\x8c\\x07Accueil\\x94u\\x8c\\nmenu_about\\x94}\\x94(h\\x08\\x8c\\x05About\\x94h\\x04\\x8c\\x06Acerca\\x94h\\x0b\\x8c\\t\\xc3\\x80 Propos\\x94u\\x8c\\x0cmenu_contact\\x94}\\x94(h\\x08\\x8c\\x07Contact\\x94h\\x04\\x8c\\x08Contacto\\x94h\\x0bh\\x14uut\\x94\\x8c\\x06output\\x94\\x8cd<td class=\"logo\"><a href=\"http://example.com?lang=es\"><img src=\"/brython.svg\" class=\"logo\"></a></td>\\x94u.',\n",
       "   b'\\x80\\x04\\x95?\\x01\\x00\\x00\\x00\\x00\\x00\\x00}\\x94(\\x8c\\x05input\\x94(\\x8c\\x04home\\x94\\x8c\\x12http://example.com\\x94\\x8c\\x02fr\\x94}\\x94(\\x8c\\tmenu_home\\x94}\\x94(\\x8c\\x02en\\x94\\x8c\\x04Home\\x94\\x8c\\x02es\\x94\\x8c\\x06Inicio\\x94h\\x04\\x8c\\x07Accueil\\x94u\\x8c\\nmenu_about\\x94}\\x94(h\\x08\\x8c\\x05About\\x94h\\n\\x8c\\x06Acerca\\x94h\\x04\\x8c\\t\\xc3\\x80 Propos\\x94u\\x8c\\x0cmenu_contact\\x94}\\x94(h\\x08\\x8c\\x07Contact\\x94h\\n\\x8c\\x08Contacto\\x94h\\x04h\\x14uut\\x94\\x8c\\x06output\\x94\\x8cd<td class=\"logo\"><a href=\"http://example.com?lang=fr\"><img src=\"/brython.svg\" class=\"logo\"></a></td>\\x94u.',\n",
       "   b'\\x80\\x04\\x95\\x1a\\x01\\x00\\x00\\x00\\x00\\x00\\x00}\\x94(\\x8c\\x05input\\x94(\\x8c\\x05about\\x94\\x8c\\x12http://example.com\\x94\\x8c\\x02es\\x94}\\x94(\\x8c\\tmenu_home\\x94}\\x94(\\x8c\\x02en\\x94\\x8c\\x04Home\\x94h\\x04\\x8c\\x06Inicio\\x94\\x8c\\x02fr\\x94\\x8c\\x07Accueil\\x94u\\x8c\\nmenu_about\\x94}\\x94(h\\x08\\x8c\\x05About\\x94h\\x04\\x8c\\x06Acerca\\x94h\\x0b\\x8c\\t\\xc3\\x80 Propos\\x94u\\x8c\\x0cmenu_contact\\x94}\\x94(h\\x08\\x8c\\x07Contact\\x94h\\x04\\x8c\\x08Contacto\\x94h\\x0bh\\x14uut\\x94\\x8c\\x06output\\x94\\x8c><a class=\"banner\" href=\"http://example.com?lang=es\">Acerca</a>\\x94u.',\n",
       "   b'\\x80\\x04\\x95\\x1e\\x01\\x00\\x00\\x00\\x00\\x00\\x00}\\x94(\\x8c\\x05input\\x94(\\x8c\\x07contact\\x94\\x8c\\x12http://example.com\\x94\\x8c\\x02es\\x94}\\x94(\\x8c\\tmenu_home\\x94}\\x94(\\x8c\\x02en\\x94\\x8c\\x04Home\\x94h\\x04\\x8c\\x06Inicio\\x94\\x8c\\x02fr\\x94\\x8c\\x07Accueil\\x94u\\x8c\\nmenu_about\\x94}\\x94(h\\x08\\x8c\\x05About\\x94h\\x04\\x8c\\x06Acerca\\x94h\\x0b\\x8c\\t\\xc3\\x80 Propos\\x94u\\x8c\\x0cmenu_contact\\x94}\\x94(h\\x08\\x8c\\x07Contact\\x94h\\x04\\x8c\\x08Contacto\\x94h\\x0bh\\x14uut\\x94\\x8c\\x06output\\x94\\x8c@<a class=\"banner\" href=\"http://example.com?lang=es\">Contacto</a>\\x94u.',\n",
       "   b'\\x80\\x04\\x95?\\x01\\x00\\x00\\x00\\x00\\x00\\x00}\\x94(\\x8c\\x05input\\x94(\\x8c\\x04home\\x94\\x8c\\x12http://example.com\\x94\\x8c\\x02es\\x94}\\x94(\\x8c\\tmenu_home\\x94}\\x94(\\x8c\\x02en\\x94\\x8c\\x04Home\\x94h\\x04\\x8c\\x06Inicio\\x94\\x8c\\x02fr\\x94\\x8c\\x07Accueil\\x94u\\x8c\\nmenu_about\\x94}\\x94(h\\x08\\x8c\\x05About\\x94h\\x04\\x8c\\x06Acerca\\x94h\\x0b\\x8c\\t\\xc3\\x80 Propos\\x94u\\x8c\\x0cmenu_contact\\x94}\\x94(h\\x08\\x8c\\x07Contact\\x94h\\x04\\x8c\\x08Contacto\\x94h\\x0bh\\x14uut\\x94\\x8c\\x06output\\x94\\x8cd<td class=\"logo\"><a href=\"http://example.com?lang=es\"><img src=\"/brython.svg\" class=\"logo\"></a></td>\\x94u.',\n",
       "   b'\\x80\\x04\\x95\\x1d\\x01\\x00\\x00\\x00\\x00\\x00\\x00}\\x94(\\x8c\\x05input\\x94(\\x8c\\x07contact\\x94\\x8c\\x12http://example.com\\x94\\x8c\\x02fr\\x94}\\x94(\\x8c\\tmenu_home\\x94}\\x94(\\x8c\\x02en\\x94\\x8c\\x04Home\\x94\\x8c\\x02es\\x94\\x8c\\x06Inicio\\x94h\\x04\\x8c\\x07Accueil\\x94u\\x8c\\nmenu_about\\x94}\\x94(h\\x08\\x8c\\x05About\\x94h\\n\\x8c\\x06Acerca\\x94h\\x04\\x8c\\t\\xc3\\x80 Propos\\x94u\\x8c\\x0cmenu_contact\\x94}\\x94(h\\x08\\x8c\\x07Contact\\x94h\\n\\x8c\\x08Contacto\\x94h\\x04h\\x14uut\\x94\\x8c\\x06output\\x94\\x8c?<a class=\"banner\" href=\"http://example.com?lang=fr\">Contact</a>\\x94u.',\n",
       "   b'\\x80\\x04\\x95?\\x01\\x00\\x00\\x00\\x00\\x00\\x00}\\x94(\\x8c\\x05input\\x94(\\x8c\\x04home\\x94\\x8c\\x12http://example.com\\x94\\x8c\\x02en\\x94}\\x94(\\x8c\\tmenu_home\\x94}\\x94(h\\x04\\x8c\\x04Home\\x94\\x8c\\x02es\\x94\\x8c\\x06Inicio\\x94\\x8c\\x02fr\\x94\\x8c\\x07Accueil\\x94u\\x8c\\nmenu_about\\x94}\\x94(h\\x04\\x8c\\x05About\\x94h\\t\\x8c\\x06Acerca\\x94h\\x0b\\x8c\\t\\xc3\\x80 Propos\\x94u\\x8c\\x0cmenu_contact\\x94}\\x94(h\\x04\\x8c\\x07Contact\\x94h\\t\\x8c\\x08Contacto\\x94h\\x0bh\\x14uut\\x94\\x8c\\x06output\\x94\\x8cd<td class=\"logo\"><a href=\"http://example.com?lang=en\"><img src=\"/brython.svg\" class=\"logo\"></a></td>\\x94u.',\n",
       "   b'\\x80\\x04\\x95\\x1d\\x01\\x00\\x00\\x00\\x00\\x00\\x00}\\x94(\\x8c\\x05input\\x94(\\x8c\\x07contact\\x94\\x8c\\x12http://example.com\\x94\\x8c\\x02en\\x94}\\x94(\\x8c\\tmenu_home\\x94}\\x94(h\\x04\\x8c\\x04Home\\x94\\x8c\\x02es\\x94\\x8c\\x06Inicio\\x94\\x8c\\x02fr\\x94\\x8c\\x07Accueil\\x94u\\x8c\\nmenu_about\\x94}\\x94(h\\x04\\x8c\\x05About\\x94h\\t\\x8c\\x06Acerca\\x94h\\x0b\\x8c\\t\\xc3\\x80 Propos\\x94u\\x8c\\x0cmenu_contact\\x94}\\x94(h\\x04\\x8c\\x07Contact\\x94h\\t\\x8c\\x08Contacto\\x94h\\x0bh\\x14uut\\x94\\x8c\\x06output\\x94\\x8c?<a class=\"banner\" href=\"http://example.com?lang=en\">Contact</a>\\x94u.',\n",
       "   b'\\x80\\x04\\x95?\\x01\\x00\\x00\\x00\\x00\\x00\\x00}\\x94(\\x8c\\x05input\\x94(\\x8c\\x04home\\x94\\x8c\\x12http://example.com\\x94\\x8c\\x02es\\x94}\\x94(\\x8c\\tmenu_home\\x94}\\x94(\\x8c\\x02en\\x94\\x8c\\x04Home\\x94h\\x04\\x8c\\x06Inicio\\x94\\x8c\\x02fr\\x94\\x8c\\x07Accueil\\x94u\\x8c\\nmenu_about\\x94}\\x94(h\\x08\\x8c\\x05About\\x94h\\x04\\x8c\\x06Acerca\\x94h\\x0b\\x8c\\t\\xc3\\x80 Propos\\x94u\\x8c\\x0cmenu_contact\\x94}\\x94(h\\x08\\x8c\\x07Contact\\x94h\\x04\\x8c\\x08Contacto\\x94h\\x0bh\\x14uut\\x94\\x8c\\x06output\\x94\\x8cd<td class=\"logo\"><a href=\"http://example.com?lang=es\"><img src=\"/brython.svg\" class=\"logo\"></a></td>\\x94u.',\n",
       "   b'\\x80\\x04\\x95\\x1d\\x01\\x00\\x00\\x00\\x00\\x00\\x00}\\x94(\\x8c\\x05input\\x94(\\x8c\\x07contact\\x94\\x8c\\x12http://example.com\\x94\\x8c\\x02fr\\x94}\\x94(\\x8c\\tmenu_home\\x94}\\x94(\\x8c\\x02en\\x94\\x8c\\x04Home\\x94\\x8c\\x02es\\x94\\x8c\\x06Inicio\\x94h\\x04\\x8c\\x07Accueil\\x94u\\x8c\\nmenu_about\\x94}\\x94(h\\x08\\x8c\\x05About\\x94h\\n\\x8c\\x06Acerca\\x94h\\x04\\x8c\\t\\xc3\\x80 Propos\\x94u\\x8c\\x0cmenu_contact\\x94}\\x94(h\\x08\\x8c\\x07Contact\\x94h\\n\\x8c\\x08Contacto\\x94h\\x04h\\x14uut\\x94\\x8c\\x06output\\x94\\x8c?<a class=\"banner\" href=\"http://example.com?lang=fr\">Contact</a>\\x94u.',\n",
       "   b'\\x80\\x04\\x95?\\x01\\x00\\x00\\x00\\x00\\x00\\x00}\\x94(\\x8c\\x05input\\x94(\\x8c\\x04home\\x94\\x8c\\x12http://example.com\\x94\\x8c\\x02en\\x94}\\x94(\\x8c\\tmenu_home\\x94}\\x94(h\\x04\\x8c\\x04Home\\x94\\x8c\\x02es\\x94\\x8c\\x06Inicio\\x94\\x8c\\x02fr\\x94\\x8c\\x07Accueil\\x94u\\x8c\\nmenu_about\\x94}\\x94(h\\x04\\x8c\\x05About\\x94h\\t\\x8c\\x06Acerca\\x94h\\x0b\\x8c\\t\\xc3\\x80 Propos\\x94u\\x8c\\x0cmenu_contact\\x94}\\x94(h\\x04\\x8c\\x07Contact\\x94h\\t\\x8c\\x08Contacto\\x94h\\x0bh\\x14uut\\x94\\x8c\\x06output\\x94\\x8cd<td class=\"logo\"><a href=\"http://example.com?lang=en\"><img src=\"/brython.svg\" class=\"logo\"></a></td>\\x94u.',\n",
       "   b'\\x80\\x04\\x95\\x1e\\x01\\x00\\x00\\x00\\x00\\x00\\x00}\\x94(\\x8c\\x05input\\x94(\\x8c\\x07contact\\x94\\x8c\\x12http://example.com\\x94\\x8c\\x02es\\x94}\\x94(\\x8c\\tmenu_home\\x94}\\x94(\\x8c\\x02en\\x94\\x8c\\x04Home\\x94h\\x04\\x8c\\x06Inicio\\x94\\x8c\\x02fr\\x94\\x8c\\x07Accueil\\x94u\\x8c\\nmenu_about\\x94}\\x94(h\\x08\\x8c\\x05About\\x94h\\x04\\x8c\\x06Acerca\\x94h\\x0b\\x8c\\t\\xc3\\x80 Propos\\x94u\\x8c\\x0cmenu_contact\\x94}\\x94(h\\x08\\x8c\\x07Contact\\x94h\\x04\\x8c\\x08Contacto\\x94h\\x0bh\\x14uut\\x94\\x8c\\x06output\\x94\\x8c@<a class=\"banner\" href=\"http://example.com?lang=es\">Contacto</a>\\x94u.',\n",
       "   b'\\x80\\x04\\x95?\\x01\\x00\\x00\\x00\\x00\\x00\\x00}\\x94(\\x8c\\x05input\\x94(\\x8c\\x04home\\x94\\x8c\\x12http://example.com\\x94\\x8c\\x02en\\x94}\\x94(\\x8c\\tmenu_home\\x94}\\x94(h\\x04\\x8c\\x04Home\\x94\\x8c\\x02es\\x94\\x8c\\x06Inicio\\x94\\x8c\\x02fr\\x94\\x8c\\x07Accueil\\x94u\\x8c\\nmenu_about\\x94}\\x94(h\\x04\\x8c\\x05About\\x94h\\t\\x8c\\x06Acerca\\x94h\\x0b\\x8c\\t\\xc3\\x80 Propos\\x94u\\x8c\\x0cmenu_contact\\x94}\\x94(h\\x04\\x8c\\x07Contact\\x94h\\t\\x8c\\x08Contacto\\x94h\\x0bh\\x14uut\\x94\\x8c\\x06output\\x94\\x8cd<td class=\"logo\"><a href=\"http://example.com?lang=en\"><img src=\"/brython.svg\" class=\"logo\"></a></td>\\x94u.',\n",
       "   b'\\x80\\x04\\x95\\x1e\\x01\\x00\\x00\\x00\\x00\\x00\\x00}\\x94(\\x8c\\x05input\\x94(\\x8c\\x07contact\\x94\\x8c\\x12http://example.com\\x94\\x8c\\x02es\\x94}\\x94(\\x8c\\tmenu_home\\x94}\\x94(\\x8c\\x02en\\x94\\x8c\\x04Home\\x94h\\x04\\x8c\\x06Inicio\\x94\\x8c\\x02fr\\x94\\x8c\\x07Accueil\\x94u\\x8c\\nmenu_about\\x94}\\x94(h\\x08\\x8c\\x05About\\x94h\\x04\\x8c\\x06Acerca\\x94h\\x0b\\x8c\\t\\xc3\\x80 Propos\\x94u\\x8c\\x0cmenu_contact\\x94}\\x94(h\\x08\\x8c\\x07Contact\\x94h\\x04\\x8c\\x08Contacto\\x94h\\x0bh\\x14uut\\x94\\x8c\\x06output\\x94\\x8c@<a class=\"banner\" href=\"http://example.com?lang=es\">Contacto</a>\\x94u.',\n",
       "   b'\\x80\\x04\\x95?\\x01\\x00\\x00\\x00\\x00\\x00\\x00}\\x94(\\x8c\\x05input\\x94(\\x8c\\x04home\\x94\\x8c\\x12http://example.com\\x94\\x8c\\x02es\\x94}\\x94(\\x8c\\tmenu_home\\x94}\\x94(\\x8c\\x02en\\x94\\x8c\\x04Home\\x94h\\x04\\x8c\\x06Inicio\\x94\\x8c\\x02fr\\x94\\x8c\\x07Accueil\\x94u\\x8c\\nmenu_about\\x94}\\x94(h\\x08\\x8c\\x05About\\x94h\\x04\\x8c\\x06Acerca\\x94h\\x0b\\x8c\\t\\xc3\\x80 Propos\\x94u\\x8c\\x0cmenu_contact\\x94}\\x94(h\\x08\\x8c\\x07Contact\\x94h\\x04\\x8c\\x08Contacto\\x94h\\x0bh\\x14uut\\x94\\x8c\\x06output\\x94\\x8cd<td class=\"logo\"><a href=\"http://example.com?lang=es\"><img src=\"/brython.svg\" class=\"logo\"></a></td>\\x94u.',\n",
       "   b'\\x80\\x04\\x95\\x1d\\x01\\x00\\x00\\x00\\x00\\x00\\x00}\\x94(\\x8c\\x05input\\x94(\\x8c\\x05about\\x94\\x8c\\x12http://example.com\\x94\\x8c\\x02fr\\x94}\\x94(\\x8c\\tmenu_home\\x94}\\x94(\\x8c\\x02en\\x94\\x8c\\x04Home\\x94\\x8c\\x02es\\x94\\x8c\\x06Inicio\\x94h\\x04\\x8c\\x07Accueil\\x94u\\x8c\\nmenu_about\\x94}\\x94(h\\x08\\x8c\\x05About\\x94h\\n\\x8c\\x06Acerca\\x94h\\x04\\x8c\\t\\xc3\\x80 Propos\\x94u\\x8c\\x0cmenu_contact\\x94}\\x94(h\\x08\\x8c\\x07Contact\\x94h\\n\\x8c\\x08Contacto\\x94h\\x04h\\x14uut\\x94\\x8c\\x06output\\x94\\x8cA<a class=\"banner\" href=\"http://example.com?lang=fr\">\\xc3\\x80 Propos</a>\\x94u.',\n",
       "   b'\\x80\\x04\\x95?\\x01\\x00\\x00\\x00\\x00\\x00\\x00}\\x94(\\x8c\\x05input\\x94(\\x8c\\x04home\\x94\\x8c\\x12http://example.com\\x94\\x8c\\x02es\\x94}\\x94(\\x8c\\tmenu_home\\x94}\\x94(\\x8c\\x02en\\x94\\x8c\\x04Home\\x94h\\x04\\x8c\\x06Inicio\\x94\\x8c\\x02fr\\x94\\x8c\\x07Accueil\\x94u\\x8c\\nmenu_about\\x94}\\x94(h\\x08\\x8c\\x05About\\x94h\\x04\\x8c\\x06Acerca\\x94h\\x0b\\x8c\\t\\xc3\\x80 Propos\\x94u\\x8c\\x0cmenu_contact\\x94}\\x94(h\\x08\\x8c\\x07Contact\\x94h\\x04\\x8c\\x08Contacto\\x94h\\x0bh\\x14uut\\x94\\x8c\\x06output\\x94\\x8cd<td class=\"logo\"><a href=\"http://example.com?lang=es\"><img src=\"/brython.svg\" class=\"logo\"></a></td>\\x94u.',\n",
       "   b'\\x80\\x04\\x95?\\x01\\x00\\x00\\x00\\x00\\x00\\x00}\\x94(\\x8c\\x05input\\x94(\\x8c\\x04home\\x94\\x8c\\x12http://example.com\\x94\\x8c\\x02fr\\x94}\\x94(\\x8c\\tmenu_home\\x94}\\x94(\\x8c\\x02en\\x94\\x8c\\x04Home\\x94\\x8c\\x02es\\x94\\x8c\\x06Inicio\\x94h\\x04\\x8c\\x07Accueil\\x94u\\x8c\\nmenu_about\\x94}\\x94(h\\x08\\x8c\\x05About\\x94h\\n\\x8c\\x06Acerca\\x94h\\x04\\x8c\\t\\xc3\\x80 Propos\\x94u\\x8c\\x0cmenu_contact\\x94}\\x94(h\\x08\\x8c\\x07Contact\\x94h\\n\\x8c\\x08Contacto\\x94h\\x04h\\x14uut\\x94\\x8c\\x06output\\x94\\x8cd<td class=\"logo\"><a href=\"http://example.com?lang=fr\"><img src=\"/brython.svg\" class=\"logo\"></a></td>\\x94u.',\n",
       "   b'\\x80\\x04\\x95\\x1d\\x01\\x00\\x00\\x00\\x00\\x00\\x00}\\x94(\\x8c\\x05input\\x94(\\x8c\\x07contact\\x94\\x8c\\x12http://example.com\\x94\\x8c\\x02en\\x94}\\x94(\\x8c\\tmenu_home\\x94}\\x94(h\\x04\\x8c\\x04Home\\x94\\x8c\\x02es\\x94\\x8c\\x06Inicio\\x94\\x8c\\x02fr\\x94\\x8c\\x07Accueil\\x94u\\x8c\\nmenu_about\\x94}\\x94(h\\x04\\x8c\\x05About\\x94h\\t\\x8c\\x06Acerca\\x94h\\x0b\\x8c\\t\\xc3\\x80 Propos\\x94u\\x8c\\x0cmenu_contact\\x94}\\x94(h\\x04\\x8c\\x07Contact\\x94h\\t\\x8c\\x08Contacto\\x94h\\x0bh\\x14uut\\x94\\x8c\\x06output\\x94\\x8c?<a class=\"banner\" href=\"http://example.com?lang=en\">Contact</a>\\x94u.',\n",
       "   b'\\x80\\x04\\x95?\\x01\\x00\\x00\\x00\\x00\\x00\\x00}\\x94(\\x8c\\x05input\\x94(\\x8c\\x04home\\x94\\x8c\\x12http://example.com\\x94\\x8c\\x02fr\\x94}\\x94(\\x8c\\tmenu_home\\x94}\\x94(\\x8c\\x02en\\x94\\x8c\\x04Home\\x94\\x8c\\x02es\\x94\\x8c\\x06Inicio\\x94h\\x04\\x8c\\x07Accueil\\x94u\\x8c\\nmenu_about\\x94}\\x94(h\\x08\\x8c\\x05About\\x94h\\n\\x8c\\x06Acerca\\x94h\\x04\\x8c\\t\\xc3\\x80 Propos\\x94u\\x8c\\x0cmenu_contact\\x94}\\x94(h\\x08\\x8c\\x07Contact\\x94h\\n\\x8c\\x08Contacto\\x94h\\x04h\\x14uut\\x94\\x8c\\x06output\\x94\\x8cd<td class=\"logo\"><a href=\"http://example.com?lang=fr\"><img src=\"/brython.svg\" class=\"logo\"></a></td>\\x94u.',\n",
       "   b'\\x80\\x04\\x95\\x19\\x01\\x00\\x00\\x00\\x00\\x00\\x00}\\x94(\\x8c\\x05input\\x94(\\x8c\\x05about\\x94\\x8c\\x12http://example.com\\x94\\x8c\\x02en\\x94}\\x94(\\x8c\\tmenu_home\\x94}\\x94(h\\x04\\x8c\\x04Home\\x94\\x8c\\x02es\\x94\\x8c\\x06Inicio\\x94\\x8c\\x02fr\\x94\\x8c\\x07Accueil\\x94u\\x8c\\nmenu_about\\x94}\\x94(h\\x04\\x8c\\x05About\\x94h\\t\\x8c\\x06Acerca\\x94h\\x0b\\x8c\\t\\xc3\\x80 Propos\\x94u\\x8c\\x0cmenu_contact\\x94}\\x94(h\\x04\\x8c\\x07Contact\\x94h\\t\\x8c\\x08Contacto\\x94h\\x0bh\\x14uut\\x94\\x8c\\x06output\\x94\\x8c=<a class=\"banner\" href=\"http://example.com?lang=en\">About</a>\\x94u.',\n",
       "   b'\\x80\\x04\\x95\\x1e\\x01\\x00\\x00\\x00\\x00\\x00\\x00}\\x94(\\x8c\\x05input\\x94(\\x8c\\x07contact\\x94\\x8c\\x12http://example.com\\x94\\x8c\\x02es\\x94}\\x94(\\x8c\\tmenu_home\\x94}\\x94(\\x8c\\x02en\\x94\\x8c\\x04Home\\x94h\\x04\\x8c\\x06Inicio\\x94\\x8c\\x02fr\\x94\\x8c\\x07Accueil\\x94u\\x8c\\nmenu_about\\x94}\\x94(h\\x08\\x8c\\x05About\\x94h\\x04\\x8c\\x06Acerca\\x94h\\x0b\\x8c\\t\\xc3\\x80 Propos\\x94u\\x8c\\x0cmenu_contact\\x94}\\x94(h\\x08\\x8c\\x07Contact\\x94h\\x04\\x8c\\x08Contacto\\x94h\\x0bh\\x14uut\\x94\\x8c\\x06output\\x94\\x8c@<a class=\"banner\" href=\"http://example.com?lang=es\">Contacto</a>\\x94u.',\n",
       "   b'\\x80\\x04\\x95\\x1d\\x01\\x00\\x00\\x00\\x00\\x00\\x00}\\x94(\\x8c\\x05input\\x94(\\x8c\\x07contact\\x94\\x8c\\x12http://example.com\\x94\\x8c\\x02fr\\x94}\\x94(\\x8c\\tmenu_home\\x94}\\x94(\\x8c\\x02en\\x94\\x8c\\x04Home\\x94\\x8c\\x02es\\x94\\x8c\\x06Inicio\\x94h\\x04\\x8c\\x07Accueil\\x94u\\x8c\\nmenu_about\\x94}\\x94(h\\x08\\x8c\\x05About\\x94h\\n\\x8c\\x06Acerca\\x94h\\x04\\x8c\\t\\xc3\\x80 Propos\\x94u\\x8c\\x0cmenu_contact\\x94}\\x94(h\\x08\\x8c\\x07Contact\\x94h\\n\\x8c\\x08Contacto\\x94h\\x04h\\x14uut\\x94\\x8c\\x06output\\x94\\x8c?<a class=\"banner\" href=\"http://example.com?lang=fr\">Contact</a>\\x94u.',\n",
       "   b'\\x80\\x04\\x95\\x1a\\x01\\x00\\x00\\x00\\x00\\x00\\x00}\\x94(\\x8c\\x05input\\x94(\\x8c\\x05about\\x94\\x8c\\x12http://example.com\\x94\\x8c\\x02es\\x94}\\x94(\\x8c\\tmenu_home\\x94}\\x94(\\x8c\\x02en\\x94\\x8c\\x04Home\\x94h\\x04\\x8c\\x06Inicio\\x94\\x8c\\x02fr\\x94\\x8c\\x07Accueil\\x94u\\x8c\\nmenu_about\\x94}\\x94(h\\x08\\x8c\\x05About\\x94h\\x04\\x8c\\x06Acerca\\x94h\\x0b\\x8c\\t\\xc3\\x80 Propos\\x94u\\x8c\\x0cmenu_contact\\x94}\\x94(h\\x08\\x8c\\x07Contact\\x94h\\x04\\x8c\\x08Contacto\\x94h\\x0bh\\x14uut\\x94\\x8c\\x06output\\x94\\x8c><a class=\"banner\" href=\"http://example.com?lang=es\">Acerca</a>\\x94u.',\n",
       "   b'\\x80\\x04\\x95\\x1a\\x01\\x00\\x00\\x00\\x00\\x00\\x00}\\x94(\\x8c\\x05input\\x94(\\x8c\\x05about\\x94\\x8c\\x12http://example.com\\x94\\x8c\\x02es\\x94}\\x94(\\x8c\\tmenu_home\\x94}\\x94(\\x8c\\x02en\\x94\\x8c\\x04Home\\x94h\\x04\\x8c\\x06Inicio\\x94\\x8c\\x02fr\\x94\\x8c\\x07Accueil\\x94u\\x8c\\nmenu_about\\x94}\\x94(h\\x08\\x8c\\x05About\\x94h\\x04\\x8c\\x06Acerca\\x94h\\x0b\\x8c\\t\\xc3\\x80 Propos\\x94u\\x8c\\x0cmenu_contact\\x94}\\x94(h\\x08\\x8c\\x07Contact\\x94h\\x04\\x8c\\x08Contacto\\x94h\\x0bh\\x14uut\\x94\\x8c\\x06output\\x94\\x8c><a class=\"banner\" href=\"http://example.com?lang=es\">Acerca</a>\\x94u.',\n",
       "   b'\\x80\\x04\\x95\\x1e\\x01\\x00\\x00\\x00\\x00\\x00\\x00}\\x94(\\x8c\\x05input\\x94(\\x8c\\x07contact\\x94\\x8c\\x12http://example.com\\x94\\x8c\\x02es\\x94}\\x94(\\x8c\\tmenu_home\\x94}\\x94(\\x8c\\x02en\\x94\\x8c\\x04Home\\x94h\\x04\\x8c\\x06Inicio\\x94\\x8c\\x02fr\\x94\\x8c\\x07Accueil\\x94u\\x8c\\nmenu_about\\x94}\\x94(h\\x08\\x8c\\x05About\\x94h\\x04\\x8c\\x06Acerca\\x94h\\x0b\\x8c\\t\\xc3\\x80 Propos\\x94u\\x8c\\x0cmenu_contact\\x94}\\x94(h\\x08\\x8c\\x07Contact\\x94h\\x04\\x8c\\x08Contacto\\x94h\\x0bh\\x14uut\\x94\\x8c\\x06output\\x94\\x8c@<a class=\"banner\" href=\"http://example.com?lang=es\">Contacto</a>\\x94u.',\n",
       "   b'\\x80\\x04\\x95?\\x01\\x00\\x00\\x00\\x00\\x00\\x00}\\x94(\\x8c\\x05input\\x94(\\x8c\\x04home\\x94\\x8c\\x12http://example.com\\x94\\x8c\\x02en\\x94}\\x94(\\x8c\\tmenu_home\\x94}\\x94(h\\x04\\x8c\\x04Home\\x94\\x8c\\x02es\\x94\\x8c\\x06Inicio\\x94\\x8c\\x02fr\\x94\\x8c\\x07Accueil\\x94u\\x8c\\nmenu_about\\x94}\\x94(h\\x04\\x8c\\x05About\\x94h\\t\\x8c\\x06Acerca\\x94h\\x0b\\x8c\\t\\xc3\\x80 Propos\\x94u\\x8c\\x0cmenu_contact\\x94}\\x94(h\\x04\\x8c\\x07Contact\\x94h\\t\\x8c\\x08Contacto\\x94h\\x0bh\\x14uut\\x94\\x8c\\x06output\\x94\\x8cd<td class=\"logo\"><a href=\"http://example.com?lang=en\"><img src=\"/brython.svg\" class=\"logo\"></a></td>\\x94u.',\n",
       "   b'\\x80\\x04\\x95\\x1e\\x01\\x00\\x00\\x00\\x00\\x00\\x00}\\x94(\\x8c\\x05input\\x94(\\x8c\\x07contact\\x94\\x8c\\x12http://example.com\\x94\\x8c\\x02es\\x94}\\x94(\\x8c\\tmenu_home\\x94}\\x94(\\x8c\\x02en\\x94\\x8c\\x04Home\\x94h\\x04\\x8c\\x06Inicio\\x94\\x8c\\x02fr\\x94\\x8c\\x07Accueil\\x94u\\x8c\\nmenu_about\\x94}\\x94(h\\x08\\x8c\\x05About\\x94h\\x04\\x8c\\x06Acerca\\x94h\\x0b\\x8c\\t\\xc3\\x80 Propos\\x94u\\x8c\\x0cmenu_contact\\x94}\\x94(h\\x08\\x8c\\x07Contact\\x94h\\x04\\x8c\\x08Contacto\\x94h\\x0bh\\x14uut\\x94\\x8c\\x06output\\x94\\x8c@<a class=\"banner\" href=\"http://example.com?lang=es\">Contacto</a>\\x94u.',\n",
       "   b'\\x80\\x04\\x95?\\x01\\x00\\x00\\x00\\x00\\x00\\x00}\\x94(\\x8c\\x05input\\x94(\\x8c\\x04home\\x94\\x8c\\x12http://example.com\\x94\\x8c\\x02es\\x94}\\x94(\\x8c\\tmenu_home\\x94}\\x94(\\x8c\\x02en\\x94\\x8c\\x04Home\\x94h\\x04\\x8c\\x06Inicio\\x94\\x8c\\x02fr\\x94\\x8c\\x07Accueil\\x94u\\x8c\\nmenu_about\\x94}\\x94(h\\x08\\x8c\\x05About\\x94h\\x04\\x8c\\x06Acerca\\x94h\\x0b\\x8c\\t\\xc3\\x80 Propos\\x94u\\x8c\\x0cmenu_contact\\x94}\\x94(h\\x08\\x8c\\x07Contact\\x94h\\x04\\x8c\\x08Contacto\\x94h\\x0bh\\x14uut\\x94\\x8c\\x06output\\x94\\x8cd<td class=\"logo\"><a href=\"http://example.com?lang=es\"><img src=\"/brython.svg\" class=\"logo\"></a></td>\\x94u.',\n",
       "   b'\\x80\\x04\\x95\\x19\\x01\\x00\\x00\\x00\\x00\\x00\\x00}\\x94(\\x8c\\x05input\\x94(\\x8c\\x05about\\x94\\x8c\\x12http://example.com\\x94\\x8c\\x02en\\x94}\\x94(\\x8c\\tmenu_home\\x94}\\x94(h\\x04\\x8c\\x04Home\\x94\\x8c\\x02es\\x94\\x8c\\x06Inicio\\x94\\x8c\\x02fr\\x94\\x8c\\x07Accueil\\x94u\\x8c\\nmenu_about\\x94}\\x94(h\\x04\\x8c\\x05About\\x94h\\t\\x8c\\x06Acerca\\x94h\\x0b\\x8c\\t\\xc3\\x80 Propos\\x94u\\x8c\\x0cmenu_contact\\x94}\\x94(h\\x04\\x8c\\x07Contact\\x94h\\t\\x8c\\x08Contacto\\x94h\\x0bh\\x14uut\\x94\\x8c\\x06output\\x94\\x8c=<a class=\"banner\" href=\"http://example.com?lang=en\">About</a>\\x94u.',\n",
       "   b'\\x80\\x04\\x95\\x19\\x01\\x00\\x00\\x00\\x00\\x00\\x00}\\x94(\\x8c\\x05input\\x94(\\x8c\\x05about\\x94\\x8c\\x12http://example.com\\x94\\x8c\\x02en\\x94}\\x94(\\x8c\\tmenu_home\\x94}\\x94(h\\x04\\x8c\\x04Home\\x94\\x8c\\x02es\\x94\\x8c\\x06Inicio\\x94\\x8c\\x02fr\\x94\\x8c\\x07Accueil\\x94u\\x8c\\nmenu_about\\x94}\\x94(h\\x04\\x8c\\x05About\\x94h\\t\\x8c\\x06Acerca\\x94h\\x0b\\x8c\\t\\xc3\\x80 Propos\\x94u\\x8c\\x0cmenu_contact\\x94}\\x94(h\\x04\\x8c\\x07Contact\\x94h\\t\\x8c\\x08Contacto\\x94h\\x0bh\\x14uut\\x94\\x8c\\x06output\\x94\\x8c=<a class=\"banner\" href=\"http://example.com?lang=en\">About</a>\\x94u.',\n",
       "   b'\\x80\\x04\\x95\\x1d\\x01\\x00\\x00\\x00\\x00\\x00\\x00}\\x94(\\x8c\\x05input\\x94(\\x8c\\x05about\\x94\\x8c\\x12http://example.com\\x94\\x8c\\x02fr\\x94}\\x94(\\x8c\\tmenu_home\\x94}\\x94(\\x8c\\x02en\\x94\\x8c\\x04Home\\x94\\x8c\\x02es\\x94\\x8c\\x06Inicio\\x94h\\x04\\x8c\\x07Accueil\\x94u\\x8c\\nmenu_about\\x94}\\x94(h\\x08\\x8c\\x05About\\x94h\\n\\x8c\\x06Acerca\\x94h\\x04\\x8c\\t\\xc3\\x80 Propos\\x94u\\x8c\\x0cmenu_contact\\x94}\\x94(h\\x08\\x8c\\x07Contact\\x94h\\n\\x8c\\x08Contacto\\x94h\\x04h\\x14uut\\x94\\x8c\\x06output\\x94\\x8cA<a class=\"banner\" href=\"http://example.com?lang=fr\">\\xc3\\x80 Propos</a>\\x94u.',\n",
       "   b'\\x80\\x04\\x95?\\x01\\x00\\x00\\x00\\x00\\x00\\x00}\\x94(\\x8c\\x05input\\x94(\\x8c\\x04home\\x94\\x8c\\x12http://example.com\\x94\\x8c\\x02en\\x94}\\x94(\\x8c\\tmenu_home\\x94}\\x94(h\\x04\\x8c\\x04Home\\x94\\x8c\\x02es\\x94\\x8c\\x06Inicio\\x94\\x8c\\x02fr\\x94\\x8c\\x07Accueil\\x94u\\x8c\\nmenu_about\\x94}\\x94(h\\x04\\x8c\\x05About\\x94h\\t\\x8c\\x06Acerca\\x94h\\x0b\\x8c\\t\\xc3\\x80 Propos\\x94u\\x8c\\x0cmenu_contact\\x94}\\x94(h\\x04\\x8c\\x07Contact\\x94h\\t\\x8c\\x08Contacto\\x94h\\x0bh\\x14uut\\x94\\x8c\\x06output\\x94\\x8cd<td class=\"logo\"><a href=\"http://example.com?lang=en\"><img src=\"/brython.svg\" class=\"logo\"></a></td>\\x94u.',\n",
       "   b'\\x80\\x04\\x95?\\x01\\x00\\x00\\x00\\x00\\x00\\x00}\\x94(\\x8c\\x05input\\x94(\\x8c\\x04home\\x94\\x8c\\x12http://example.com\\x94\\x8c\\x02en\\x94}\\x94(\\x8c\\tmenu_home\\x94}\\x94(h\\x04\\x8c\\x04Home\\x94\\x8c\\x02es\\x94\\x8c\\x06Inicio\\x94\\x8c\\x02fr\\x94\\x8c\\x07Accueil\\x94u\\x8c\\nmenu_about\\x94}\\x94(h\\x04\\x8c\\x05About\\x94h\\t\\x8c\\x06Acerca\\x94h\\x0b\\x8c\\t\\xc3\\x80 Propos\\x94u\\x8c\\x0cmenu_contact\\x94}\\x94(h\\x04\\x8c\\x07Contact\\x94h\\t\\x8c\\x08Contacto\\x94h\\x0bh\\x14uut\\x94\\x8c\\x06output\\x94\\x8cd<td class=\"logo\"><a href=\"http://example.com?lang=en\"><img src=\"/brython.svg\" class=\"logo\"></a></td>\\x94u.',\n",
       "   b'\\x80\\x04\\x95\\x1d\\x01\\x00\\x00\\x00\\x00\\x00\\x00}\\x94(\\x8c\\x05input\\x94(\\x8c\\x05about\\x94\\x8c\\x12http://example.com\\x94\\x8c\\x02fr\\x94}\\x94(\\x8c\\tmenu_home\\x94}\\x94(\\x8c\\x02en\\x94\\x8c\\x04Home\\x94\\x8c\\x02es\\x94\\x8c\\x06Inicio\\x94h\\x04\\x8c\\x07Accueil\\x94u\\x8c\\nmenu_about\\x94}\\x94(h\\x08\\x8c\\x05About\\x94h\\n\\x8c\\x06Acerca\\x94h\\x04\\x8c\\t\\xc3\\x80 Propos\\x94u\\x8c\\x0cmenu_contact\\x94}\\x94(h\\x08\\x8c\\x07Contact\\x94h\\n\\x8c\\x08Contacto\\x94h\\x04h\\x14uut\\x94\\x8c\\x06output\\x94\\x8cA<a class=\"banner\" href=\"http://example.com?lang=fr\">\\xc3\\x80 Propos</a>\\x94u.',\n",
       "   b'\\x80\\x04\\x95\\x1d\\x01\\x00\\x00\\x00\\x00\\x00\\x00}\\x94(\\x8c\\x05input\\x94(\\x8c\\x07contact\\x94\\x8c\\x12http://example.com\\x94\\x8c\\x02en\\x94}\\x94(\\x8c\\tmenu_home\\x94}\\x94(h\\x04\\x8c\\x04Home\\x94\\x8c\\x02es\\x94\\x8c\\x06Inicio\\x94\\x8c\\x02fr\\x94\\x8c\\x07Accueil\\x94u\\x8c\\nmenu_about\\x94}\\x94(h\\x04\\x8c\\x05About\\x94h\\t\\x8c\\x06Acerca\\x94h\\x0b\\x8c\\t\\xc3\\x80 Propos\\x94u\\x8c\\x0cmenu_contact\\x94}\\x94(h\\x04\\x8c\\x07Contact\\x94h\\t\\x8c\\x08Contacto\\x94h\\x0bh\\x14uut\\x94\\x8c\\x06output\\x94\\x8c?<a class=\"banner\" href=\"http://example.com?lang=en\">Contact</a>\\x94u.',\n",
       "   b'\\x80\\x04\\x95?\\x01\\x00\\x00\\x00\\x00\\x00\\x00}\\x94(\\x8c\\x05input\\x94(\\x8c\\x04home\\x94\\x8c\\x12http://example.com\\x94\\x8c\\x02en\\x94}\\x94(\\x8c\\tmenu_home\\x94}\\x94(h\\x04\\x8c\\x04Home\\x94\\x8c\\x02es\\x94\\x8c\\x06Inicio\\x94\\x8c\\x02fr\\x94\\x8c\\x07Accueil\\x94u\\x8c\\nmenu_about\\x94}\\x94(h\\x04\\x8c\\x05About\\x94h\\t\\x8c\\x06Acerca\\x94h\\x0b\\x8c\\t\\xc3\\x80 Propos\\x94u\\x8c\\x0cmenu_contact\\x94}\\x94(h\\x04\\x8c\\x07Contact\\x94h\\t\\x8c\\x08Contacto\\x94h\\x0bh\\x14uut\\x94\\x8c\\x06output\\x94\\x8cd<td class=\"logo\"><a href=\"http://example.com?lang=en\"><img src=\"/brython.svg\" class=\"logo\"></a></td>\\x94u.',\n",
       "   b'\\x80\\x04\\x95\\x1a\\x01\\x00\\x00\\x00\\x00\\x00\\x00}\\x94(\\x8c\\x05input\\x94(\\x8c\\x05about\\x94\\x8c\\x12http://example.com\\x94\\x8c\\x02es\\x94}\\x94(\\x8c\\tmenu_home\\x94}\\x94(\\x8c\\x02en\\x94\\x8c\\x04Home\\x94h\\x04\\x8c\\x06Inicio\\x94\\x8c\\x02fr\\x94\\x8c\\x07Accueil\\x94u\\x8c\\nmenu_about\\x94}\\x94(h\\x08\\x8c\\x05About\\x94h\\x04\\x8c\\x06Acerca\\x94h\\x0b\\x8c\\t\\xc3\\x80 Propos\\x94u\\x8c\\x0cmenu_contact\\x94}\\x94(h\\x08\\x8c\\x07Contact\\x94h\\x04\\x8c\\x08Contacto\\x94h\\x0bh\\x14uut\\x94\\x8c\\x06output\\x94\\x8c><a class=\"banner\" href=\"http://example.com?lang=es\">Acerca</a>\\x94u.',\n",
       "   b'\\x80\\x04\\x95?\\x01\\x00\\x00\\x00\\x00\\x00\\x00}\\x94(\\x8c\\x05input\\x94(\\x8c\\x04home\\x94\\x8c\\x12http://example.com\\x94\\x8c\\x02en\\x94}\\x94(\\x8c\\tmenu_home\\x94}\\x94(h\\x04\\x8c\\x04Home\\x94\\x8c\\x02es\\x94\\x8c\\x06Inicio\\x94\\x8c\\x02fr\\x94\\x8c\\x07Accueil\\x94u\\x8c\\nmenu_about\\x94}\\x94(h\\x04\\x8c\\x05About\\x94h\\t\\x8c\\x06Acerca\\x94h\\x0b\\x8c\\t\\xc3\\x80 Propos\\x94u\\x8c\\x0cmenu_contact\\x94}\\x94(h\\x04\\x8c\\x07Contact\\x94h\\t\\x8c\\x08Contacto\\x94h\\x0bh\\x14uut\\x94\\x8c\\x06output\\x94\\x8cd<td class=\"logo\"><a href=\"http://example.com?lang=en\"><img src=\"/brython.svg\" class=\"logo\"></a></td>\\x94u.',\n",
       "   b'\\x80\\x04\\x95?\\x01\\x00\\x00\\x00\\x00\\x00\\x00}\\x94(\\x8c\\x05input\\x94(\\x8c\\x04home\\x94\\x8c\\x12http://example.com\\x94\\x8c\\x02es\\x94}\\x94(\\x8c\\tmenu_home\\x94}\\x94(\\x8c\\x02en\\x94\\x8c\\x04Home\\x94h\\x04\\x8c\\x06Inicio\\x94\\x8c\\x02fr\\x94\\x8c\\x07Accueil\\x94u\\x8c\\nmenu_about\\x94}\\x94(h\\x08\\x8c\\x05About\\x94h\\x04\\x8c\\x06Acerca\\x94h\\x0b\\x8c\\t\\xc3\\x80 Propos\\x94u\\x8c\\x0cmenu_contact\\x94}\\x94(h\\x08\\x8c\\x07Contact\\x94h\\x04\\x8c\\x08Contacto\\x94h\\x0bh\\x14uut\\x94\\x8c\\x06output\\x94\\x8cd<td class=\"logo\"><a href=\"http://example.com?lang=es\"><img src=\"/brython.svg\" class=\"logo\"></a></td>\\x94u.',\n",
       "   b'\\x80\\x04\\x95\\x19\\x01\\x00\\x00\\x00\\x00\\x00\\x00}\\x94(\\x8c\\x05input\\x94(\\x8c\\x05about\\x94\\x8c\\x12http://example.com\\x94\\x8c\\x02en\\x94}\\x94(\\x8c\\tmenu_home\\x94}\\x94(h\\x04\\x8c\\x04Home\\x94\\x8c\\x02es\\x94\\x8c\\x06Inicio\\x94\\x8c\\x02fr\\x94\\x8c\\x07Accueil\\x94u\\x8c\\nmenu_about\\x94}\\x94(h\\x04\\x8c\\x05About\\x94h\\t\\x8c\\x06Acerca\\x94h\\x0b\\x8c\\t\\xc3\\x80 Propos\\x94u\\x8c\\x0cmenu_contact\\x94}\\x94(h\\x04\\x8c\\x07Contact\\x94h\\t\\x8c\\x08Contacto\\x94h\\x0bh\\x14uut\\x94\\x8c\\x06output\\x94\\x8c=<a class=\"banner\" href=\"http://example.com?lang=en\">About</a>\\x94u.',\n",
       "   b'\\x80\\x04\\x95?\\x01\\x00\\x00\\x00\\x00\\x00\\x00}\\x94(\\x8c\\x05input\\x94(\\x8c\\x04home\\x94\\x8c\\x12http://example.com\\x94\\x8c\\x02en\\x94}\\x94(\\x8c\\tmenu_home\\x94}\\x94(h\\x04\\x8c\\x04Home\\x94\\x8c\\x02es\\x94\\x8c\\x06Inicio\\x94\\x8c\\x02fr\\x94\\x8c\\x07Accueil\\x94u\\x8c\\nmenu_about\\x94}\\x94(h\\x04\\x8c\\x05About\\x94h\\t\\x8c\\x06Acerca\\x94h\\x0b\\x8c\\t\\xc3\\x80 Propos\\x94u\\x8c\\x0cmenu_contact\\x94}\\x94(h\\x04\\x8c\\x07Contact\\x94h\\t\\x8c\\x08Contacto\\x94h\\x0bh\\x14uut\\x94\\x8c\\x06output\\x94\\x8cd<td class=\"logo\"><a href=\"http://example.com?lang=en\"><img src=\"/brython.svg\" class=\"logo\"></a></td>\\x94u.',\n",
       "   b'\\x80\\x04\\x95\\x19\\x01\\x00\\x00\\x00\\x00\\x00\\x00}\\x94(\\x8c\\x05input\\x94(\\x8c\\x05about\\x94\\x8c\\x12http://example.com\\x94\\x8c\\x02en\\x94}\\x94(\\x8c\\tmenu_home\\x94}\\x94(h\\x04\\x8c\\x04Home\\x94\\x8c\\x02es\\x94\\x8c\\x06Inicio\\x94\\x8c\\x02fr\\x94\\x8c\\x07Accueil\\x94u\\x8c\\nmenu_about\\x94}\\x94(h\\x04\\x8c\\x05About\\x94h\\t\\x8c\\x06Acerca\\x94h\\x0b\\x8c\\t\\xc3\\x80 Propos\\x94u\\x8c\\x0cmenu_contact\\x94}\\x94(h\\x04\\x8c\\x07Contact\\x94h\\t\\x8c\\x08Contacto\\x94h\\x0bh\\x14uut\\x94\\x8c\\x06output\\x94\\x8c=<a class=\"banner\" href=\"http://example.com?lang=en\">About</a>\\x94u.',\n",
       "   b'\\x80\\x04\\x95\\x1d\\x01\\x00\\x00\\x00\\x00\\x00\\x00}\\x94(\\x8c\\x05input\\x94(\\x8c\\x07contact\\x94\\x8c\\x12http://example.com\\x94\\x8c\\x02en\\x94}\\x94(\\x8c\\tmenu_home\\x94}\\x94(h\\x04\\x8c\\x04Home\\x94\\x8c\\x02es\\x94\\x8c\\x06Inicio\\x94\\x8c\\x02fr\\x94\\x8c\\x07Accueil\\x94u\\x8c\\nmenu_about\\x94}\\x94(h\\x04\\x8c\\x05About\\x94h\\t\\x8c\\x06Acerca\\x94h\\x0b\\x8c\\t\\xc3\\x80 Propos\\x94u\\x8c\\x0cmenu_contact\\x94}\\x94(h\\x04\\x8c\\x07Contact\\x94h\\t\\x8c\\x08Contacto\\x94h\\x0bh\\x14uut\\x94\\x8c\\x06output\\x94\\x8c?<a class=\"banner\" href=\"http://example.com?lang=en\">Contact</a>\\x94u.',\n",
       "   b'\\x80\\x04\\x95\\x1e\\x01\\x00\\x00\\x00\\x00\\x00\\x00}\\x94(\\x8c\\x05input\\x94(\\x8c\\x07contact\\x94\\x8c\\x12http://example.com\\x94\\x8c\\x02es\\x94}\\x94(\\x8c\\tmenu_home\\x94}\\x94(\\x8c\\x02en\\x94\\x8c\\x04Home\\x94h\\x04\\x8c\\x06Inicio\\x94\\x8c\\x02fr\\x94\\x8c\\x07Accueil\\x94u\\x8c\\nmenu_about\\x94}\\x94(h\\x08\\x8c\\x05About\\x94h\\x04\\x8c\\x06Acerca\\x94h\\x0b\\x8c\\t\\xc3\\x80 Propos\\x94u\\x8c\\x0cmenu_contact\\x94}\\x94(h\\x08\\x8c\\x07Contact\\x94h\\x04\\x8c\\x08Contacto\\x94h\\x0bh\\x14uut\\x94\\x8c\\x06output\\x94\\x8c@<a class=\"banner\" href=\"http://example.com?lang=es\">Contacto</a>\\x94u.',\n",
       "   b'\\x80\\x04\\x95\\x1d\\x01\\x00\\x00\\x00\\x00\\x00\\x00}\\x94(\\x8c\\x05input\\x94(\\x8c\\x07contact\\x94\\x8c\\x12http://example.com\\x94\\x8c\\x02fr\\x94}\\x94(\\x8c\\tmenu_home\\x94}\\x94(\\x8c\\x02en\\x94\\x8c\\x04Home\\x94\\x8c\\x02es\\x94\\x8c\\x06Inicio\\x94h\\x04\\x8c\\x07Accueil\\x94u\\x8c\\nmenu_about\\x94}\\x94(h\\x08\\x8c\\x05About\\x94h\\n\\x8c\\x06Acerca\\x94h\\x04\\x8c\\t\\xc3\\x80 Propos\\x94u\\x8c\\x0cmenu_contact\\x94}\\x94(h\\x08\\x8c\\x07Contact\\x94h\\n\\x8c\\x08Contacto\\x94h\\x04h\\x14uut\\x94\\x8c\\x06output\\x94\\x8c?<a class=\"banner\" href=\"http://example.com?lang=fr\">Contact</a>\\x94u.',\n",
       "   b'\\x80\\x04\\x95\\x19\\x01\\x00\\x00\\x00\\x00\\x00\\x00}\\x94(\\x8c\\x05input\\x94(\\x8c\\x05about\\x94\\x8c\\x12http://example.com\\x94\\x8c\\x02en\\x94}\\x94(\\x8c\\tmenu_home\\x94}\\x94(h\\x04\\x8c\\x04Home\\x94\\x8c\\x02es\\x94\\x8c\\x06Inicio\\x94\\x8c\\x02fr\\x94\\x8c\\x07Accueil\\x94u\\x8c\\nmenu_about\\x94}\\x94(h\\x04\\x8c\\x05About\\x94h\\t\\x8c\\x06Acerca\\x94h\\x0b\\x8c\\t\\xc3\\x80 Propos\\x94u\\x8c\\x0cmenu_contact\\x94}\\x94(h\\x04\\x8c\\x07Contact\\x94h\\t\\x8c\\x08Contacto\\x94h\\x0bh\\x14uut\\x94\\x8c\\x06output\\x94\\x8c=<a class=\"banner\" href=\"http://example.com?lang=en\">About</a>\\x94u.',\n",
       "   b'\\x80\\x04\\x95\\x19\\x01\\x00\\x00\\x00\\x00\\x00\\x00}\\x94(\\x8c\\x05input\\x94(\\x8c\\x05about\\x94\\x8c\\x12http://example.com\\x94\\x8c\\x02en\\x94}\\x94(\\x8c\\tmenu_home\\x94}\\x94(h\\x04\\x8c\\x04Home\\x94\\x8c\\x02es\\x94\\x8c\\x06Inicio\\x94\\x8c\\x02fr\\x94\\x8c\\x07Accueil\\x94u\\x8c\\nmenu_about\\x94}\\x94(h\\x04\\x8c\\x05About\\x94h\\t\\x8c\\x06Acerca\\x94h\\x0b\\x8c\\t\\xc3\\x80 Propos\\x94u\\x8c\\x0cmenu_contact\\x94}\\x94(h\\x04\\x8c\\x07Contact\\x94h\\t\\x8c\\x08Contacto\\x94h\\x0bh\\x14uut\\x94\\x8c\\x06output\\x94\\x8c=<a class=\"banner\" href=\"http://example.com?lang=en\">About</a>\\x94u.',\n",
       "   b'\\x80\\x04\\x95\\x1d\\x01\\x00\\x00\\x00\\x00\\x00\\x00}\\x94(\\x8c\\x05input\\x94(\\x8c\\x07contact\\x94\\x8c\\x12http://example.com\\x94\\x8c\\x02fr\\x94}\\x94(\\x8c\\tmenu_home\\x94}\\x94(\\x8c\\x02en\\x94\\x8c\\x04Home\\x94\\x8c\\x02es\\x94\\x8c\\x06Inicio\\x94h\\x04\\x8c\\x07Accueil\\x94u\\x8c\\nmenu_about\\x94}\\x94(h\\x08\\x8c\\x05About\\x94h\\n\\x8c\\x06Acerca\\x94h\\x04\\x8c\\t\\xc3\\x80 Propos\\x94u\\x8c\\x0cmenu_contact\\x94}\\x94(h\\x08\\x8c\\x07Contact\\x94h\\n\\x8c\\x08Contacto\\x94h\\x04h\\x14uut\\x94\\x8c\\x06output\\x94\\x8c?<a class=\"banner\" href=\"http://example.com?lang=fr\">Contact</a>\\x94u.',\n",
       "   b'\\x80\\x04\\x95\\x19\\x01\\x00\\x00\\x00\\x00\\x00\\x00}\\x94(\\x8c\\x05input\\x94(\\x8c\\x05about\\x94\\x8c\\x12http://example.com\\x94\\x8c\\x02en\\x94}\\x94(\\x8c\\tmenu_home\\x94}\\x94(h\\x04\\x8c\\x04Home\\x94\\x8c\\x02es\\x94\\x8c\\x06Inicio\\x94\\x8c\\x02fr\\x94\\x8c\\x07Accueil\\x94u\\x8c\\nmenu_about\\x94}\\x94(h\\x04\\x8c\\x05About\\x94h\\t\\x8c\\x06Acerca\\x94h\\x0b\\x8c\\t\\xc3\\x80 Propos\\x94u\\x8c\\x0cmenu_contact\\x94}\\x94(h\\x04\\x8c\\x07Contact\\x94h\\t\\x8c\\x08Contacto\\x94h\\x0bh\\x14uut\\x94\\x8c\\x06output\\x94\\x8c=<a class=\"banner\" href=\"http://example.com?lang=en\">About</a>\\x94u.',\n",
       "   b'\\x80\\x04\\x95\\x1a\\x01\\x00\\x00\\x00\\x00\\x00\\x00}\\x94(\\x8c\\x05input\\x94(\\x8c\\x05about\\x94\\x8c\\x12http://example.com\\x94\\x8c\\x02es\\x94}\\x94(\\x8c\\tmenu_home\\x94}\\x94(\\x8c\\x02en\\x94\\x8c\\x04Home\\x94h\\x04\\x8c\\x06Inicio\\x94\\x8c\\x02fr\\x94\\x8c\\x07Accueil\\x94u\\x8c\\nmenu_about\\x94}\\x94(h\\x08\\x8c\\x05About\\x94h\\x04\\x8c\\x06Acerca\\x94h\\x0b\\x8c\\t\\xc3\\x80 Propos\\x94u\\x8c\\x0cmenu_contact\\x94}\\x94(h\\x08\\x8c\\x07Contact\\x94h\\x04\\x8c\\x08Contacto\\x94h\\x0bh\\x14uut\\x94\\x8c\\x06output\\x94\\x8c><a class=\"banner\" href=\"http://example.com?lang=es\">Acerca</a>\\x94u.',\n",
       "   b'\\x80\\x04\\x95\\x1d\\x01\\x00\\x00\\x00\\x00\\x00\\x00}\\x94(\\x8c\\x05input\\x94(\\x8c\\x07contact\\x94\\x8c\\x12http://example.com\\x94\\x8c\\x02fr\\x94}\\x94(\\x8c\\tmenu_home\\x94}\\x94(\\x8c\\x02en\\x94\\x8c\\x04Home\\x94\\x8c\\x02es\\x94\\x8c\\x06Inicio\\x94h\\x04\\x8c\\x07Accueil\\x94u\\x8c\\nmenu_about\\x94}\\x94(h\\x08\\x8c\\x05About\\x94h\\n\\x8c\\x06Acerca\\x94h\\x04\\x8c\\t\\xc3\\x80 Propos\\x94u\\x8c\\x0cmenu_contact\\x94}\\x94(h\\x08\\x8c\\x07Contact\\x94h\\n\\x8c\\x08Contacto\\x94h\\x04h\\x14uut\\x94\\x8c\\x06output\\x94\\x8c?<a class=\"banner\" href=\"http://example.com?lang=fr\">Contact</a>\\x94u.',\n",
       "   b'\\x80\\x04\\x95\\x19\\x01\\x00\\x00\\x00\\x00\\x00\\x00}\\x94(\\x8c\\x05input\\x94(\\x8c\\x05about\\x94\\x8c\\x12http://example.com\\x94\\x8c\\x02en\\x94}\\x94(\\x8c\\tmenu_home\\x94}\\x94(h\\x04\\x8c\\x04Home\\x94\\x8c\\x02es\\x94\\x8c\\x06Inicio\\x94\\x8c\\x02fr\\x94\\x8c\\x07Accueil\\x94u\\x8c\\nmenu_about\\x94}\\x94(h\\x04\\x8c\\x05About\\x94h\\t\\x8c\\x06Acerca\\x94h\\x0b\\x8c\\t\\xc3\\x80 Propos\\x94u\\x8c\\x0cmenu_contact\\x94}\\x94(h\\x04\\x8c\\x07Contact\\x94h\\t\\x8c\\x08Contacto\\x94h\\x0bh\\x14uut\\x94\\x8c\\x06output\\x94\\x8c=<a class=\"banner\" href=\"http://example.com?lang=en\">About</a>\\x94u.',\n",
       "   b'\\x80\\x04\\x95\\x1d\\x01\\x00\\x00\\x00\\x00\\x00\\x00}\\x94(\\x8c\\x05input\\x94(\\x8c\\x07contact\\x94\\x8c\\x12http://example.com\\x94\\x8c\\x02en\\x94}\\x94(\\x8c\\tmenu_home\\x94}\\x94(h\\x04\\x8c\\x04Home\\x94\\x8c\\x02es\\x94\\x8c\\x06Inicio\\x94\\x8c\\x02fr\\x94\\x8c\\x07Accueil\\x94u\\x8c\\nmenu_about\\x94}\\x94(h\\x04\\x8c\\x05About\\x94h\\t\\x8c\\x06Acerca\\x94h\\x0b\\x8c\\t\\xc3\\x80 Propos\\x94u\\x8c\\x0cmenu_contact\\x94}\\x94(h\\x04\\x8c\\x07Contact\\x94h\\t\\x8c\\x08Contacto\\x94h\\x0bh\\x14uut\\x94\\x8c\\x06output\\x94\\x8c?<a class=\"banner\" href=\"http://example.com?lang=en\">Contact</a>\\x94u.',\n",
       "   b'\\x80\\x04\\x95?\\x01\\x00\\x00\\x00\\x00\\x00\\x00}\\x94(\\x8c\\x05input\\x94(\\x8c\\x04home\\x94\\x8c\\x12http://example.com\\x94\\x8c\\x02fr\\x94}\\x94(\\x8c\\tmenu_home\\x94}\\x94(\\x8c\\x02en\\x94\\x8c\\x04Home\\x94\\x8c\\x02es\\x94\\x8c\\x06Inicio\\x94h\\x04\\x8c\\x07Accueil\\x94u\\x8c\\nmenu_about\\x94}\\x94(h\\x08\\x8c\\x05About\\x94h\\n\\x8c\\x06Acerca\\x94h\\x04\\x8c\\t\\xc3\\x80 Propos\\x94u\\x8c\\x0cmenu_contact\\x94}\\x94(h\\x08\\x8c\\x07Contact\\x94h\\n\\x8c\\x08Contacto\\x94h\\x04h\\x14uut\\x94\\x8c\\x06output\\x94\\x8cd<td class=\"logo\"><a href=\"http://example.com?lang=fr\"><img src=\"/brython.svg\" class=\"logo\"></a></td>\\x94u.',\n",
       "   b'\\x80\\x04\\x95\\x1d\\x01\\x00\\x00\\x00\\x00\\x00\\x00}\\x94(\\x8c\\x05input\\x94(\\x8c\\x07contact\\x94\\x8c\\x12http://example.com\\x94\\x8c\\x02en\\x94}\\x94(\\x8c\\tmenu_home\\x94}\\x94(h\\x04\\x8c\\x04Home\\x94\\x8c\\x02es\\x94\\x8c\\x06Inicio\\x94\\x8c\\x02fr\\x94\\x8c\\x07Accueil\\x94u\\x8c\\nmenu_about\\x94}\\x94(h\\x04\\x8c\\x05About\\x94h\\t\\x8c\\x06Acerca\\x94h\\x0b\\x8c\\t\\xc3\\x80 Propos\\x94u\\x8c\\x0cmenu_contact\\x94}\\x94(h\\x04\\x8c\\x07Contact\\x94h\\t\\x8c\\x08Contacto\\x94h\\x0bh\\x14uut\\x94\\x8c\\x06output\\x94\\x8c?<a class=\"banner\" href=\"http://example.com?lang=en\">Contact</a>\\x94u.',\n",
       "   b'\\x80\\x04\\x95\\x1d\\x01\\x00\\x00\\x00\\x00\\x00\\x00}\\x94(\\x8c\\x05input\\x94(\\x8c\\x07contact\\x94\\x8c\\x12http://example.com\\x94\\x8c\\x02fr\\x94}\\x94(\\x8c\\tmenu_home\\x94}\\x94(\\x8c\\x02en\\x94\\x8c\\x04Home\\x94\\x8c\\x02es\\x94\\x8c\\x06Inicio\\x94h\\x04\\x8c\\x07Accueil\\x94u\\x8c\\nmenu_about\\x94}\\x94(h\\x08\\x8c\\x05About\\x94h\\n\\x8c\\x06Acerca\\x94h\\x04\\x8c\\t\\xc3\\x80 Propos\\x94u\\x8c\\x0cmenu_contact\\x94}\\x94(h\\x08\\x8c\\x07Contact\\x94h\\n\\x8c\\x08Contacto\\x94h\\x04h\\x14uut\\x94\\x8c\\x06output\\x94\\x8c?<a class=\"banner\" href=\"http://example.com?lang=fr\">Contact</a>\\x94u.',\n",
       "   b'\\x80\\x04\\x95\\x1d\\x01\\x00\\x00\\x00\\x00\\x00\\x00}\\x94(\\x8c\\x05input\\x94(\\x8c\\x07contact\\x94\\x8c\\x12http://example.com\\x94\\x8c\\x02fr\\x94}\\x94(\\x8c\\tmenu_home\\x94}\\x94(\\x8c\\x02en\\x94\\x8c\\x04Home\\x94\\x8c\\x02es\\x94\\x8c\\x06Inicio\\x94h\\x04\\x8c\\x07Accueil\\x94u\\x8c\\nmenu_about\\x94}\\x94(h\\x08\\x8c\\x05About\\x94h\\n\\x8c\\x06Acerca\\x94h\\x04\\x8c\\t\\xc3\\x80 Propos\\x94u\\x8c\\x0cmenu_contact\\x94}\\x94(h\\x08\\x8c\\x07Contact\\x94h\\n\\x8c\\x08Contacto\\x94h\\x04h\\x14uut\\x94\\x8c\\x06output\\x94\\x8c?<a class=\"banner\" href=\"http://example.com?lang=fr\">Contact</a>\\x94u.',\n",
       "   b'\\x80\\x04\\x95?\\x01\\x00\\x00\\x00\\x00\\x00\\x00}\\x94(\\x8c\\x05input\\x94(\\x8c\\x04home\\x94\\x8c\\x12http://example.com\\x94\\x8c\\x02es\\x94}\\x94(\\x8c\\tmenu_home\\x94}\\x94(\\x8c\\x02en\\x94\\x8c\\x04Home\\x94h\\x04\\x8c\\x06Inicio\\x94\\x8c\\x02fr\\x94\\x8c\\x07Accueil\\x94u\\x8c\\nmenu_about\\x94}\\x94(h\\x08\\x8c\\x05About\\x94h\\x04\\x8c\\x06Acerca\\x94h\\x0b\\x8c\\t\\xc3\\x80 Propos\\x94u\\x8c\\x0cmenu_contact\\x94}\\x94(h\\x08\\x8c\\x07Contact\\x94h\\x04\\x8c\\x08Contacto\\x94h\\x0bh\\x14uut\\x94\\x8c\\x06output\\x94\\x8cd<td class=\"logo\"><a href=\"http://example.com?lang=es\"><img src=\"/brython.svg\" class=\"logo\"></a></td>\\x94u.',\n",
       "   b'\\x80\\x04\\x95\\x1d\\x01\\x00\\x00\\x00\\x00\\x00\\x00}\\x94(\\x8c\\x05input\\x94(\\x8c\\x07contact\\x94\\x8c\\x12http://example.com\\x94\\x8c\\x02en\\x94}\\x94(\\x8c\\tmenu_home\\x94}\\x94(h\\x04\\x8c\\x04Home\\x94\\x8c\\x02es\\x94\\x8c\\x06Inicio\\x94\\x8c\\x02fr\\x94\\x8c\\x07Accueil\\x94u\\x8c\\nmenu_about\\x94}\\x94(h\\x04\\x8c\\x05About\\x94h\\t\\x8c\\x06Acerca\\x94h\\x0b\\x8c\\t\\xc3\\x80 Propos\\x94u\\x8c\\x0cmenu_contact\\x94}\\x94(h\\x04\\x8c\\x07Contact\\x94h\\t\\x8c\\x08Contacto\\x94h\\x0bh\\x14uut\\x94\\x8c\\x06output\\x94\\x8c?<a class=\"banner\" href=\"http://example.com?lang=en\">Contact</a>\\x94u.',\n",
       "   b'\\x80\\x04\\x95\\x1d\\x01\\x00\\x00\\x00\\x00\\x00\\x00}\\x94(\\x8c\\x05input\\x94(\\x8c\\x05about\\x94\\x8c\\x12http://example.com\\x94\\x8c\\x02fr\\x94}\\x94(\\x8c\\tmenu_home\\x94}\\x94(\\x8c\\x02en\\x94\\x8c\\x04Home\\x94\\x8c\\x02es\\x94\\x8c\\x06Inicio\\x94h\\x04\\x8c\\x07Accueil\\x94u\\x8c\\nmenu_about\\x94}\\x94(h\\x08\\x8c\\x05About\\x94h\\n\\x8c\\x06Acerca\\x94h\\x04\\x8c\\t\\xc3\\x80 Propos\\x94u\\x8c\\x0cmenu_contact\\x94}\\x94(h\\x08\\x8c\\x07Contact\\x94h\\n\\x8c\\x08Contacto\\x94h\\x04h\\x14uut\\x94\\x8c\\x06output\\x94\\x8cA<a class=\"banner\" href=\"http://example.com?lang=fr\">\\xc3\\x80 Propos</a>\\x94u.',\n",
       "   b'\\x80\\x04\\x95\\x1d\\x01\\x00\\x00\\x00\\x00\\x00\\x00}\\x94(\\x8c\\x05input\\x94(\\x8c\\x05about\\x94\\x8c\\x12http://example.com\\x94\\x8c\\x02fr\\x94}\\x94(\\x8c\\tmenu_home\\x94}\\x94(\\x8c\\x02en\\x94\\x8c\\x04Home\\x94\\x8c\\x02es\\x94\\x8c\\x06Inicio\\x94h\\x04\\x8c\\x07Accueil\\x94u\\x8c\\nmenu_about\\x94}\\x94(h\\x08\\x8c\\x05About\\x94h\\n\\x8c\\x06Acerca\\x94h\\x04\\x8c\\t\\xc3\\x80 Propos\\x94u\\x8c\\x0cmenu_contact\\x94}\\x94(h\\x08\\x8c\\x07Contact\\x94h\\n\\x8c\\x08Contacto\\x94h\\x04h\\x14uut\\x94\\x8c\\x06output\\x94\\x8cA<a class=\"banner\" href=\"http://example.com?lang=fr\">\\xc3\\x80 Propos</a>\\x94u.',\n",
       "   b'\\x80\\x04\\x95\\x19\\x01\\x00\\x00\\x00\\x00\\x00\\x00}\\x94(\\x8c\\x05input\\x94(\\x8c\\x05about\\x94\\x8c\\x12http://example.com\\x94\\x8c\\x02en\\x94}\\x94(\\x8c\\tmenu_home\\x94}\\x94(h\\x04\\x8c\\x04Home\\x94\\x8c\\x02es\\x94\\x8c\\x06Inicio\\x94\\x8c\\x02fr\\x94\\x8c\\x07Accueil\\x94u\\x8c\\nmenu_about\\x94}\\x94(h\\x04\\x8c\\x05About\\x94h\\t\\x8c\\x06Acerca\\x94h\\x0b\\x8c\\t\\xc3\\x80 Propos\\x94u\\x8c\\x0cmenu_contact\\x94}\\x94(h\\x04\\x8c\\x07Contact\\x94h\\t\\x8c\\x08Contacto\\x94h\\x0bh\\x14uut\\x94\\x8c\\x06output\\x94\\x8c=<a class=\"banner\" href=\"http://example.com?lang=en\">About</a>\\x94u.',\n",
       "   b'\\x80\\x04\\x95\\x19\\x01\\x00\\x00\\x00\\x00\\x00\\x00}\\x94(\\x8c\\x05input\\x94(\\x8c\\x05about\\x94\\x8c\\x12http://example.com\\x94\\x8c\\x02en\\x94}\\x94(\\x8c\\tmenu_home\\x94}\\x94(h\\x04\\x8c\\x04Home\\x94\\x8c\\x02es\\x94\\x8c\\x06Inicio\\x94\\x8c\\x02fr\\x94\\x8c\\x07Accueil\\x94u\\x8c\\nmenu_about\\x94}\\x94(h\\x04\\x8c\\x05About\\x94h\\t\\x8c\\x06Acerca\\x94h\\x0b\\x8c\\t\\xc3\\x80 Propos\\x94u\\x8c\\x0cmenu_contact\\x94}\\x94(h\\x04\\x8c\\x07Contact\\x94h\\t\\x8c\\x08Contacto\\x94h\\x0bh\\x14uut\\x94\\x8c\\x06output\\x94\\x8c=<a class=\"banner\" href=\"http://example.com?lang=en\">About</a>\\x94u.',\n",
       "   b'\\x80\\x04\\x95\\x1e\\x01\\x00\\x00\\x00\\x00\\x00\\x00}\\x94(\\x8c\\x05input\\x94(\\x8c\\x07contact\\x94\\x8c\\x12http://example.com\\x94\\x8c\\x02es\\x94}\\x94(\\x8c\\tmenu_home\\x94}\\x94(\\x8c\\x02en\\x94\\x8c\\x04Home\\x94h\\x04\\x8c\\x06Inicio\\x94\\x8c\\x02fr\\x94\\x8c\\x07Accueil\\x94u\\x8c\\nmenu_about\\x94}\\x94(h\\x08\\x8c\\x05About\\x94h\\x04\\x8c\\x06Acerca\\x94h\\x0b\\x8c\\t\\xc3\\x80 Propos\\x94u\\x8c\\x0cmenu_contact\\x94}\\x94(h\\x08\\x8c\\x07Contact\\x94h\\x04\\x8c\\x08Contacto\\x94h\\x0bh\\x14uut\\x94\\x8c\\x06output\\x94\\x8c@<a class=\"banner\" href=\"http://example.com?lang=es\">Contacto</a>\\x94u.',\n",
       "   b'\\x80\\x04\\x95\\x19\\x01\\x00\\x00\\x00\\x00\\x00\\x00}\\x94(\\x8c\\x05input\\x94(\\x8c\\x05about\\x94\\x8c\\x12http://example.com\\x94\\x8c\\x02en\\x94}\\x94(\\x8c\\tmenu_home\\x94}\\x94(h\\x04\\x8c\\x04Home\\x94\\x8c\\x02es\\x94\\x8c\\x06Inicio\\x94\\x8c\\x02fr\\x94\\x8c\\x07Accueil\\x94u\\x8c\\nmenu_about\\x94}\\x94(h\\x04\\x8c\\x05About\\x94h\\t\\x8c\\x06Acerca\\x94h\\x0b\\x8c\\t\\xc3\\x80 Propos\\x94u\\x8c\\x0cmenu_contact\\x94}\\x94(h\\x04\\x8c\\x07Contact\\x94h\\t\\x8c\\x08Contacto\\x94h\\x0bh\\x14uut\\x94\\x8c\\x06output\\x94\\x8c=<a class=\"banner\" href=\"http://example.com?lang=en\">About</a>\\x94u.',\n",
       "   b'\\x80\\x04\\x95\\x19\\x01\\x00\\x00\\x00\\x00\\x00\\x00}\\x94(\\x8c\\x05input\\x94(\\x8c\\x05about\\x94\\x8c\\x12http://example.com\\x94\\x8c\\x02en\\x94}\\x94(\\x8c\\tmenu_home\\x94}\\x94(h\\x04\\x8c\\x04Home\\x94\\x8c\\x02es\\x94\\x8c\\x06Inicio\\x94\\x8c\\x02fr\\x94\\x8c\\x07Accueil\\x94u\\x8c\\nmenu_about\\x94}\\x94(h\\x04\\x8c\\x05About\\x94h\\t\\x8c\\x06Acerca\\x94h\\x0b\\x8c\\t\\xc3\\x80 Propos\\x94u\\x8c\\x0cmenu_contact\\x94}\\x94(h\\x04\\x8c\\x07Contact\\x94h\\t\\x8c\\x08Contacto\\x94h\\x0bh\\x14uut\\x94\\x8c\\x06output\\x94\\x8c=<a class=\"banner\" href=\"http://example.com?lang=en\">About</a>\\x94u.',\n",
       "   b'\\x80\\x04\\x95?\\x01\\x00\\x00\\x00\\x00\\x00\\x00}\\x94(\\x8c\\x05input\\x94(\\x8c\\x04home\\x94\\x8c\\x12http://example.com\\x94\\x8c\\x02es\\x94}\\x94(\\x8c\\tmenu_home\\x94}\\x94(\\x8c\\x02en\\x94\\x8c\\x04Home\\x94h\\x04\\x8c\\x06Inicio\\x94\\x8c\\x02fr\\x94\\x8c\\x07Accueil\\x94u\\x8c\\nmenu_about\\x94}\\x94(h\\x08\\x8c\\x05About\\x94h\\x04\\x8c\\x06Acerca\\x94h\\x0b\\x8c\\t\\xc3\\x80 Propos\\x94u\\x8c\\x0cmenu_contact\\x94}\\x94(h\\x08\\x8c\\x07Contact\\x94h\\x04\\x8c\\x08Contacto\\x94h\\x0bh\\x14uut\\x94\\x8c\\x06output\\x94\\x8cd<td class=\"logo\"><a href=\"http://example.com?lang=es\"><img src=\"/brython.svg\" class=\"logo\"></a></td>\\x94u.',\n",
       "   b'\\x80\\x04\\x95?\\x01\\x00\\x00\\x00\\x00\\x00\\x00}\\x94(\\x8c\\x05input\\x94(\\x8c\\x04home\\x94\\x8c\\x12http://example.com\\x94\\x8c\\x02fr\\x94}\\x94(\\x8c\\tmenu_home\\x94}\\x94(\\x8c\\x02en\\x94\\x8c\\x04Home\\x94\\x8c\\x02es\\x94\\x8c\\x06Inicio\\x94h\\x04\\x8c\\x07Accueil\\x94u\\x8c\\nmenu_about\\x94}\\x94(h\\x08\\x8c\\x05About\\x94h\\n\\x8c\\x06Acerca\\x94h\\x04\\x8c\\t\\xc3\\x80 Propos\\x94u\\x8c\\x0cmenu_contact\\x94}\\x94(h\\x08\\x8c\\x07Contact\\x94h\\n\\x8c\\x08Contacto\\x94h\\x04h\\x14uut\\x94\\x8c\\x06output\\x94\\x8cd<td class=\"logo\"><a href=\"http://example.com?lang=fr\"><img src=\"/brython.svg\" class=\"logo\"></a></td>\\x94u.',\n",
       "   b'\\x80\\x04\\x95?\\x01\\x00\\x00\\x00\\x00\\x00\\x00}\\x94(\\x8c\\x05input\\x94(\\x8c\\x04home\\x94\\x8c\\x12http://example.com\\x94\\x8c\\x02es\\x94}\\x94(\\x8c\\tmenu_home\\x94}\\x94(\\x8c\\x02en\\x94\\x8c\\x04Home\\x94h\\x04\\x8c\\x06Inicio\\x94\\x8c\\x02fr\\x94\\x8c\\x07Accueil\\x94u\\x8c\\nmenu_about\\x94}\\x94(h\\x08\\x8c\\x05About\\x94h\\x04\\x8c\\x06Acerca\\x94h\\x0b\\x8c\\t\\xc3\\x80 Propos\\x94u\\x8c\\x0cmenu_contact\\x94}\\x94(h\\x08\\x8c\\x07Contact\\x94h\\x04\\x8c\\x08Contacto\\x94h\\x0bh\\x14uut\\x94\\x8c\\x06output\\x94\\x8cd<td class=\"logo\"><a href=\"http://example.com?lang=es\"><img src=\"/brython.svg\" class=\"logo\"></a></td>\\x94u.',\n",
       "   b'\\x80\\x04\\x95\\x1a\\x01\\x00\\x00\\x00\\x00\\x00\\x00}\\x94(\\x8c\\x05input\\x94(\\x8c\\x05about\\x94\\x8c\\x12http://example.com\\x94\\x8c\\x02es\\x94}\\x94(\\x8c\\tmenu_home\\x94}\\x94(\\x8c\\x02en\\x94\\x8c\\x04Home\\x94h\\x04\\x8c\\x06Inicio\\x94\\x8c\\x02fr\\x94\\x8c\\x07Accueil\\x94u\\x8c\\nmenu_about\\x94}\\x94(h\\x08\\x8c\\x05About\\x94h\\x04\\x8c\\x06Acerca\\x94h\\x0b\\x8c\\t\\xc3\\x80 Propos\\x94u\\x8c\\x0cmenu_contact\\x94}\\x94(h\\x08\\x8c\\x07Contact\\x94h\\x04\\x8c\\x08Contacto\\x94h\\x0bh\\x14uut\\x94\\x8c\\x06output\\x94\\x8c><a class=\"banner\" href=\"http://example.com?lang=es\">Acerca</a>\\x94u.',\n",
       "   b'\\x80\\x04\\x95?\\x01\\x00\\x00\\x00\\x00\\x00\\x00}\\x94(\\x8c\\x05input\\x94(\\x8c\\x04home\\x94\\x8c\\x12http://example.com\\x94\\x8c\\x02fr\\x94}\\x94(\\x8c\\tmenu_home\\x94}\\x94(\\x8c\\x02en\\x94\\x8c\\x04Home\\x94\\x8c\\x02es\\x94\\x8c\\x06Inicio\\x94h\\x04\\x8c\\x07Accueil\\x94u\\x8c\\nmenu_about\\x94}\\x94(h\\x08\\x8c\\x05About\\x94h\\n\\x8c\\x06Acerca\\x94h\\x04\\x8c\\t\\xc3\\x80 Propos\\x94u\\x8c\\x0cmenu_contact\\x94}\\x94(h\\x08\\x8c\\x07Contact\\x94h\\n\\x8c\\x08Contacto\\x94h\\x04h\\x14uut\\x94\\x8c\\x06output\\x94\\x8cd<td class=\"logo\"><a href=\"http://example.com?lang=fr\"><img src=\"/brython.svg\" class=\"logo\"></a></td>\\x94u.',\n",
       "   b'\\x80\\x04\\x95\\x1d\\x01\\x00\\x00\\x00\\x00\\x00\\x00}\\x94(\\x8c\\x05input\\x94(\\x8c\\x05about\\x94\\x8c\\x12http://example.com\\x94\\x8c\\x02fr\\x94}\\x94(\\x8c\\tmenu_home\\x94}\\x94(\\x8c\\x02en\\x94\\x8c\\x04Home\\x94\\x8c\\x02es\\x94\\x8c\\x06Inicio\\x94h\\x04\\x8c\\x07Accueil\\x94u\\x8c\\nmenu_about\\x94}\\x94(h\\x08\\x8c\\x05About\\x94h\\n\\x8c\\x06Acerca\\x94h\\x04\\x8c\\t\\xc3\\x80 Propos\\x94u\\x8c\\x0cmenu_contact\\x94}\\x94(h\\x08\\x8c\\x07Contact\\x94h\\n\\x8c\\x08Contacto\\x94h\\x04h\\x14uut\\x94\\x8c\\x06output\\x94\\x8cA<a class=\"banner\" href=\"http://example.com?lang=fr\">\\xc3\\x80 Propos</a>\\x94u.',\n",
       "   b'\\x80\\x04\\x95?\\x01\\x00\\x00\\x00\\x00\\x00\\x00}\\x94(\\x8c\\x05input\\x94(\\x8c\\x04home\\x94\\x8c\\x12http://example.com\\x94\\x8c\\x02en\\x94}\\x94(\\x8c\\tmenu_home\\x94}\\x94(h\\x04\\x8c\\x04Home\\x94\\x8c\\x02es\\x94\\x8c\\x06Inicio\\x94\\x8c\\x02fr\\x94\\x8c\\x07Accueil\\x94u\\x8c\\nmenu_about\\x94}\\x94(h\\x04\\x8c\\x05About\\x94h\\t\\x8c\\x06Acerca\\x94h\\x0b\\x8c\\t\\xc3\\x80 Propos\\x94u\\x8c\\x0cmenu_contact\\x94}\\x94(h\\x04\\x8c\\x07Contact\\x94h\\t\\x8c\\x08Contacto\\x94h\\x0bh\\x14uut\\x94\\x8c\\x06output\\x94\\x8cd<td class=\"logo\"><a href=\"http://example.com?lang=en\"><img src=\"/brython.svg\" class=\"logo\"></a></td>\\x94u.']},\n",
       " 'solutions': [{'code': 'def solution(key, href, language, trans_menu):\\n    href += \\'?lang=%s\\' % language\\n    if key == \\'home\\':\\n        img = \\'<img src=\"/brython.svg\" class=\"logo\">\\'\\n        link = \\'<a href=\"%s\">%s</a>\\' % (href, img)\\n        cell = \\'<td class=\"logo\">%s</td>\\' % link\\n        return cell\\n    else:\\n        link_text = trans_menu[\\'menu_%s\\' % key][language]\\n        link = \\'<a class=\"banner\" href=\"%s\">%s</a>\\' % (href, link_text)\\n        return link',\n",
       "   'code_mem': 8321817,\n",
       "   'code_time': 0.024407386779785156,\n",
       "   'status': 'success',\n",
       "   'traceback': None}],\n",
       " 'code_reference': 'Code Snippet:\\n            # add lang to href\\n            href += \\'?lang=%s\\' %language\\n        if key == \\'home\\':\\n            img = IMG(src=\"/brython.svg\",Class=\"logo\")\\n            link = A(img,href=href)\\n            cell = TD(link, Class=\"logo\")\\n        else:\\n            link = A(trans_menu[\\'menu_%s\\'%key][language], href=href,\\n                Class=\"banner\")\\n\\n'}"
      ]
     },
     "execution_count": 3,
     "metadata": {},
     "output_type": "execute_result"
    }
   ],
   "source": [
    "ds['train'][0]"
   ]
  },
  {
   "cell_type": "code",
   "execution_count": null,
   "metadata": {},
   "outputs": [],
   "source": []
  }
 ],
 "metadata": {
  "kernelspec": {
   "display_name": "venus",
   "language": "python",
   "name": "python3"
  },
  "language_info": {
   "codemirror_mode": {
    "name": "ipython",
    "version": 3
   },
   "file_extension": ".py",
   "mimetype": "text/x-python",
   "name": "python",
   "nbconvert_exporter": "python",
   "pygments_lexer": "ipython3",
   "version": "3.10.14"
  }
 },
 "nbformat": 4,
 "nbformat_minor": 2
}
