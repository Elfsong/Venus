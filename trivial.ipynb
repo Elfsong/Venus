{
 "cells": [
  {
   "cell_type": "code",
   "execution_count": 1,
   "metadata": {},
   "outputs": [],
   "source": [
    "import json\n",
    "from datasets import load_dataset, Dataset"
   ]
  },
  {
   "cell_type": "code",
   "execution_count": null,
   "metadata": {},
   "outputs": [],
   "source": [
    "ds = load_dataset(\"Elfsong/venus_temp\")"
   ]
  },
  {
   "cell_type": "code",
   "execution_count": 6,
   "metadata": {},
   "outputs": [
    {
     "name": "stdout",
     "output_type": "stream",
     "text": [
      "{'error': 'The server is busier than usual and the response is not ready yet. Please retry later.'}\n"
     ]
    }
   ],
   "source": [
    "import requests\n",
    "API_URL = \"https://datasets-server.huggingface.co/splits?dataset=Elfsong/venus_temp\"\n",
    "def query():\n",
    "    response = requests.get(API_URL)\n",
    "    return response.json()\n",
    "data = query()\n",
    "print(data)"
   ]
  },
  {
   "cell_type": "code",
   "execution_count": 7,
   "metadata": {},
   "outputs": [],
   "source": [
    "from datasets import get_dataset_config_names"
   ]
  },
  {
   "cell_type": "code",
   "execution_count": 10,
   "metadata": {},
   "outputs": [],
   "source": [
    "configs = get_dataset_config_names(\"Elfsong/venus_temp\")"
   ]
  },
  {
   "cell_type": "code",
   "execution_count": 12,
   "metadata": {},
   "outputs": [],
   "source": [
    "subsets = [config for config in configs if config.startswith(\"golang\")]"
   ]
  },
  {
   "cell_type": "code",
   "execution_count": 13,
   "metadata": {},
   "outputs": [
    {
     "data": {
      "text/plain": [
       "['golang-47d03094-a32f-11ef-9bd7-0242ac11000d',\n",
       " 'golang-6a17be34-a32e-11ef-9bd7-0242ac11000d',\n",
       " 'golang-b990b8ea-a32d-11ef-9bd7-0242ac11000d']"
      ]
     },
     "execution_count": 13,
     "metadata": {},
     "output_type": "execute_result"
    }
   ],
   "source": [
    "subsets"
   ]
  },
  {
   "cell_type": "code",
   "execution_count": null,
   "metadata": {},
   "outputs": [],
   "source": [
    "# Quartile Construction\n",
    "c = 0\n",
    "quartile = {\"q1\": list(), \"q2\": list(), \"q3\": list(), \"q4\": list()}\n",
    "\n",
    "for metric, precentile in json.loads(ds['train'][0]['runtimeDistribution'])['distribution']:\n",
    "    if c < 25:\n",
    "        quartile['q1'].append(metric)\n",
    "    elif c < 50:\n",
    "        quartile['q2'].append(metric)\n",
    "    elif c < 75:\n",
    "        quartile['q3'].append(metric)\n",
    "    else:\n",
    "        quartile['q4'].append(metric)\n",
    "    c += precentile\n",
    "print()\n"
   ]
  },
  {
   "cell_type": "code",
   "execution_count": null,
   "metadata": {},
   "outputs": [],
   "source": [
    "quartile[\"q2\"]"
   ]
  },
  {
   "cell_type": "code",
   "execution_count": null,
   "metadata": {},
   "outputs": [],
   "source": [
    "quartile[\"q3\"]"
   ]
  },
  {
   "cell_type": "code",
   "execution_count": null,
   "metadata": {},
   "outputs": [],
   "source": [
    "quartile[\"q4\"]"
   ]
  },
  {
   "cell_type": "code",
   "execution_count": null,
   "metadata": {},
   "outputs": [],
   "source": [
    "remove_id_list = [131, 289, 349, 46]"
   ]
  },
  {
   "cell_type": "code",
   "execution_count": null,
   "metadata": {},
   "outputs": [],
   "source": [
    "from datasets import load_dataset\n",
    "subset = \"python3-memory\"\n",
    "ds = load_dataset(\"Elfsong/Venus_PCD\", subset)\n",
    "ds = ds['train'].train_test_split(test_size=0.1)\n",
    "ds.push_to_hub(\"Elfsong/Venus_PCD\", subset)"
   ]
  },
  {
   "cell_type": "code",
   "execution_count": null,
   "metadata": {},
   "outputs": [],
   "source": []
  }
 ],
 "metadata": {
  "kernelspec": {
   "display_name": "venus",
   "language": "python",
   "name": "python3"
  },
  "language_info": {
   "codemirror_mode": {
    "name": "ipython",
    "version": 3
   },
   "file_extension": ".py",
   "mimetype": "text/x-python",
   "name": "python",
   "nbconvert_exporter": "python",
   "pygments_lexer": "ipython3",
   "version": "3.9.19"
  }
 },
 "nbformat": 4,
 "nbformat_minor": 2
}
