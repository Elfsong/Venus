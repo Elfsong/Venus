{
 "cells": [
  {
   "cell_type": "code",
   "execution_count": 7,
   "metadata": {},
   "outputs": [],
   "source": [
    "import json\n",
    "from datasets import load_dataset, Dataset"
   ]
  },
  {
   "cell_type": "code",
   "execution_count": 2,
   "metadata": {},
   "outputs": [],
   "source": [
    "ds = load_dataset(\"Elfsong/Venus\", \"python3\")"
   ]
  },
  {
   "cell_type": "code",
   "execution_count": 17,
   "metadata": {},
   "outputs": [
    {
     "name": "stdout",
     "output_type": "stream",
     "text": [
      "{'q1': ['102', '108', '114', '119', '125', '131', '136', '142', '147', '153', '159', '164', '170', '176', '181', '187', '193', '198', '204', '209', '215', '221', '226', '232', '238', '243', '249', '255', '260', '266', '271', '277', '283', '288', '294', '300', '305', '311', '317', '322', '328', '333', '339', '345'], 'q2': ['350', '356', '362', '367', '373', '379', '384', '390', '395'], 'q3': ['401', '407', '412', '418', '424', '429', '435', '441', '446', '452', '457', '463'], 'q4': ['469', '474', '480', '486', '491', '497', '503', '508', '514', '519', '525', '531', '536', '542', '548']}\n"
     ]
    }
   ],
   "source": [
    "# Quartile Construction\n",
    "c = 0\n",
    "quartile = {\"q1\": list(), \"q2\": list(), \"q3\": list(), \"q4\": list()}\n",
    "\n",
    "for metric, precentile in json.loads(ds['train'][0]['runtimeDistribution'])['distribution']:\n",
    "    if c < 25:\n",
    "        quartile['q1'].append(metric)\n",
    "    elif c < 50:\n",
    "        quartile['q2'].append(metric)\n",
    "    elif c < 75:\n",
    "        quartile['q3'].append(metric)\n",
    "    else:\n",
    "        quartile['q4'].append(metric)\n",
    "    c += precentile\n",
    "print()\n"
   ]
  },
  {
   "cell_type": "code",
   "execution_count": 19,
   "metadata": {},
   "outputs": [
    {
     "data": {
      "text/plain": [
       "['350', '356', '362', '367', '373', '379', '384', '390', '395']"
      ]
     },
     "execution_count": 19,
     "metadata": {},
     "output_type": "execute_result"
    }
   ],
   "source": [
    "quartile[\"q2\"]"
   ]
  },
  {
   "cell_type": "code",
   "execution_count": 20,
   "metadata": {},
   "outputs": [
    {
     "data": {
      "text/plain": [
       "['401',\n",
       " '407',\n",
       " '412',\n",
       " '418',\n",
       " '424',\n",
       " '429',\n",
       " '435',\n",
       " '441',\n",
       " '446',\n",
       " '452',\n",
       " '457',\n",
       " '463']"
      ]
     },
     "execution_count": 20,
     "metadata": {},
     "output_type": "execute_result"
    }
   ],
   "source": [
    "quartile[\"q3\"]"
   ]
  },
  {
   "cell_type": "code",
   "execution_count": 21,
   "metadata": {},
   "outputs": [
    {
     "data": {
      "text/plain": [
       "['469',\n",
       " '474',\n",
       " '480',\n",
       " '486',\n",
       " '491',\n",
       " '497',\n",
       " '503',\n",
       " '508',\n",
       " '514',\n",
       " '519',\n",
       " '525',\n",
       " '531',\n",
       " '536',\n",
       " '542',\n",
       " '548']"
      ]
     },
     "execution_count": 21,
     "metadata": {},
     "output_type": "execute_result"
    }
   ],
   "source": [
    "quartile[\"q4\"]"
   ]
  },
  {
   "cell_type": "code",
   "execution_count": null,
   "metadata": {},
   "outputs": [],
   "source": [
    "remove_id_list = [131, 289, 349, 46]"
   ]
  },
  {
   "cell_type": "code",
   "execution_count": 8,
   "metadata": {},
   "outputs": [
    {
     "data": {
      "application/vnd.jupyter.widget-view+json": {
       "model_id": "6d718946e6344eaf9c7c2939a84f613c",
       "version_major": 2,
       "version_minor": 0
      },
      "text/plain": [
       "Downloading readme:   0%|          | 0.00/2.33k [00:00<?, ?B/s]"
      ]
     },
     "metadata": {},
     "output_type": "display_data"
    },
    {
     "data": {
      "application/vnd.jupyter.widget-view+json": {
       "model_id": "77578ba5532248239a2179ef3b122e2b",
       "version_major": 2,
       "version_minor": 0
      },
      "text/plain": [
       "Downloading data:   0%|          | 0.00/62.4M [00:00<?, ?B/s]"
      ]
     },
     "metadata": {},
     "output_type": "display_data"
    }
   ],
   "source": [
    "from datasets import load_dataset\n",
    "subset = \"python3-memory\"\n",
    "ds = load_dataset(\"Elfsong/Venus_PCD\", subset)\n",
    "ds = ds['train'].train_test_split(test_size=0.1)\n",
    "ds.push_to_hub(\"Elfsong/Venus_PCD\", subset)"
   ]
  },
  {
   "cell_type": "code",
   "execution_count": null,
   "metadata": {},
   "outputs": [],
   "source": []
  }
 ],
 "metadata": {
  "kernelspec": {
   "display_name": "venus",
   "language": "python",
   "name": "python3"
  },
  "language_info": {
   "codemirror_mode": {
    "name": "ipython",
    "version": 3
   },
   "file_extension": ".py",
   "mimetype": "text/x-python",
   "name": "python",
   "nbconvert_exporter": "python",
   "pygments_lexer": "ipython3",
   "version": "3.10.14"
  }
 },
 "nbformat": 4,
 "nbformat_minor": 2
}
