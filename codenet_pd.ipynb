{
 "cells": [
  {
   "cell_type": "code",
   "execution_count": 1,
   "metadata": {},
   "outputs": [],
   "source": [
    "data_path = \"/Users/mingzhe/Downloads/Project_CodeNet/problem_descriptions\""
   ]
  },
  {
   "cell_type": "code",
   "execution_count": 4,
   "metadata": {},
   "outputs": [
    {
     "name": "stderr",
     "output_type": "stream",
     "text": [
      "Processing files: 100%|██████████| 3999/3999 [00:00<00:00, 29982.66it/s]\n",
      "Creating parquet from Arrow format: 100%|██████████| 4/4 [00:00<00:00, 102.45ba/s]\n",
      "Uploading the dataset shards: 100%|██████████| 1/1 [00:03<00:00,  3.17s/it]\n"
     ]
    },
    {
     "name": "stdout",
     "output_type": "stream",
     "text": [
      "Dataset uploaded successfully!\n"
     ]
    }
   ],
   "source": [
    "import os\n",
    "from datasets import Dataset\n",
    "from huggingface_hub import HfApi, HfFolder\n",
    "from tqdm import tqdm\n",
    "\n",
    "# Initialize an empty list to store the dictionaries\n",
    "data_list = []\n",
    "\n",
    "# Iterate through each file in the data_path\n",
    "for filename in tqdm(os.listdir(data_path), desc=\"Processing files\"):\n",
    "    file_path = os.path.join(data_path, filename)\n",
    "    \n",
    "    # Check if it's a file (not a directory)\n",
    "    if os.path.isfile(file_path):\n",
    "        with open(file_path, 'r') as file:\n",
    "            content = file.read()\n",
    "        \n",
    "        # Create a dictionary for each file\n",
    "        data_dict = {\n",
    "            \"question_id\": filename.split('.')[0],\n",
    "            \"content\": content,\n",
    "        }\n",
    "        \n",
    "        # Append the dictionary to the list\n",
    "        data_list.append(data_dict)\n",
    "\n",
    "dataset = Dataset.from_list(data_list)\n",
    "dataset.push_to_hub(\"Elfsong/CodeNet_Problem\")\n",
    "\n",
    "print(\"Dataset uploaded successfully!\")"
   ]
  },
  {
   "cell_type": "code",
   "execution_count": null,
   "metadata": {},
   "outputs": [],
   "source": []
  }
 ],
 "metadata": {
  "kernelspec": {
   "display_name": "workspace",
   "language": "python",
   "name": "python3"
  },
  "language_info": {
   "codemirror_mode": {
    "name": "ipython",
    "version": 3
   },
   "file_extension": ".py",
   "mimetype": "text/x-python",
   "name": "python",
   "nbconvert_exporter": "python",
   "pygments_lexer": "ipython3",
   "version": "3.10.14"
  }
 },
 "nbformat": 4,
 "nbformat_minor": 2
}
